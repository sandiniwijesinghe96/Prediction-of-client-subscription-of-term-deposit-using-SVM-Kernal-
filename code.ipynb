{
  "nbformat": 4,
  "nbformat_minor": 0,
  "metadata": {
    "kernelspec": {
      "display_name": "Python 3",
      "language": "python",
      "name": "python3"
    },
    "language_info": {
      "codemirror_mode": {
        "name": "ipython",
        "version": 3
      },
      "file_extension": ".py",
      "mimetype": "text/x-python",
      "name": "python",
      "nbconvert_exporter": "python",
      "pygments_lexer": "ipython3",
      "version": "3.8.5"
    },
    "colab": {
      "name": "final_ML.ipynb",
      "provenance": [],
      "collapsed_sections": []
    }
  },
  "cells": [
    {
      "cell_type": "code",
      "metadata": {
        "id": "9FjG-2-8SCiZ"
      },
      "source": [
        "# import python libraries\n",
        "import pandas as pd\n",
        "import numpy as np\n",
        "import matplotlib.pyplot as plt\n",
        "import scipy.stats as stats\n",
        "import seaborn as sns\n",
        "from sklearn.metrics import confusion_matrix, accuracy_score, mean_squared_error, mean_absolute_error\n",
        "from sklearn.neural_network import MLPClassifier\n",
        "from sklearn.preprocessing import FunctionTransformer, OneHotEncoder, StandardScaler\n",
        "from sklearn.model_selection import train_test_split\n",
        "from sklearn.decomposition import PCA\n",
        "from tensorflow.keras import Sequential\n",
        "from tensorflow.keras.layers import Dense\n",
        "from keras.optimizers import SGD"
      ],
      "execution_count": 2,
      "outputs": []
    },
    {
      "cell_type": "code",
      "metadata": {
        "colab": {
          "base_uri": "https://localhost:8080/"
        },
        "id": "wIrHr6lPSbQR",
        "outputId": "1137b773-4ef7-4762-ee06-ed9c7456c3c6"
      },
      "source": [
        "from google.colab import drive\n",
        "drive.mount(\"/content/gdrive\")"
      ],
      "execution_count": 3,
      "outputs": [
        {
          "output_type": "stream",
          "text": [
            "Mounted at /content/gdrive\n"
          ],
          "name": "stdout"
        }
      ]
    },
    {
      "cell_type": "code",
      "metadata": {
        "colab": {
          "base_uri": "https://localhost:8080/",
          "height": 371
        },
        "id": "USipvMQ9SCia",
        "outputId": "077592da-39a4-4947-d6bf-28cd52b9de00"
      },
      "source": [
        "# load the dataset and show first 10 records\n",
        "data_set = pd.read_csv('/content/gdrive/MyDrive/Colab Notebooks/ML/data/banking.csv')\n",
        "data_set.head(10)"
      ],
      "execution_count": 4,
      "outputs": [
        {
          "output_type": "execute_result",
          "data": {
            "text/html": [
              "<div>\n",
              "<style scoped>\n",
              "    .dataframe tbody tr th:only-of-type {\n",
              "        vertical-align: middle;\n",
              "    }\n",
              "\n",
              "    .dataframe tbody tr th {\n",
              "        vertical-align: top;\n",
              "    }\n",
              "\n",
              "    .dataframe thead th {\n",
              "        text-align: right;\n",
              "    }\n",
              "</style>\n",
              "<table border=\"1\" class=\"dataframe\">\n",
              "  <thead>\n",
              "    <tr style=\"text-align: right;\">\n",
              "      <th></th>\n",
              "      <th>age</th>\n",
              "      <th>job</th>\n",
              "      <th>marital</th>\n",
              "      <th>education</th>\n",
              "      <th>default</th>\n",
              "      <th>housing</th>\n",
              "      <th>loan</th>\n",
              "      <th>contact</th>\n",
              "      <th>month</th>\n",
              "      <th>day_of_week</th>\n",
              "      <th>duration</th>\n",
              "      <th>campaign</th>\n",
              "      <th>pdays</th>\n",
              "      <th>previous</th>\n",
              "      <th>poutcome</th>\n",
              "      <th>emp_var_rate</th>\n",
              "      <th>cons_price_idx</th>\n",
              "      <th>cons_conf_idx</th>\n",
              "      <th>euribor3m</th>\n",
              "      <th>nr_employed</th>\n",
              "      <th>y</th>\n",
              "    </tr>\n",
              "  </thead>\n",
              "  <tbody>\n",
              "    <tr>\n",
              "      <th>0</th>\n",
              "      <td>44</td>\n",
              "      <td>blue-collar</td>\n",
              "      <td>married</td>\n",
              "      <td>basic.4y</td>\n",
              "      <td>unknown</td>\n",
              "      <td>yes</td>\n",
              "      <td>no</td>\n",
              "      <td>cellular</td>\n",
              "      <td>aug</td>\n",
              "      <td>thu</td>\n",
              "      <td>210</td>\n",
              "      <td>1</td>\n",
              "      <td>999</td>\n",
              "      <td>0</td>\n",
              "      <td>nonexistent</td>\n",
              "      <td>1.4</td>\n",
              "      <td>93.444</td>\n",
              "      <td>-36.1</td>\n",
              "      <td>4.963</td>\n",
              "      <td>5228.1</td>\n",
              "      <td>0</td>\n",
              "    </tr>\n",
              "    <tr>\n",
              "      <th>1</th>\n",
              "      <td>53</td>\n",
              "      <td>technician</td>\n",
              "      <td>married</td>\n",
              "      <td>unknown</td>\n",
              "      <td>no</td>\n",
              "      <td>no</td>\n",
              "      <td>no</td>\n",
              "      <td>cellular</td>\n",
              "      <td>nov</td>\n",
              "      <td>fri</td>\n",
              "      <td>138</td>\n",
              "      <td>1</td>\n",
              "      <td>999</td>\n",
              "      <td>0</td>\n",
              "      <td>nonexistent</td>\n",
              "      <td>-0.1</td>\n",
              "      <td>93.200</td>\n",
              "      <td>-42.0</td>\n",
              "      <td>4.021</td>\n",
              "      <td>5195.8</td>\n",
              "      <td>0</td>\n",
              "    </tr>\n",
              "    <tr>\n",
              "      <th>2</th>\n",
              "      <td>28</td>\n",
              "      <td>management</td>\n",
              "      <td>single</td>\n",
              "      <td>university.degree</td>\n",
              "      <td>no</td>\n",
              "      <td>yes</td>\n",
              "      <td>no</td>\n",
              "      <td>cellular</td>\n",
              "      <td>jun</td>\n",
              "      <td>thu</td>\n",
              "      <td>339</td>\n",
              "      <td>3</td>\n",
              "      <td>6</td>\n",
              "      <td>2</td>\n",
              "      <td>success</td>\n",
              "      <td>-1.7</td>\n",
              "      <td>94.055</td>\n",
              "      <td>-39.8</td>\n",
              "      <td>0.729</td>\n",
              "      <td>4991.6</td>\n",
              "      <td>1</td>\n",
              "    </tr>\n",
              "    <tr>\n",
              "      <th>3</th>\n",
              "      <td>39</td>\n",
              "      <td>services</td>\n",
              "      <td>married</td>\n",
              "      <td>high.school</td>\n",
              "      <td>no</td>\n",
              "      <td>no</td>\n",
              "      <td>no</td>\n",
              "      <td>cellular</td>\n",
              "      <td>apr</td>\n",
              "      <td>fri</td>\n",
              "      <td>185</td>\n",
              "      <td>2</td>\n",
              "      <td>999</td>\n",
              "      <td>0</td>\n",
              "      <td>nonexistent</td>\n",
              "      <td>-1.8</td>\n",
              "      <td>93.075</td>\n",
              "      <td>-47.1</td>\n",
              "      <td>1.405</td>\n",
              "      <td>5099.1</td>\n",
              "      <td>0</td>\n",
              "    </tr>\n",
              "    <tr>\n",
              "      <th>4</th>\n",
              "      <td>55</td>\n",
              "      <td>retired</td>\n",
              "      <td>married</td>\n",
              "      <td>basic.4y</td>\n",
              "      <td>no</td>\n",
              "      <td>yes</td>\n",
              "      <td>no</td>\n",
              "      <td>cellular</td>\n",
              "      <td>aug</td>\n",
              "      <td>fri</td>\n",
              "      <td>137</td>\n",
              "      <td>1</td>\n",
              "      <td>3</td>\n",
              "      <td>1</td>\n",
              "      <td>success</td>\n",
              "      <td>-2.9</td>\n",
              "      <td>92.201</td>\n",
              "      <td>-31.4</td>\n",
              "      <td>0.869</td>\n",
              "      <td>5076.2</td>\n",
              "      <td>1</td>\n",
              "    </tr>\n",
              "    <tr>\n",
              "      <th>5</th>\n",
              "      <td>30</td>\n",
              "      <td>management</td>\n",
              "      <td>divorced</td>\n",
              "      <td>basic.4y</td>\n",
              "      <td>no</td>\n",
              "      <td>yes</td>\n",
              "      <td>no</td>\n",
              "      <td>cellular</td>\n",
              "      <td>jul</td>\n",
              "      <td>tue</td>\n",
              "      <td>68</td>\n",
              "      <td>8</td>\n",
              "      <td>999</td>\n",
              "      <td>0</td>\n",
              "      <td>nonexistent</td>\n",
              "      <td>1.4</td>\n",
              "      <td>93.918</td>\n",
              "      <td>-42.7</td>\n",
              "      <td>4.961</td>\n",
              "      <td>5228.1</td>\n",
              "      <td>0</td>\n",
              "    </tr>\n",
              "    <tr>\n",
              "      <th>6</th>\n",
              "      <td>37</td>\n",
              "      <td>blue-collar</td>\n",
              "      <td>married</td>\n",
              "      <td>basic.4y</td>\n",
              "      <td>no</td>\n",
              "      <td>yes</td>\n",
              "      <td>no</td>\n",
              "      <td>cellular</td>\n",
              "      <td>may</td>\n",
              "      <td>thu</td>\n",
              "      <td>204</td>\n",
              "      <td>1</td>\n",
              "      <td>999</td>\n",
              "      <td>0</td>\n",
              "      <td>nonexistent</td>\n",
              "      <td>-1.8</td>\n",
              "      <td>92.893</td>\n",
              "      <td>-46.2</td>\n",
              "      <td>1.327</td>\n",
              "      <td>5099.1</td>\n",
              "      <td>0</td>\n",
              "    </tr>\n",
              "    <tr>\n",
              "      <th>7</th>\n",
              "      <td>39</td>\n",
              "      <td>blue-collar</td>\n",
              "      <td>divorced</td>\n",
              "      <td>basic.9y</td>\n",
              "      <td>no</td>\n",
              "      <td>yes</td>\n",
              "      <td>no</td>\n",
              "      <td>cellular</td>\n",
              "      <td>may</td>\n",
              "      <td>fri</td>\n",
              "      <td>191</td>\n",
              "      <td>1</td>\n",
              "      <td>999</td>\n",
              "      <td>0</td>\n",
              "      <td>nonexistent</td>\n",
              "      <td>-1.8</td>\n",
              "      <td>92.893</td>\n",
              "      <td>-46.2</td>\n",
              "      <td>1.313</td>\n",
              "      <td>5099.1</td>\n",
              "      <td>0</td>\n",
              "    </tr>\n",
              "    <tr>\n",
              "      <th>8</th>\n",
              "      <td>36</td>\n",
              "      <td>admin.</td>\n",
              "      <td>married</td>\n",
              "      <td>university.degree</td>\n",
              "      <td>no</td>\n",
              "      <td>no</td>\n",
              "      <td>no</td>\n",
              "      <td>cellular</td>\n",
              "      <td>jun</td>\n",
              "      <td>mon</td>\n",
              "      <td>174</td>\n",
              "      <td>1</td>\n",
              "      <td>3</td>\n",
              "      <td>1</td>\n",
              "      <td>success</td>\n",
              "      <td>-2.9</td>\n",
              "      <td>92.963</td>\n",
              "      <td>-40.8</td>\n",
              "      <td>1.266</td>\n",
              "      <td>5076.2</td>\n",
              "      <td>1</td>\n",
              "    </tr>\n",
              "    <tr>\n",
              "      <th>9</th>\n",
              "      <td>27</td>\n",
              "      <td>blue-collar</td>\n",
              "      <td>single</td>\n",
              "      <td>basic.4y</td>\n",
              "      <td>no</td>\n",
              "      <td>yes</td>\n",
              "      <td>no</td>\n",
              "      <td>cellular</td>\n",
              "      <td>apr</td>\n",
              "      <td>thu</td>\n",
              "      <td>191</td>\n",
              "      <td>2</td>\n",
              "      <td>999</td>\n",
              "      <td>1</td>\n",
              "      <td>failure</td>\n",
              "      <td>-1.8</td>\n",
              "      <td>93.075</td>\n",
              "      <td>-47.1</td>\n",
              "      <td>1.410</td>\n",
              "      <td>5099.1</td>\n",
              "      <td>0</td>\n",
              "    </tr>\n",
              "  </tbody>\n",
              "</table>\n",
              "</div>"
            ],
            "text/plain": [
              "   age          job   marital  ... euribor3m nr_employed  y\n",
              "0   44  blue-collar   married  ...     4.963      5228.1  0\n",
              "1   53   technician   married  ...     4.021      5195.8  0\n",
              "2   28   management    single  ...     0.729      4991.6  1\n",
              "3   39     services   married  ...     1.405      5099.1  0\n",
              "4   55      retired   married  ...     0.869      5076.2  1\n",
              "5   30   management  divorced  ...     4.961      5228.1  0\n",
              "6   37  blue-collar   married  ...     1.327      5099.1  0\n",
              "7   39  blue-collar  divorced  ...     1.313      5099.1  0\n",
              "8   36       admin.   married  ...     1.266      5076.2  1\n",
              "9   27  blue-collar    single  ...     1.410      5099.1  0\n",
              "\n",
              "[10 rows x 21 columns]"
            ]
          },
          "metadata": {
            "tags": []
          },
          "execution_count": 4
        }
      ]
    },
    {
      "cell_type": "code",
      "metadata": {
        "colab": {
          "base_uri": "https://localhost:8080/",
          "height": 290
        },
        "id": "YU_-SP88SCic",
        "outputId": "d3594ef9-d434-463c-f2f7-bb31ec2acf21"
      },
      "source": [
        "# describe summary\n",
        "data_set.describe()"
      ],
      "execution_count": 5,
      "outputs": [
        {
          "output_type": "execute_result",
          "data": {
            "text/html": [
              "<div>\n",
              "<style scoped>\n",
              "    .dataframe tbody tr th:only-of-type {\n",
              "        vertical-align: middle;\n",
              "    }\n",
              "\n",
              "    .dataframe tbody tr th {\n",
              "        vertical-align: top;\n",
              "    }\n",
              "\n",
              "    .dataframe thead th {\n",
              "        text-align: right;\n",
              "    }\n",
              "</style>\n",
              "<table border=\"1\" class=\"dataframe\">\n",
              "  <thead>\n",
              "    <tr style=\"text-align: right;\">\n",
              "      <th></th>\n",
              "      <th>age</th>\n",
              "      <th>duration</th>\n",
              "      <th>campaign</th>\n",
              "      <th>pdays</th>\n",
              "      <th>previous</th>\n",
              "      <th>emp_var_rate</th>\n",
              "      <th>cons_price_idx</th>\n",
              "      <th>cons_conf_idx</th>\n",
              "      <th>euribor3m</th>\n",
              "      <th>nr_employed</th>\n",
              "      <th>y</th>\n",
              "    </tr>\n",
              "  </thead>\n",
              "  <tbody>\n",
              "    <tr>\n",
              "      <th>count</th>\n",
              "      <td>41188.00000</td>\n",
              "      <td>41188.000000</td>\n",
              "      <td>41188.000000</td>\n",
              "      <td>41188.000000</td>\n",
              "      <td>41188.000000</td>\n",
              "      <td>41188.000000</td>\n",
              "      <td>41188.000000</td>\n",
              "      <td>41188.000000</td>\n",
              "      <td>41188.000000</td>\n",
              "      <td>41188.000000</td>\n",
              "      <td>41188.000000</td>\n",
              "    </tr>\n",
              "    <tr>\n",
              "      <th>mean</th>\n",
              "      <td>40.02406</td>\n",
              "      <td>258.285010</td>\n",
              "      <td>2.567593</td>\n",
              "      <td>962.475454</td>\n",
              "      <td>0.172963</td>\n",
              "      <td>0.081886</td>\n",
              "      <td>93.575664</td>\n",
              "      <td>-40.502600</td>\n",
              "      <td>3.621291</td>\n",
              "      <td>5167.035911</td>\n",
              "      <td>0.112654</td>\n",
              "    </tr>\n",
              "    <tr>\n",
              "      <th>std</th>\n",
              "      <td>10.42125</td>\n",
              "      <td>259.279249</td>\n",
              "      <td>2.770014</td>\n",
              "      <td>186.910907</td>\n",
              "      <td>0.494901</td>\n",
              "      <td>1.570960</td>\n",
              "      <td>0.578840</td>\n",
              "      <td>4.628198</td>\n",
              "      <td>1.734447</td>\n",
              "      <td>72.251528</td>\n",
              "      <td>0.316173</td>\n",
              "    </tr>\n",
              "    <tr>\n",
              "      <th>min</th>\n",
              "      <td>17.00000</td>\n",
              "      <td>0.000000</td>\n",
              "      <td>1.000000</td>\n",
              "      <td>0.000000</td>\n",
              "      <td>0.000000</td>\n",
              "      <td>-3.400000</td>\n",
              "      <td>92.201000</td>\n",
              "      <td>-50.800000</td>\n",
              "      <td>0.634000</td>\n",
              "      <td>4963.600000</td>\n",
              "      <td>0.000000</td>\n",
              "    </tr>\n",
              "    <tr>\n",
              "      <th>25%</th>\n",
              "      <td>32.00000</td>\n",
              "      <td>102.000000</td>\n",
              "      <td>1.000000</td>\n",
              "      <td>999.000000</td>\n",
              "      <td>0.000000</td>\n",
              "      <td>-1.800000</td>\n",
              "      <td>93.075000</td>\n",
              "      <td>-42.700000</td>\n",
              "      <td>1.344000</td>\n",
              "      <td>5099.100000</td>\n",
              "      <td>0.000000</td>\n",
              "    </tr>\n",
              "    <tr>\n",
              "      <th>50%</th>\n",
              "      <td>38.00000</td>\n",
              "      <td>180.000000</td>\n",
              "      <td>2.000000</td>\n",
              "      <td>999.000000</td>\n",
              "      <td>0.000000</td>\n",
              "      <td>1.100000</td>\n",
              "      <td>93.749000</td>\n",
              "      <td>-41.800000</td>\n",
              "      <td>4.857000</td>\n",
              "      <td>5191.000000</td>\n",
              "      <td>0.000000</td>\n",
              "    </tr>\n",
              "    <tr>\n",
              "      <th>75%</th>\n",
              "      <td>47.00000</td>\n",
              "      <td>319.000000</td>\n",
              "      <td>3.000000</td>\n",
              "      <td>999.000000</td>\n",
              "      <td>0.000000</td>\n",
              "      <td>1.400000</td>\n",
              "      <td>93.994000</td>\n",
              "      <td>-36.400000</td>\n",
              "      <td>4.961000</td>\n",
              "      <td>5228.100000</td>\n",
              "      <td>0.000000</td>\n",
              "    </tr>\n",
              "    <tr>\n",
              "      <th>max</th>\n",
              "      <td>98.00000</td>\n",
              "      <td>4918.000000</td>\n",
              "      <td>56.000000</td>\n",
              "      <td>999.000000</td>\n",
              "      <td>7.000000</td>\n",
              "      <td>1.400000</td>\n",
              "      <td>94.767000</td>\n",
              "      <td>-26.900000</td>\n",
              "      <td>5.045000</td>\n",
              "      <td>5228.100000</td>\n",
              "      <td>1.000000</td>\n",
              "    </tr>\n",
              "  </tbody>\n",
              "</table>\n",
              "</div>"
            ],
            "text/plain": [
              "               age      duration  ...   nr_employed             y\n",
              "count  41188.00000  41188.000000  ...  41188.000000  41188.000000\n",
              "mean      40.02406    258.285010  ...   5167.035911      0.112654\n",
              "std       10.42125    259.279249  ...     72.251528      0.316173\n",
              "min       17.00000      0.000000  ...   4963.600000      0.000000\n",
              "25%       32.00000    102.000000  ...   5099.100000      0.000000\n",
              "50%       38.00000    180.000000  ...   5191.000000      0.000000\n",
              "75%       47.00000    319.000000  ...   5228.100000      0.000000\n",
              "max       98.00000   4918.000000  ...   5228.100000      1.000000\n",
              "\n",
              "[8 rows x 11 columns]"
            ]
          },
          "metadata": {
            "tags": []
          },
          "execution_count": 5
        }
      ]
    },
    {
      "cell_type": "code",
      "metadata": {
        "colab": {
          "base_uri": "https://localhost:8080/"
        },
        "id": "QV3vGQPOsX8Z",
        "outputId": "4bfc896e-46cf-49c2-fdcf-6090df93beef"
      },
      "source": [
        "data_set.columns"
      ],
      "execution_count": 6,
      "outputs": [
        {
          "output_type": "execute_result",
          "data": {
            "text/plain": [
              "Index(['age', 'job', 'marital', 'education', 'default', 'housing', 'loan',\n",
              "       'contact', 'month', 'day_of_week', 'duration', 'campaign', 'pdays',\n",
              "       'previous', 'poutcome', 'emp_var_rate', 'cons_price_idx',\n",
              "       'cons_conf_idx', 'euribor3m', 'nr_employed', 'y'],\n",
              "      dtype='object')"
            ]
          },
          "metadata": {
            "tags": []
          },
          "execution_count": 6
        }
      ]
    },
    {
      "cell_type": "code",
      "metadata": {
        "colab": {
          "base_uri": "https://localhost:8080/"
        },
        "id": "kdW5TGHcsfo0",
        "outputId": "978cf00d-770c-4ed3-cf0e-d69011262fd9"
      },
      "source": [
        "data_set.shape"
      ],
      "execution_count": 7,
      "outputs": [
        {
          "output_type": "execute_result",
          "data": {
            "text/plain": [
              "(41188, 21)"
            ]
          },
          "metadata": {
            "tags": []
          },
          "execution_count": 7
        }
      ]
    },
    {
      "cell_type": "markdown",
      "metadata": {
        "id": "fqK0kHSOLP-i"
      },
      "source": [
        "# Preprocessing.\n"
      ]
    },
    {
      "cell_type": "markdown",
      "metadata": {
        "id": "AqR_gi2mLZ4y"
      },
      "source": [
        "Handling Missing Values"
      ]
    },
    {
      "cell_type": "code",
      "metadata": {
        "colab": {
          "base_uri": "https://localhost:8080/"
        },
        "id": "3aEr_UAaSCid",
        "outputId": "bbc73db3-6c8b-401f-8b64-1272169c48ba"
      },
      "source": [
        "data_set.isnull().any()"
      ],
      "execution_count": 8,
      "outputs": [
        {
          "output_type": "execute_result",
          "data": {
            "text/plain": [
              "age               False\n",
              "job               False\n",
              "marital           False\n",
              "education         False\n",
              "default           False\n",
              "housing           False\n",
              "loan              False\n",
              "contact           False\n",
              "month             False\n",
              "day_of_week       False\n",
              "duration          False\n",
              "campaign          False\n",
              "pdays             False\n",
              "previous          False\n",
              "poutcome          False\n",
              "emp_var_rate      False\n",
              "cons_price_idx    False\n",
              "cons_conf_idx     False\n",
              "euribor3m         False\n",
              "nr_employed       False\n",
              "y                 False\n",
              "dtype: bool"
            ]
          },
          "metadata": {
            "tags": []
          },
          "execution_count": 8
        }
      ]
    },
    {
      "cell_type": "markdown",
      "metadata": {
        "id": "lexBirMcw0Ch"
      },
      "source": [
        "Handling duplicate values"
      ]
    },
    {
      "cell_type": "code",
      "metadata": {
        "colab": {
          "base_uri": "https://localhost:8080/"
        },
        "id": "RSN5ApfmJFqa",
        "outputId": "174a0943-0bc4-4163-e3fa-1b958702edd0"
      },
      "source": [
        "data_set.duplicated().value_counts()"
      ],
      "execution_count": 9,
      "outputs": [
        {
          "output_type": "execute_result",
          "data": {
            "text/plain": [
              "False    41176\n",
              "True        12\n",
              "dtype: int64"
            ]
          },
          "metadata": {
            "tags": []
          },
          "execution_count": 9
        }
      ]
    },
    {
      "cell_type": "code",
      "metadata": {
        "id": "5Kuz1dh2JHc5"
      },
      "source": [
        "data_set=data_set.drop_duplicates()\n",
        "data_set=data_set.reset_index(drop=True)"
      ],
      "execution_count": 10,
      "outputs": []
    },
    {
      "cell_type": "markdown",
      "metadata": {
        "id": "cVOgutGrw9wK"
      },
      "source": [
        "# **Dropping** duration columns"
      ]
    },
    {
      "cell_type": "code",
      "metadata": {
        "id": "L7dcDwDwJRxX"
      },
      "source": [
        "data_set=data_set.drop(columns='duration',axis=1)\n",
        "data_set=data_set.reset_index(drop=True)"
      ],
      "execution_count": 11,
      "outputs": []
    },
    {
      "cell_type": "markdown",
      "metadata": {
        "id": "lSIAX_XjN3O1"
      },
      "source": [
        "Dividing Dataset into 2 base on numerical and categorical columns"
      ]
    },
    {
      "cell_type": "code",
      "metadata": {
        "id": "h3RSwg2ttlTs"
      },
      "source": [
        "features=pd.DataFrame(data_set)"
      ],
      "execution_count": 12,
      "outputs": []
    },
    {
      "cell_type": "code",
      "metadata": {
        "colab": {
          "base_uri": "https://localhost:8080/"
        },
        "id": "8ymkf8iDSCid",
        "outputId": "d75eca94-7081-4ef4-9189-e537aa20c2ee"
      },
      "source": [
        "# extract numerical columns from the dataset\n",
        "num_df = features.select_dtypes(include=np.number)\n",
        "# get the information about numerical columns\n",
        "num_df.info()"
      ],
      "execution_count": 13,
      "outputs": [
        {
          "output_type": "stream",
          "text": [
            "<class 'pandas.core.frame.DataFrame'>\n",
            "RangeIndex: 41176 entries, 0 to 41175\n",
            "Data columns (total 10 columns):\n",
            " #   Column          Non-Null Count  Dtype  \n",
            "---  ------          --------------  -----  \n",
            " 0   age             41176 non-null  int64  \n",
            " 1   campaign        41176 non-null  int64  \n",
            " 2   pdays           41176 non-null  int64  \n",
            " 3   previous        41176 non-null  int64  \n",
            " 4   emp_var_rate    41176 non-null  float64\n",
            " 5   cons_price_idx  41176 non-null  float64\n",
            " 6   cons_conf_idx   41176 non-null  float64\n",
            " 7   euribor3m       41176 non-null  float64\n",
            " 8   nr_employed     41176 non-null  float64\n",
            " 9   y               41176 non-null  int64  \n",
            "dtypes: float64(5), int64(5)\n",
            "memory usage: 3.1 MB\n"
          ],
          "name": "stdout"
        }
      ]
    },
    {
      "cell_type": "code",
      "metadata": {
        "colab": {
          "base_uri": "https://localhost:8080/",
          "height": 290
        },
        "id": "05oM82pUSCid",
        "outputId": "1484586a-0b3e-4e06-9b19-dc90833ab4f7"
      },
      "source": [
        "num_df.describe()"
      ],
      "execution_count": 14,
      "outputs": [
        {
          "output_type": "execute_result",
          "data": {
            "text/html": [
              "<div>\n",
              "<style scoped>\n",
              "    .dataframe tbody tr th:only-of-type {\n",
              "        vertical-align: middle;\n",
              "    }\n",
              "\n",
              "    .dataframe tbody tr th {\n",
              "        vertical-align: top;\n",
              "    }\n",
              "\n",
              "    .dataframe thead th {\n",
              "        text-align: right;\n",
              "    }\n",
              "</style>\n",
              "<table border=\"1\" class=\"dataframe\">\n",
              "  <thead>\n",
              "    <tr style=\"text-align: right;\">\n",
              "      <th></th>\n",
              "      <th>age</th>\n",
              "      <th>campaign</th>\n",
              "      <th>pdays</th>\n",
              "      <th>previous</th>\n",
              "      <th>emp_var_rate</th>\n",
              "      <th>cons_price_idx</th>\n",
              "      <th>cons_conf_idx</th>\n",
              "      <th>euribor3m</th>\n",
              "      <th>nr_employed</th>\n",
              "      <th>y</th>\n",
              "    </tr>\n",
              "  </thead>\n",
              "  <tbody>\n",
              "    <tr>\n",
              "      <th>count</th>\n",
              "      <td>41176.00000</td>\n",
              "      <td>41176.000000</td>\n",
              "      <td>41176.000000</td>\n",
              "      <td>41176.000000</td>\n",
              "      <td>41176.000000</td>\n",
              "      <td>41176.000000</td>\n",
              "      <td>41176.000000</td>\n",
              "      <td>41176.000000</td>\n",
              "      <td>41176.000000</td>\n",
              "      <td>41176.000000</td>\n",
              "    </tr>\n",
              "    <tr>\n",
              "      <th>mean</th>\n",
              "      <td>40.02380</td>\n",
              "      <td>2.567879</td>\n",
              "      <td>962.464810</td>\n",
              "      <td>0.173013</td>\n",
              "      <td>0.081922</td>\n",
              "      <td>93.575720</td>\n",
              "      <td>-40.502863</td>\n",
              "      <td>3.621293</td>\n",
              "      <td>5167.034870</td>\n",
              "      <td>0.112663</td>\n",
              "    </tr>\n",
              "    <tr>\n",
              "      <th>std</th>\n",
              "      <td>10.42068</td>\n",
              "      <td>2.770318</td>\n",
              "      <td>186.937102</td>\n",
              "      <td>0.494964</td>\n",
              "      <td>1.570883</td>\n",
              "      <td>0.578839</td>\n",
              "      <td>4.627860</td>\n",
              "      <td>1.734437</td>\n",
              "      <td>72.251364</td>\n",
              "      <td>0.316184</td>\n",
              "    </tr>\n",
              "    <tr>\n",
              "      <th>min</th>\n",
              "      <td>17.00000</td>\n",
              "      <td>1.000000</td>\n",
              "      <td>0.000000</td>\n",
              "      <td>0.000000</td>\n",
              "      <td>-3.400000</td>\n",
              "      <td>92.201000</td>\n",
              "      <td>-50.800000</td>\n",
              "      <td>0.634000</td>\n",
              "      <td>4963.600000</td>\n",
              "      <td>0.000000</td>\n",
              "    </tr>\n",
              "    <tr>\n",
              "      <th>25%</th>\n",
              "      <td>32.00000</td>\n",
              "      <td>1.000000</td>\n",
              "      <td>999.000000</td>\n",
              "      <td>0.000000</td>\n",
              "      <td>-1.800000</td>\n",
              "      <td>93.075000</td>\n",
              "      <td>-42.700000</td>\n",
              "      <td>1.344000</td>\n",
              "      <td>5099.100000</td>\n",
              "      <td>0.000000</td>\n",
              "    </tr>\n",
              "    <tr>\n",
              "      <th>50%</th>\n",
              "      <td>38.00000</td>\n",
              "      <td>2.000000</td>\n",
              "      <td>999.000000</td>\n",
              "      <td>0.000000</td>\n",
              "      <td>1.100000</td>\n",
              "      <td>93.749000</td>\n",
              "      <td>-41.800000</td>\n",
              "      <td>4.857000</td>\n",
              "      <td>5191.000000</td>\n",
              "      <td>0.000000</td>\n",
              "    </tr>\n",
              "    <tr>\n",
              "      <th>75%</th>\n",
              "      <td>47.00000</td>\n",
              "      <td>3.000000</td>\n",
              "      <td>999.000000</td>\n",
              "      <td>0.000000</td>\n",
              "      <td>1.400000</td>\n",
              "      <td>93.994000</td>\n",
              "      <td>-36.400000</td>\n",
              "      <td>4.961000</td>\n",
              "      <td>5228.100000</td>\n",
              "      <td>0.000000</td>\n",
              "    </tr>\n",
              "    <tr>\n",
              "      <th>max</th>\n",
              "      <td>98.00000</td>\n",
              "      <td>56.000000</td>\n",
              "      <td>999.000000</td>\n",
              "      <td>7.000000</td>\n",
              "      <td>1.400000</td>\n",
              "      <td>94.767000</td>\n",
              "      <td>-26.900000</td>\n",
              "      <td>5.045000</td>\n",
              "      <td>5228.100000</td>\n",
              "      <td>1.000000</td>\n",
              "    </tr>\n",
              "  </tbody>\n",
              "</table>\n",
              "</div>"
            ],
            "text/plain": [
              "               age      campaign  ...   nr_employed             y\n",
              "count  41176.00000  41176.000000  ...  41176.000000  41176.000000\n",
              "mean      40.02380      2.567879  ...   5167.034870      0.112663\n",
              "std       10.42068      2.770318  ...     72.251364      0.316184\n",
              "min       17.00000      1.000000  ...   4963.600000      0.000000\n",
              "25%       32.00000      1.000000  ...   5099.100000      0.000000\n",
              "50%       38.00000      2.000000  ...   5191.000000      0.000000\n",
              "75%       47.00000      3.000000  ...   5228.100000      0.000000\n",
              "max       98.00000     56.000000  ...   5228.100000      1.000000\n",
              "\n",
              "[8 rows x 10 columns]"
            ]
          },
          "metadata": {
            "tags": []
          },
          "execution_count": 14
        }
      ]
    },
    {
      "cell_type": "markdown",
      "metadata": {
        "id": "Rcf3OpbyNvVC"
      },
      "source": [
        "Handling Outliers "
      ]
    },
    {
      "cell_type": "code",
      "metadata": {
        "colab": {
          "base_uri": "https://localhost:8080/",
          "height": 282
        },
        "id": "pJxLmLRk0aPh",
        "outputId": "33206d8e-1f96-44a0-c651-935b51789f83"
      },
      "source": [
        "num_df.boxplot()"
      ],
      "execution_count": 15,
      "outputs": [
        {
          "output_type": "execute_result",
          "data": {
            "text/plain": [
              "<matplotlib.axes._subplots.AxesSubplot at 0x7f3ef8d4c910>"
            ]
          },
          "metadata": {
            "tags": []
          },
          "execution_count": 15
        },
        {
          "output_type": "display_data",
          "data": {
            "image/png": "[encoded data removed]",
            "text/plain": [
              "<Figure size 432x288 with 1 Axes>"
            ]
          },
          "metadata": {
            "tags": [],
            "needs_background": "light"
          }
        }
      ]
    },
    {
      "cell_type": "code",
      "metadata": {
        "colab": {
          "base_uri": "https://localhost:8080/",
          "height": 281
        },
        "id": "mNy3PLy6BE2l",
        "outputId": "f96c27b2-6b59-4c37-b79a-f4d8d7c2fa43"
      },
      "source": [
        "num_df.boxplot(column='age')"
      ],
      "execution_count": 16,
      "outputs": [
        {
          "output_type": "execute_result",
          "data": {
            "text/plain": [
              "<matplotlib.axes._subplots.AxesSubplot at 0x7f3ef8c01ed0>"
            ]
          },
          "metadata": {
            "tags": []
          },
          "execution_count": 16
        },
        {
          "output_type": "display_data",
          "data": {
            "image/png": "[encoded data removed]",
            "text/plain": [
              "<Figure size 432x288 with 1 Axes>"
            ]
          },
          "metadata": {
            "tags": [],
            "needs_background": "light"
          }
        }
      ]
    },
    {
      "cell_type": "code",
      "metadata": {
        "colab": {
          "base_uri": "https://localhost:8080/",
          "height": 281
        },
        "id": "UhBEol2YBVy8",
        "outputId": "24efb643-b992-4446-bf83-a7c31d41bfab"
      },
      "source": [
        "num_df.boxplot(column='campaign')"
      ],
      "execution_count": 17,
      "outputs": [
        {
          "output_type": "execute_result",
          "data": {
            "text/plain": [
              "<matplotlib.axes._subplots.AxesSubplot at 0x7f3ef86d3310>"
            ]
          },
          "metadata": {
            "tags": []
          },
          "execution_count": 17
        },
        {
          "output_type": "display_data",
          "data": {
            "image/png": "[encoded data removed]",
            "text/plain": [
              "<Figure size 432x288 with 1 Axes>"
            ]
          },
          "metadata": {
            "tags": [],
            "needs_background": "light"
          }
        }
      ]
    },
    {
      "cell_type": "code",
      "metadata": {
        "colab": {
          "base_uri": "https://localhost:8080/"
        },
        "id": "4gVLuw3R1S3y",
        "outputId": "d476054f-a426-4503-c17d-c242299e770d"
      },
      "source": [
        "df1=num_df.drop(num_df[num_df['campaign'] > 50].index)\n",
        "df1.shape"
      ],
      "execution_count": 18,
      "outputs": [
        {
          "output_type": "execute_result",
          "data": {
            "text/plain": [
              "(41175, 10)"
            ]
          },
          "metadata": {
            "tags": []
          },
          "execution_count": 18
        }
      ]
    },
    {
      "cell_type": "code",
      "metadata": {
        "id": "pWOKgcHZ1ad5"
      },
      "source": [
        "num_df=df1;\n",
        "num_df=num_df.reset_index(drop=True)"
      ],
      "execution_count": 19,
      "outputs": []
    },
    {
      "cell_type": "code",
      "metadata": {
        "colab": {
          "base_uri": "https://localhost:8080/",
          "height": 281
        },
        "id": "Xq53mwsbBYOT",
        "outputId": "0c410c5f-7189-4b3e-ca2d-8dc2fff4bff1"
      },
      "source": [
        "num_df.boxplot(column='pdays')"
      ],
      "execution_count": 20,
      "outputs": [
        {
          "output_type": "execute_result",
          "data": {
            "text/plain": [
              "<matplotlib.axes._subplots.AxesSubplot at 0x7f3ef8604fd0>"
            ]
          },
          "metadata": {
            "tags": []
          },
          "execution_count": 20
        },
        {
          "output_type": "display_data",
          "data": {
            "image/png": "[encoded data removed]",
            "text/plain": [
              "<Figure size 432x288 with 1 Axes>"
            ]
          },
          "metadata": {
            "tags": [],
            "needs_background": "light"
          }
        }
      ]
    },
    {
      "cell_type": "code",
      "metadata": {
        "colab": {
          "base_uri": "https://localhost:8080/",
          "height": 282
        },
        "id": "1nlgKA_dBb44",
        "outputId": "6987fe80-2109-4692-a522-bd2dc1150829"
      },
      "source": [
        "num_df.boxplot(column='emp_var_rate')"
      ],
      "execution_count": 21,
      "outputs": [
        {
          "output_type": "execute_result",
          "data": {
            "text/plain": [
              "<matplotlib.axes._subplots.AxesSubplot at 0x7f3ef7b347d0>"
            ]
          },
          "metadata": {
            "tags": []
          },
          "execution_count": 21
        },
        {
          "output_type": "display_data",
          "data": {
            "image/png": "[encoded data removed]",
            "text/plain": [
              "<Figure size 432x288 with 1 Axes>"
            ]
          },
          "metadata": {
            "tags": [],
            "needs_background": "light"
          }
        }
      ]
    },
    {
      "cell_type": "code",
      "metadata": {
        "colab": {
          "base_uri": "https://localhost:8080/",
          "height": 281
        },
        "id": "CMnm0PX0BdiZ",
        "outputId": "33924571-0c48-4c11-ddee-0ad7c9f3e090"
      },
      "source": [
        "num_df.boxplot(column='previous')"
      ],
      "execution_count": 22,
      "outputs": [
        {
          "output_type": "execute_result",
          "data": {
            "text/plain": [
              "<matplotlib.axes._subplots.AxesSubplot at 0x7f3ef7b14890>"
            ]
          },
          "metadata": {
            "tags": []
          },
          "execution_count": 22
        },
        {
          "output_type": "display_data",
          "data": {
            "image/png": "[encoded data removed]",
            "text/plain": [
              "<Figure size 432x288 with 1 Axes>"
            ]
          },
          "metadata": {
            "tags": [],
            "needs_background": "light"
          }
        }
      ]
    },
    {
      "cell_type": "code",
      "metadata": {
        "colab": {
          "base_uri": "https://localhost:8080/",
          "height": 282
        },
        "id": "vwODZv_jBd5Z",
        "outputId": "b03a0094-2166-4cdd-b0f5-ce48cc5f6019"
      },
      "source": [
        "num_df.boxplot(column='cons_price_idx')"
      ],
      "execution_count": 23,
      "outputs": [
        {
          "output_type": "execute_result",
          "data": {
            "text/plain": [
              "<matplotlib.axes._subplots.AxesSubplot at 0x7f3ef7a920d0>"
            ]
          },
          "metadata": {
            "tags": []
          },
          "execution_count": 23
        },
        {
          "output_type": "display_data",
          "data": {
            "image/png": "[encoded data removed]",
            "text/plain": [
              "<Figure size 432x288 with 1 Axes>"
            ]
          },
          "metadata": {
            "tags": [],
            "needs_background": "light"
          }
        }
      ]
    },
    {
      "cell_type": "code",
      "metadata": {
        "colab": {
          "base_uri": "https://localhost:8080/",
          "height": 282
        },
        "id": "TVD_Koh6BePV",
        "outputId": "e7ce0edd-9137-488c-86c3-e031ae5a347e"
      },
      "source": [
        "num_df.boxplot(column='cons_conf_idx')"
      ],
      "execution_count": 24,
      "outputs": [
        {
          "output_type": "execute_result",
          "data": {
            "text/plain": [
              "<matplotlib.axes._subplots.AxesSubplot at 0x7f3ef8bd3d10>"
            ]
          },
          "metadata": {
            "tags": []
          },
          "execution_count": 24
        },
        {
          "output_type": "display_data",
          "data": {
            "image/png": "[encoded data removed]",
            "text/plain": [
              "<Figure size 432x288 with 1 Axes>"
            ]
          },
          "metadata": {
            "tags": [],
            "needs_background": "light"
          }
        }
      ]
    },
    {
      "cell_type": "code",
      "metadata": {
        "colab": {
          "base_uri": "https://localhost:8080/",
          "height": 281
        },
        "id": "-aiKj4WOBpc5",
        "outputId": "51f37e69-517d-41b8-8e18-e1e8e2e09ce4"
      },
      "source": [
        "num_df.boxplot(column='euribor3m')"
      ],
      "execution_count": 25,
      "outputs": [
        {
          "output_type": "execute_result",
          "data": {
            "text/plain": [
              "<matplotlib.axes._subplots.AxesSubplot at 0x7f3ef79d1310>"
            ]
          },
          "metadata": {
            "tags": []
          },
          "execution_count": 25
        },
        {
          "output_type": "display_data",
          "data": {
            "image/png": "[encoded data removed]",
            "text/plain": [
              "<Figure size 432x288 with 1 Axes>"
            ]
          },
          "metadata": {
            "tags": [],
            "needs_background": "light"
          }
        }
      ]
    },
    {
      "cell_type": "code",
      "metadata": {
        "colab": {
          "base_uri": "https://localhost:8080/",
          "height": 282
        },
        "id": "4SuYTuPQBqYK",
        "outputId": "590ae511-cf81-4462-9dca-e8081ea3aa63"
      },
      "source": [
        "num_df.boxplot(column='nr_employed')"
      ],
      "execution_count": 26,
      "outputs": [
        {
          "output_type": "execute_result",
          "data": {
            "text/plain": [
              "<matplotlib.axes._subplots.AxesSubplot at 0x7f3ef7935890>"
            ]
          },
          "metadata": {
            "tags": []
          },
          "execution_count": 26
        },
        {
          "output_type": "display_data",
          "data": {
            "image/png": "[encoded data removed]",
            "text/plain": [
              "<Figure size 432x288 with 1 Axes>"
            ]
          },
          "metadata": {
            "tags": [],
            "needs_background": "light"
          }
        }
      ]
    },
    {
      "cell_type": "code",
      "metadata": {
        "colab": {
          "base_uri": "https://localhost:8080/",
          "height": 281
        },
        "id": "pnnUIST3D0vK",
        "outputId": "b28f1bf9-9b31-4232-e03a-4453fb95184c"
      },
      "source": [
        "num_df.boxplot(column='y')"
      ],
      "execution_count": 27,
      "outputs": [
        {
          "output_type": "execute_result",
          "data": {
            "text/plain": [
              "<matplotlib.axes._subplots.AxesSubplot at 0x7f3ef789ab90>"
            ]
          },
          "metadata": {
            "tags": []
          },
          "execution_count": 27
        },
        {
          "output_type": "display_data",
          "data": {
            "image/png": "[encoded data removed]",
            "text/plain": [
              "<Figure size 432x288 with 1 Axes>"
            ]
          },
          "metadata": {
            "tags": [],
            "needs_background": "light"
          }
        }
      ]
    },
    {
      "cell_type": "markdown",
      "metadata": {
        "id": "XQb8yIrCON0q"
      },
      "source": [
        "Adding y column to a Target data frame"
      ]
    },
    {
      "cell_type": "code",
      "metadata": {
        "id": "BbHPWZSSt6He"
      },
      "source": [
        "target=pd.DataFrame(num_df,columns=['y'])"
      ],
      "execution_count": 28,
      "outputs": []
    },
    {
      "cell_type": "code",
      "metadata": {
        "id": "rl94GOL9C_7f"
      },
      "source": [
        "num_df = num_df.drop('y', axis=1)\n",
        "num_df=num_df.reset_index(drop=True)"
      ],
      "execution_count": 29,
      "outputs": []
    },
    {
      "cell_type": "code",
      "metadata": {
        "colab": {
          "base_uri": "https://localhost:8080/"
        },
        "id": "5E041Jle2Ebw",
        "outputId": "b8751542-5ca1-4d9e-a483-882cb8487ab0"
      },
      "source": [
        "num_df['age'].shape"
      ],
      "execution_count": 30,
      "outputs": [
        {
          "output_type": "execute_result",
          "data": {
            "text/plain": [
              "(41175,)"
            ]
          },
          "metadata": {
            "tags": []
          },
          "execution_count": 30
        }
      ]
    },
    {
      "cell_type": "markdown",
      "metadata": {
        "id": "nuPSsHM1OJ_P"
      },
      "source": [
        "Producing Q-Q Plots and Histograms of the features"
      ]
    },
    {
      "cell_type": "code",
      "metadata": {
        "colab": {
          "base_uri": "https://localhost:8080/",
          "height": 295
        },
        "id": "QodN7LaT2ifd",
        "outputId": "20161af2-8449-4a0f-b1fb-81a3156219e0"
      },
      "source": [
        "stats.probplot(num_df[\"age\"], dist=\"norm\", plot=plt)\n",
        "plt.show()"
      ],
      "execution_count": 31,
      "outputs": [
        {
          "output_type": "display_data",
          "data": {
            "image/png": "[encoded data removed]",
            "text/plain": [
              "<Figure size 432x288 with 1 Axes>"
            ]
          },
          "metadata": {
            "tags": [],
            "needs_background": "light"
          }
        }
      ]
    },
    {
      "cell_type": "code",
      "metadata": {
        "colab": {
          "base_uri": "https://localhost:8080/",
          "height": 295
        },
        "id": "YvD_VJVXrtfs",
        "outputId": "9cf502e8-3a46-4331-dedb-a4d49304548a"
      },
      "source": [
        "stats.probplot(num_df[\"campaign\"], dist=\"norm\", plot=plt)\n",
        "plt.show()"
      ],
      "execution_count": 32,
      "outputs": [
        {
          "output_type": "display_data",
          "data": {
            "image/png": "[encoded data removed]",
            "text/plain": [
              "<Figure size 432x288 with 1 Axes>"
            ]
          },
          "metadata": {
            "tags": [],
            "needs_background": "light"
          }
        }
      ]
    },
    {
      "cell_type": "code",
      "metadata": {
        "colab": {
          "base_uri": "https://localhost:8080/",
          "height": 295
        },
        "id": "QFgu81y0r6vk",
        "outputId": "9b570b2a-f29a-49f1-cf21-d24a29adfccc"
      },
      "source": [
        "stats.probplot(num_df[\"pdays\"], dist=\"norm\", plot=plt)\n",
        "plt.show()"
      ],
      "execution_count": 33,
      "outputs": [
        {
          "output_type": "display_data",
          "data": {
            "image/png": "[encoded data removed]",
            "text/plain": [
              "<Figure size 432x288 with 1 Axes>"
            ]
          },
          "metadata": {
            "tags": [],
            "needs_background": "light"
          }
        }
      ]
    },
    {
      "cell_type": "code",
      "metadata": {
        "colab": {
          "base_uri": "https://localhost:8080/",
          "height": 295
        },
        "id": "x_mgTG0Ts3Aa",
        "outputId": "d33f32b0-127a-41e5-e377-415a1d52b13b"
      },
      "source": [
        "stats.probplot(num_df[\"previous\"], dist=\"norm\", plot=plt)\n",
        "plt.show()"
      ],
      "execution_count": 34,
      "outputs": [
        {
          "output_type": "display_data",
          "data": {
            "image/png": "[encoded data removed]",
            "text/plain": [
              "<Figure size 432x288 with 1 Axes>"
            ]
          },
          "metadata": {
            "tags": [],
            "needs_background": "light"
          }
        }
      ]
    },
    {
      "cell_type": "code",
      "metadata": {
        "colab": {
          "base_uri": "https://localhost:8080/",
          "height": 295
        },
        "id": "SXAHs_CZtMRW",
        "outputId": "65474563-a9e8-44f0-dc2c-075f1bf98235"
      },
      "source": [
        "stats.probplot(num_df[\"emp_var_rate\"], dist=\"norm\", plot=plt)\n",
        "plt.show()\n"
      ],
      "execution_count": 35,
      "outputs": [
        {
          "output_type": "display_data",
          "data": {
            "image/png": "[encoded data removed]",
            "text/plain": [
              "<Figure size 432x288 with 1 Axes>"
            ]
          },
          "metadata": {
            "tags": [],
            "needs_background": "light"
          }
        }
      ]
    },
    {
      "cell_type": "code",
      "metadata": {
        "colab": {
          "base_uri": "https://localhost:8080/",
          "height": 295
        },
        "id": "s1KtI51eFJma",
        "outputId": "a753b8ed-bc9d-442b-d95c-cf82e7142825"
      },
      "source": [
        "stats.probplot(num_df[\"cons_price_idx\"], dist=\"norm\", plot=plt)\n",
        "plt.show()"
      ],
      "execution_count": 36,
      "outputs": [
        {
          "output_type": "display_data",
          "data": {
            "image/png": "[encoded data removed]",
            "text/plain": [
              "<Figure size 432x288 with 1 Axes>"
            ]
          },
          "metadata": {
            "tags": [],
            "needs_background": "light"
          }
        }
      ]
    },
    {
      "cell_type": "code",
      "metadata": {
        "colab": {
          "base_uri": "https://localhost:8080/",
          "height": 295
        },
        "id": "ub9MQknnFPYZ",
        "outputId": "ce483a05-02cf-465a-a6c5-e3e8c3dfbf4b"
      },
      "source": [
        "stats.probplot(num_df[\"cons_conf_idx\"], dist=\"norm\", plot=plt)\n",
        "plt.show()"
      ],
      "execution_count": 37,
      "outputs": [
        {
          "output_type": "display_data",
          "data": {
            "image/png": "[encoded data removed]",
            "text/plain": [
              "<Figure size 432x288 with 1 Axes>"
            ]
          },
          "metadata": {
            "tags": [],
            "needs_background": "light"
          }
        }
      ]
    },
    {
      "cell_type": "code",
      "metadata": {
        "colab": {
          "base_uri": "https://localhost:8080/",
          "height": 295
        },
        "id": "YBDnf208FXHi",
        "outputId": "0b16faf8-d3a7-4a0e-9ac2-5b1576f07715"
      },
      "source": [
        "stats.probplot(num_df[\"euribor3m\"], dist=\"norm\", plot=plt)\n",
        "plt.show()"
      ],
      "execution_count": 38,
      "outputs": [
        {
          "output_type": "display_data",
          "data": {
            "image/png": "[encoded data removed]",
            "text/plain": [
              "<Figure size 432x288 with 1 Axes>"
            ]
          },
          "metadata": {
            "tags": [],
            "needs_background": "light"
          }
        }
      ]
    },
    {
      "cell_type": "code",
      "metadata": {
        "colab": {
          "base_uri": "https://localhost:8080/",
          "height": 295
        },
        "id": "76KaJ0bFFXi6",
        "outputId": "a06d5653-435c-4fd6-acb1-76b8f2529857"
      },
      "source": [
        "stats.probplot(num_df[\"nr_employed\"], dist=\"norm\", plot=plt)\n",
        "plt.show()"
      ],
      "execution_count": 39,
      "outputs": [
        {
          "output_type": "display_data",
          "data": {
            "image/png": "[encoded data removed]",
            "text/plain": [
              "<Figure size 432x288 with 1 Axes>"
            ]
          },
          "metadata": {
            "tags": [],
            "needs_background": "light"
          }
        }
      ]
    },
    {
      "cell_type": "code",
      "metadata": {
        "colab": {
          "base_uri": "https://localhost:8080/",
          "height": 443
        },
        "id": "fhYcw196Bxvy",
        "outputId": "1cb37aaa-8dd8-4ed3-b362-5d155a472621"
      },
      "source": [
        "num_df.hist()"
      ],
      "execution_count": 40,
      "outputs": [
        {
          "output_type": "execute_result",
          "data": {
            "text/plain": [
              "array([[<matplotlib.axes._subplots.AxesSubplot object at 0x7f3ef7493450>,\n",
              "        <matplotlib.axes._subplots.AxesSubplot object at 0x7f3ef743b8d0>,\n",
              "        <matplotlib.axes._subplots.AxesSubplot object at 0x7f3ef73f1d90>],\n",
              "       [<matplotlib.axes._subplots.AxesSubplot object at 0x7f3ef73b3350>,\n",
              "        <matplotlib.axes._subplots.AxesSubplot object at 0x7f3ef736a8d0>,\n",
              "        <matplotlib.axes._subplots.AxesSubplot object at 0x7f3ef731ee50>],\n",
              "       [<matplotlib.axes._subplots.AxesSubplot object at 0x7f3ef72e1490>,\n",
              "        <matplotlib.axes._subplots.AxesSubplot object at 0x7f3ef7296950>,\n",
              "        <matplotlib.axes._subplots.AxesSubplot object at 0x7f3ef7296990>]],\n",
              "      dtype=object)"
            ]
          },
          "metadata": {
            "tags": []
          },
          "execution_count": 40
        },
        {
          "output_type": "display_data",
          "data": {
            "image/png": "[encoded data removed]",
            "text/plain": [
              "<Figure size 432x288 with 9 Axes>"
            ]
          },
          "metadata": {
            "tags": [],
            "needs_background": "light"
          }
        }
      ]
    },
    {
      "cell_type": "code",
      "metadata": {
        "colab": {
          "base_uri": "https://localhost:8080/",
          "height": 281
        },
        "id": "TmLxKJH1xARN",
        "outputId": "ec112ec1-f01e-4217-bd45-49ac129ee7fa"
      },
      "source": [
        "num_df['campaign'].hist()"
      ],
      "execution_count": 41,
      "outputs": [
        {
          "output_type": "execute_result",
          "data": {
            "text/plain": [
              "<matplotlib.axes._subplots.AxesSubplot at 0x7f3ef7057b50>"
            ]
          },
          "metadata": {
            "tags": []
          },
          "execution_count": 41
        },
        {
          "output_type": "display_data",
          "data": {
            "image/png": "[encoded data removed]",
            "text/plain": [
              "<Figure size 432x288 with 1 Axes>"
            ]
          },
          "metadata": {
            "tags": [],
            "needs_background": "light"
          }
        }
      ]
    },
    {
      "cell_type": "code",
      "metadata": {
        "colab": {
          "base_uri": "https://localhost:8080/",
          "height": 313
        },
        "id": "5QxZtsniuj27",
        "outputId": "0e2a4558-d98a-4ac3-c4d6-d3012708570d"
      },
      "source": [
        "y_true=target.copy()\n",
        "y_true.hist()"
      ],
      "execution_count": 42,
      "outputs": [
        {
          "output_type": "execute_result",
          "data": {
            "text/plain": [
              "array([[<matplotlib.axes._subplots.AxesSubplot object at 0x7f3ef708c090>]],\n",
              "      dtype=object)"
            ]
          },
          "metadata": {
            "tags": []
          },
          "execution_count": 42
        },
        {
          "output_type": "display_data",
          "data": {
            "image/png": "[encoded data removed]",
            "text/plain": [
              "<Figure size 432x288 with 1 Axes>"
            ]
          },
          "metadata": {
            "tags": [],
            "needs_background": "light"
          }
        }
      ]
    },
    {
      "cell_type": "markdown",
      "metadata": {
        "id": "O7toBpgcOYh3"
      },
      "source": [
        "Data Transformation"
      ]
    },
    {
      "cell_type": "code",
      "metadata": {
        "id": "ye_6QtjWVZkI"
      },
      "source": [
        "# transformations for right skewed features\n",
        "sqrt_transformer = FunctionTransformer(np.sqrt, validate=True)\n",
        "\n",
        "columns = ['age', 'campaign', 'previous']\n",
        "\n",
        "data = sqrt_transformer.transform(num_df[columns])\n",
        "\n",
        "num_df[columns]=data"
      ],
      "execution_count": 43,
      "outputs": []
    },
    {
      "cell_type": "code",
      "metadata": {
        "id": "ixWNbulYpNb8"
      },
      "source": [
        "# do the transformations for left skewed features\n",
        "squared_transformer = FunctionTransformer(lambda x: x**2, validate=True)\n",
        "\n",
        "columns = ['nr_employed']\n",
        "\n",
        "data = squared_transformer.transform(num_df[columns])\n",
        "\n",
        "num_df[columns]=data\n"
      ],
      "execution_count": 44,
      "outputs": []
    },
    {
      "cell_type": "code",
      "metadata": {
        "colab": {
          "base_uri": "https://localhost:8080/",
          "height": 456
        },
        "id": "m04ApBrdVkvO",
        "outputId": "8cbe5668-76ee-456a-f7f0-27ca6f4463ca"
      },
      "source": [
        "num_df.hist()"
      ],
      "execution_count": 45,
      "outputs": [
        {
          "output_type": "execute_result",
          "data": {
            "text/plain": [
              "array([[<matplotlib.axes._subplots.AxesSubplot object at 0x7f3ef6fbcf50>,\n",
              "        <matplotlib.axes._subplots.AxesSubplot object at 0x7f3ef6f88ad0>,\n",
              "        <matplotlib.axes._subplots.AxesSubplot object at 0x7f3ef6bb2f50>],\n",
              "       [<matplotlib.axes._subplots.AxesSubplot object at 0x7f3ef6f42510>,\n",
              "        <matplotlib.axes._subplots.AxesSubplot object at 0x7f3ef6ef7a90>,\n",
              "        <matplotlib.axes._subplots.AxesSubplot object at 0x7f3ef6eaffd0>],\n",
              "       [<matplotlib.axes._subplots.AxesSubplot object at 0x7f3ef8664e50>,\n",
              "        <matplotlib.axes._subplots.AxesSubplot object at 0x7f3ef78798d0>,\n",
              "        <matplotlib.axes._subplots.AxesSubplot object at 0x7f3ef7855e90>]],\n",
              "      dtype=object)"
            ]
          },
          "metadata": {
            "tags": []
          },
          "execution_count": 45
        },
        {
          "output_type": "display_data",
          "data": {
            "image/png": "[encoded data removed]",
            "text/plain": [
              "<Figure size 432x288 with 9 Axes>"
            ]
          },
          "metadata": {
            "tags": [],
            "needs_background": "light"
          }
        }
      ]
    },
    {
      "cell_type": "code",
      "metadata": {
        "colab": {
          "base_uri": "https://localhost:8080/",
          "height": 1000
        },
        "id": "ge1nygtjSCif",
        "outputId": "dc068067-c39c-401d-b843-531f2c536b9f"
      },
      "source": [
        "columns = ['age', 'campaign', 'previous','nr_employed']\n",
        "\n",
        "# code to get the histograms and Q-Q plots after applying transformations\n",
        "for index, col in enumerate(columns):\n",
        "    fig, axes = plt.subplots(1,2, figsize=(10,5))\n",
        "    fig.suptitle(col.capitalize(), fontsize=20, color='black')\n",
        "    axes[0].hist(num_df[col])\n",
        "    stats.probplot(num_df[col], dist=\"norm\", plot=axes[1])\n",
        "    plt.show()"
      ],
      "execution_count": 46,
      "outputs": [
        {
          "output_type": "display_data",
          "data": {
            "image/png": "[encoded data removed]",
            "text/plain": [
              "<Figure size 720x360 with 2 Axes>"
            ]
          },
          "metadata": {
            "tags": [],
            "needs_background": "light"
          }
        },
        {
          "output_type": "display_data",
          "data": {
            "image/png": "[encoded data removed]",
            "text/plain": [
              "<Figure size 720x360 with 2 Axes>"
            ]
          },
          "metadata": {
            "tags": [],
            "needs_background": "light"
          }
        },
        {
          "output_type": "display_data",
          "data": {
            "image/png": "[encoded data removed]",
            "text/plain": [
              "<Figure size 720x360 with 2 Axes>"
            ]
          },
          "metadata": {
            "tags": [],
            "needs_background": "light"
          }
        },
        {
          "output_type": "display_data",
          "data": {
            "image/png": "[encoded data removed]",
            "text/plain": [
              "<Figure size 720x360 with 2 Axes>"
            ]
          },
          "metadata": {
            "tags": [],
            "needs_background": "light"
          }
        }
      ]
    },
    {
      "cell_type": "code",
      "metadata": {
        "colab": {
          "base_uri": "https://localhost:8080/",
          "height": 293
        },
        "id": "YEUW4WVRF1w7",
        "outputId": "ca9d40b0-890d-4921-cdc1-417b0a4f0283"
      },
      "source": [
        "num_df['nr_employed'].hist()"
      ],
      "execution_count": 47,
      "outputs": [
        {
          "output_type": "execute_result",
          "data": {
            "text/plain": [
              "<matplotlib.axes._subplots.AxesSubplot at 0x7f3ef8bc3b50>"
            ]
          },
          "metadata": {
            "tags": []
          },
          "execution_count": 47
        },
        {
          "output_type": "display_data",
          "data": {
            "image/png": "[encoded data removed]",
            "text/plain": [
              "<Figure size 432x288 with 1 Axes>"
            ]
          },
          "metadata": {
            "tags": [],
            "needs_background": "light"
          }
        }
      ]
    },
    {
      "cell_type": "markdown",
      "metadata": {
        "id": "8jf11ImXK9-n"
      },
      "source": [
        "Label Encoding"
      ]
    },
    {
      "cell_type": "code",
      "metadata": {
        "colab": {
          "base_uri": "https://localhost:8080/"
        },
        "id": "YhC8KYulSCig",
        "outputId": "757c2dff-0f15-4c03-9189-065dcb01419f"
      },
      "source": [
        "#getting categorical columns separately \n",
        "categorical_df = data_set.select_dtypes(exclude=np.number)\n",
        "categorical_df.info()"
      ],
      "execution_count": 48,
      "outputs": [
        {
          "output_type": "stream",
          "text": [
            "<class 'pandas.core.frame.DataFrame'>\n",
            "RangeIndex: 41176 entries, 0 to 41175\n",
            "Data columns (total 10 columns):\n",
            " #   Column       Non-Null Count  Dtype \n",
            "---  ------       --------------  ----- \n",
            " 0   job          41176 non-null  object\n",
            " 1   marital      41176 non-null  object\n",
            " 2   education    41176 non-null  object\n",
            " 3   default      41176 non-null  object\n",
            " 4   housing      41176 non-null  object\n",
            " 5   loan         41176 non-null  object\n",
            " 6   contact      41176 non-null  object\n",
            " 7   month        41176 non-null  object\n",
            " 8   day_of_week  41176 non-null  object\n",
            " 9   poutcome     41176 non-null  object\n",
            "dtypes: object(10)\n",
            "memory usage: 3.1+ MB\n"
          ],
          "name": "stdout"
        }
      ]
    },
    {
      "cell_type": "code",
      "metadata": {
        "colab": {
          "base_uri": "https://localhost:8080/"
        },
        "id": "cepXpHpcuXJ_",
        "outputId": "8d32ac25-e06c-43fd-8a16-b5d3ce7e1ac3"
      },
      "source": [
        "categorical_df.dtypes"
      ],
      "execution_count": 49,
      "outputs": [
        {
          "output_type": "execute_result",
          "data": {
            "text/plain": [
              "job            object\n",
              "marital        object\n",
              "education      object\n",
              "default        object\n",
              "housing        object\n",
              "loan           object\n",
              "contact        object\n",
              "month          object\n",
              "day_of_week    object\n",
              "poutcome       object\n",
              "dtype: object"
            ]
          },
          "metadata": {
            "tags": []
          },
          "execution_count": 49
        }
      ]
    },
    {
      "cell_type": "code",
      "metadata": {
        "colab": {
          "base_uri": "https://localhost:8080/"
        },
        "id": "JZKqhsGiTSaZ",
        "outputId": "930dbf14-0715-45c6-f781-fb239590d384"
      },
      "source": [
        "categorical_df['job']=categorical_df['job'].astype('category').cat.codes\n",
        "categorical_df['marital']=categorical_df['marital'].astype('category').cat.codes\n",
        "categorical_df['education']=categorical_df['education'].astype('category').cat.codes\n",
        "categorical_df['default']=categorical_df['default'].astype('category').cat.codes\n",
        "categorical_df['housing']=categorical_df['housing'].astype('category').cat.codes\n",
        "categorical_df['loan']=categorical_df['loan'].astype('category').cat.codes\n",
        "categorical_df['contact']=categorical_df['contact'].astype('category').cat.codes\n",
        "categorical_df['month']=categorical_df['month'].astype('category').cat.codes\n",
        "categorical_df['day_of_week']=categorical_df['day_of_week'].astype('category').cat.codes\n",
        "categorical_df['poutcome']=categorical_df['poutcome'].astype('category').cat.codes"
      ],
      "execution_count": 50,
      "outputs": [
        {
          "output_type": "stream",
          "text": [
            "/usr/local/lib/python3.7/dist-packages/ipykernel_launcher.py:1: SettingWithCopyWarning: \n",
            "A value is trying to be set on a copy of a slice from a DataFrame.\n",
            "Try using .loc[row_indexer,col_indexer] = value instead\n",
            "\n",
            "See the caveats in the documentation: https://pandas.pydata.org/pandas-docs/stable/user_guide/indexing.html#returning-a-view-versus-a-copy\n",
            "  \"\"\"Entry point for launching an IPython kernel.\n",
            "/usr/local/lib/python3.7/dist-packages/ipykernel_launcher.py:2: SettingWithCopyWarning: \n",
            "A value is trying to be set on a copy of a slice from a DataFrame.\n",
            "Try using .loc[row_indexer,col_indexer] = value instead\n",
            "\n",
            "See the caveats in the documentation: https://pandas.pydata.org/pandas-docs/stable/user_guide/indexing.html#returning-a-view-versus-a-copy\n",
            "  \n",
            "/usr/local/lib/python3.7/dist-packages/ipykernel_launcher.py:3: SettingWithCopyWarning: \n",
            "A value is trying to be set on a copy of a slice from a DataFrame.\n",
            "Try using .loc[row_indexer,col_indexer] = value instead\n",
            "\n",
            "See the caveats in the documentation: https://pandas.pydata.org/pandas-docs/stable/user_guide/indexing.html#returning-a-view-versus-a-copy\n",
            "  This is separate from the ipykernel package so we can avoid doing imports until\n",
            "/usr/local/lib/python3.7/dist-packages/ipykernel_launcher.py:4: SettingWithCopyWarning: \n",
            "A value is trying to be set on a copy of a slice from a DataFrame.\n",
            "Try using .loc[row_indexer,col_indexer] = value instead\n",
            "\n",
            "See the caveats in the documentation: https://pandas.pydata.org/pandas-docs/stable/user_guide/indexing.html#returning-a-view-versus-a-copy\n",
            "  after removing the cwd from sys.path.\n",
            "/usr/local/lib/python3.7/dist-packages/ipykernel_launcher.py:5: SettingWithCopyWarning: \n",
            "A value is trying to be set on a copy of a slice from a DataFrame.\n",
            "Try using .loc[row_indexer,col_indexer] = value instead\n",
            "\n",
            "See the caveats in the documentation: https://pandas.pydata.org/pandas-docs/stable/user_guide/indexing.html#returning-a-view-versus-a-copy\n",
            "  \"\"\"\n",
            "/usr/local/lib/python3.7/dist-packages/ipykernel_launcher.py:6: SettingWithCopyWarning: \n",
            "A value is trying to be set on a copy of a slice from a DataFrame.\n",
            "Try using .loc[row_indexer,col_indexer] = value instead\n",
            "\n",
            "See the caveats in the documentation: https://pandas.pydata.org/pandas-docs/stable/user_guide/indexing.html#returning-a-view-versus-a-copy\n",
            "  \n",
            "/usr/local/lib/python3.7/dist-packages/ipykernel_launcher.py:7: SettingWithCopyWarning: \n",
            "A value is trying to be set on a copy of a slice from a DataFrame.\n",
            "Try using .loc[row_indexer,col_indexer] = value instead\n",
            "\n",
            "See the caveats in the documentation: https://pandas.pydata.org/pandas-docs/stable/user_guide/indexing.html#returning-a-view-versus-a-copy\n",
            "  import sys\n",
            "/usr/local/lib/python3.7/dist-packages/ipykernel_launcher.py:8: SettingWithCopyWarning: \n",
            "A value is trying to be set on a copy of a slice from a DataFrame.\n",
            "Try using .loc[row_indexer,col_indexer] = value instead\n",
            "\n",
            "See the caveats in the documentation: https://pandas.pydata.org/pandas-docs/stable/user_guide/indexing.html#returning-a-view-versus-a-copy\n",
            "  \n",
            "/usr/local/lib/python3.7/dist-packages/ipykernel_launcher.py:9: SettingWithCopyWarning: \n",
            "A value is trying to be set on a copy of a slice from a DataFrame.\n",
            "Try using .loc[row_indexer,col_indexer] = value instead\n",
            "\n",
            "See the caveats in the documentation: https://pandas.pydata.org/pandas-docs/stable/user_guide/indexing.html#returning-a-view-versus-a-copy\n",
            "  if __name__ == '__main__':\n",
            "/usr/local/lib/python3.7/dist-packages/ipykernel_launcher.py:10: SettingWithCopyWarning: \n",
            "A value is trying to be set on a copy of a slice from a DataFrame.\n",
            "Try using .loc[row_indexer,col_indexer] = value instead\n",
            "\n",
            "See the caveats in the documentation: https://pandas.pydata.org/pandas-docs/stable/user_guide/indexing.html#returning-a-view-versus-a-copy\n",
            "  # Remove the CWD from sys.path while we load stuff.\n"
          ],
          "name": "stderr"
        }
      ]
    },
    {
      "cell_type": "code",
      "metadata": {
        "colab": {
          "base_uri": "https://localhost:8080/"
        },
        "id": "YVCQ9vTDCwPo",
        "outputId": "42760dfd-46ff-40f4-f171-8a4b959c9f39"
      },
      "source": [
        "categorical_df.isnull().any()"
      ],
      "execution_count": 51,
      "outputs": [
        {
          "output_type": "execute_result",
          "data": {
            "text/plain": [
              "job            False\n",
              "marital        False\n",
              "education      False\n",
              "default        False\n",
              "housing        False\n",
              "loan           False\n",
              "contact        False\n",
              "month          False\n",
              "day_of_week    False\n",
              "poutcome       False\n",
              "dtype: bool"
            ]
          },
          "metadata": {
            "tags": []
          },
          "execution_count": 51
        }
      ]
    },
    {
      "cell_type": "code",
      "metadata": {
        "colab": {
          "base_uri": "https://localhost:8080/"
        },
        "id": "KWry8Bwj_ibz",
        "outputId": "932fa786-327f-46aa-da56-0f2dfd15877e"
      },
      "source": [
        "categorical_df.isnull().any()"
      ],
      "execution_count": 52,
      "outputs": [
        {
          "output_type": "execute_result",
          "data": {
            "text/plain": [
              "job            False\n",
              "marital        False\n",
              "education      False\n",
              "default        False\n",
              "housing        False\n",
              "loan           False\n",
              "contact        False\n",
              "month          False\n",
              "day_of_week    False\n",
              "poutcome       False\n",
              "dtype: bool"
            ]
          },
          "metadata": {
            "tags": []
          },
          "execution_count": 52
        }
      ]
    },
    {
      "cell_type": "code",
      "metadata": {
        "colab": {
          "base_uri": "https://localhost:8080/"
        },
        "id": "hHepDPMtGFp-",
        "outputId": "c6ed9b78-b7c7-4401-e9b8-cac71c868244"
      },
      "source": [
        "num_df.isnull().any()"
      ],
      "execution_count": 53,
      "outputs": [
        {
          "output_type": "execute_result",
          "data": {
            "text/plain": [
              "age               False\n",
              "campaign          False\n",
              "pdays             False\n",
              "previous          False\n",
              "emp_var_rate      False\n",
              "cons_price_idx    False\n",
              "cons_conf_idx     False\n",
              "euribor3m         False\n",
              "nr_employed       False\n",
              "dtype: bool"
            ]
          },
          "metadata": {
            "tags": []
          },
          "execution_count": 53
        }
      ]
    },
    {
      "cell_type": "markdown",
      "metadata": {
        "id": "FTf4hNJBOjn2"
      },
      "source": [
        " Final datadframe to join numerical data columns with categorical data columns"
      ]
    },
    {
      "cell_type": "code",
      "metadata": {
        "colab": {
          "base_uri": "https://localhost:8080/"
        },
        "id": "hQJcNB0fT8Ct",
        "outputId": "20cde1bc-7687-46c2-f09c-e524f38db6a8"
      },
      "source": [
        "# final datadframe to join numerical data columns with categorical data columns\n",
        "final_df = num_df.join(categorical_df)\n",
        "final_df.info()"
      ],
      "execution_count": 54,
      "outputs": [
        {
          "output_type": "stream",
          "text": [
            "<class 'pandas.core.frame.DataFrame'>\n",
            "RangeIndex: 41175 entries, 0 to 41174\n",
            "Data columns (total 19 columns):\n",
            " #   Column          Non-Null Count  Dtype  \n",
            "---  ------          --------------  -----  \n",
            " 0   age             41175 non-null  float64\n",
            " 1   campaign        41175 non-null  float64\n",
            " 2   pdays           41175 non-null  int64  \n",
            " 3   previous        41175 non-null  float64\n",
            " 4   emp_var_rate    41175 non-null  float64\n",
            " 5   cons_price_idx  41175 non-null  float64\n",
            " 6   cons_conf_idx   41175 non-null  float64\n",
            " 7   euribor3m       41175 non-null  float64\n",
            " 8   nr_employed     41175 non-null  float64\n",
            " 9   job             41175 non-null  int8   \n",
            " 10  marital         41175 non-null  int8   \n",
            " 11  education       41175 non-null  int8   \n",
            " 12  default         41175 non-null  int8   \n",
            " 13  housing         41175 non-null  int8   \n",
            " 14  loan            41175 non-null  int8   \n",
            " 15  contact         41175 non-null  int8   \n",
            " 16  month           41175 non-null  int8   \n",
            " 17  day_of_week     41175 non-null  int8   \n",
            " 18  poutcome        41175 non-null  int8   \n",
            "dtypes: float64(8), int64(1), int8(10)\n",
            "memory usage: 3.2 MB\n"
          ],
          "name": "stdout"
        }
      ]
    },
    {
      "cell_type": "code",
      "metadata": {
        "colab": {
          "base_uri": "https://localhost:8080/"
        },
        "id": "4wrJ-9K6DpkS",
        "outputId": "f22be284-e105-4008-d89f-978dbce92597"
      },
      "source": [
        "final_df.isnull().values.any()"
      ],
      "execution_count": 55,
      "outputs": [
        {
          "output_type": "execute_result",
          "data": {
            "text/plain": [
              "False"
            ]
          },
          "metadata": {
            "tags": []
          },
          "execution_count": 55
        }
      ]
    },
    {
      "cell_type": "code",
      "metadata": {
        "colab": {
          "base_uri": "https://localhost:8080/"
        },
        "id": "M7EGrIfAF5lR",
        "outputId": "026ca91e-ff5c-4911-ab38-04534ad4dd3f"
      },
      "source": [
        "y_true.value_counts()"
      ],
      "execution_count": 56,
      "outputs": [
        {
          "output_type": "execute_result",
          "data": {
            "text/plain": [
              "y\n",
              "0    36536\n",
              "1     4639\n",
              "dtype: int64"
            ]
          },
          "metadata": {
            "tags": []
          },
          "execution_count": 56
        }
      ]
    },
    {
      "cell_type": "markdown",
      "metadata": {
        "id": "-Pg95G9fxerW"
      },
      "source": [
        "Standardization"
      ]
    },
    {
      "cell_type": "code",
      "metadata": {
        "id": "UlnCGThfIcrb"
      },
      "source": [
        "columnfeatures=['age','campaign','pdays','previous','emp_var_rate','cons_price_idx','cons_conf_idx','euribor3m','nr_employed' ]\n",
        "scaler = StandardScaler()\n",
        "scaler.fit(final_df[columnfeatures])\n",
        "\n",
        "final_df[columnfeatures]= scaler.transform(final_df[columnfeatures])\n",
        "\n"
      ],
      "execution_count": 57,
      "outputs": []
    },
    {
      "cell_type": "code",
      "metadata": {
        "colab": {
          "base_uri": "https://localhost:8080/",
          "height": 443
        },
        "id": "adqKRmmNgKgB",
        "outputId": "f9ea34d3-6863-4149-cd63-21949acfdc0b"
      },
      "source": [
        "final_df[columnfeatures].hist()"
      ],
      "execution_count": 58,
      "outputs": [
        {
          "output_type": "execute_result",
          "data": {
            "text/plain": [
              "array([[<matplotlib.axes._subplots.AxesSubplot object at 0x7f3ef6b8d190>,\n",
              "        <matplotlib.axes._subplots.AxesSubplot object at 0x7f3ef6b3bb50>,\n",
              "        <matplotlib.axes._subplots.AxesSubplot object at 0x7f3ef6b09fd0>],\n",
              "       [<matplotlib.axes._subplots.AxesSubplot object at 0x7f3ef6ac85d0>,\n",
              "        <matplotlib.axes._subplots.AxesSubplot object at 0x7f3ef6a7db50>,\n",
              "        <matplotlib.axes._subplots.AxesSubplot object at 0x7f3ef6a27b90>],\n",
              "       [<matplotlib.axes._subplots.AxesSubplot object at 0x7f3ef69f7650>,\n",
              "        <matplotlib.axes._subplots.AxesSubplot object at 0x7f3ef69aab10>,\n",
              "        <matplotlib.axes._subplots.AxesSubplot object at 0x7f3ef69aab50>]],\n",
              "      dtype=object)"
            ]
          },
          "metadata": {
            "tags": []
          },
          "execution_count": 58
        },
        {
          "output_type": "display_data",
          "data": {
            "image/png": "[encoded data removed]",
            "text/plain": [
              "<Figure size 432x288 with 9 Axes>"
            ]
          },
          "metadata": {
            "tags": [],
            "needs_background": "light"
          }
        }
      ]
    },
    {
      "cell_type": "code",
      "metadata": {
        "colab": {
          "base_uri": "https://localhost:8080/"
        },
        "id": "1GpACn_PvhlE",
        "outputId": "74a2f368-4c15-45a0-c8e6-8cf812d2f6e2"
      },
      "source": [
        "final_df.isnull().values.any()"
      ],
      "execution_count": 59,
      "outputs": [
        {
          "output_type": "execute_result",
          "data": {
            "text/plain": [
              "False"
            ]
          },
          "metadata": {
            "tags": []
          },
          "execution_count": 59
        }
      ]
    },
    {
      "cell_type": "code",
      "metadata": {
        "colab": {
          "base_uri": "https://localhost:8080/",
          "height": 200
        },
        "id": "oRVMgwxJwp5e",
        "outputId": "e155cf11-dcb0-4ef0-8fc9-4d047aa01563"
      },
      "source": [
        "final_df.head()"
      ],
      "execution_count": 60,
      "outputs": [
        {
          "output_type": "execute_result",
          "data": {
            "text/html": [
              "<div>\n",
              "<style scoped>\n",
              "    .dataframe tbody tr th:only-of-type {\n",
              "        vertical-align: middle;\n",
              "    }\n",
              "\n",
              "    .dataframe tbody tr th {\n",
              "        vertical-align: top;\n",
              "    }\n",
              "\n",
              "    .dataframe thead th {\n",
              "        text-align: right;\n",
              "    }\n",
              "</style>\n",
              "<table border=\"1\" class=\"dataframe\">\n",
              "  <thead>\n",
              "    <tr style=\"text-align: right;\">\n",
              "      <th></th>\n",
              "      <th>age</th>\n",
              "      <th>campaign</th>\n",
              "      <th>pdays</th>\n",
              "      <th>previous</th>\n",
              "      <th>emp_var_rate</th>\n",
              "      <th>cons_price_idx</th>\n",
              "      <th>cons_conf_idx</th>\n",
              "      <th>euribor3m</th>\n",
              "      <th>nr_employed</th>\n",
              "      <th>job</th>\n",
              "      <th>marital</th>\n",
              "      <th>education</th>\n",
              "      <th>default</th>\n",
              "      <th>housing</th>\n",
              "      <th>loan</th>\n",
              "      <th>contact</th>\n",
              "      <th>month</th>\n",
              "      <th>day_of_week</th>\n",
              "      <th>poutcome</th>\n",
              "    </tr>\n",
              "  </thead>\n",
              "  <tbody>\n",
              "    <tr>\n",
              "      <th>0</th>\n",
              "      <td>0.445094</td>\n",
              "      <td>-0.777914</td>\n",
              "      <td>0.195446</td>\n",
              "      <td>-0.388096</td>\n",
              "      <td>0.839089</td>\n",
              "      <td>-0.227543</td>\n",
              "      <td>0.951413</td>\n",
              "      <td>0.773591</td>\n",
              "      <td>0.849370</td>\n",
              "      <td>1</td>\n",
              "      <td>1</td>\n",
              "      <td>0</td>\n",
              "      <td>1</td>\n",
              "      <td>2</td>\n",
              "      <td>0</td>\n",
              "      <td>0</td>\n",
              "      <td>1</td>\n",
              "      <td>2</td>\n",
              "      <td>1</td>\n",
              "    </tr>\n",
              "    <tr>\n",
              "      <th>1</th>\n",
              "      <td>1.248893</td>\n",
              "      <td>-0.777914</td>\n",
              "      <td>0.195446</td>\n",
              "      <td>-0.388096</td>\n",
              "      <td>-0.115793</td>\n",
              "      <td>-0.649079</td>\n",
              "      <td>-0.323487</td>\n",
              "      <td>0.230472</td>\n",
              "      <td>0.395127</td>\n",
              "      <td>9</td>\n",
              "      <td>1</td>\n",
              "      <td>7</td>\n",
              "      <td>0</td>\n",
              "      <td>0</td>\n",
              "      <td>0</td>\n",
              "      <td>0</td>\n",
              "      <td>7</td>\n",
              "      <td>0</td>\n",
              "      <td>1</td>\n",
              "    </tr>\n",
              "    <tr>\n",
              "      <th>2</th>\n",
              "      <td>-1.222184</td>\n",
              "      <td>0.410968</td>\n",
              "      <td>-5.116504</td>\n",
              "      <td>3.258902</td>\n",
              "      <td>-1.134334</td>\n",
              "      <td>0.828025</td>\n",
              "      <td>0.151900</td>\n",
              "      <td>-1.667562</td>\n",
              "      <td>-2.411437</td>\n",
              "      <td>4</td>\n",
              "      <td>2</td>\n",
              "      <td>6</td>\n",
              "      <td>0</td>\n",
              "      <td>2</td>\n",
              "      <td>0</td>\n",
              "      <td>0</td>\n",
              "      <td>4</td>\n",
              "      <td>2</td>\n",
              "      <td>2</td>\n",
              "    </tr>\n",
              "    <tr>\n",
              "      <th>3</th>\n",
              "      <td>-0.037355</td>\n",
              "      <td>-0.105214</td>\n",
              "      <td>0.195446</td>\n",
              "      <td>-0.388096</td>\n",
              "      <td>-1.197993</td>\n",
              "      <td>-0.865030</td>\n",
              "      <td>-1.425519</td>\n",
              "      <td>-1.277808</td>\n",
              "      <td>-0.947961</td>\n",
              "      <td>7</td>\n",
              "      <td>1</td>\n",
              "      <td>3</td>\n",
              "      <td>0</td>\n",
              "      <td>0</td>\n",
              "      <td>0</td>\n",
              "      <td>0</td>\n",
              "      <td>0</td>\n",
              "      <td>0</td>\n",
              "      <td>1</td>\n",
              "    </tr>\n",
              "    <tr>\n",
              "      <th>4</th>\n",
              "      <td>1.417999</td>\n",
              "      <td>-0.777914</td>\n",
              "      <td>-5.132552</td>\n",
              "      <td>2.190721</td>\n",
              "      <td>-1.898240</td>\n",
              "      <td>-2.374958</td>\n",
              "      <td>1.967011</td>\n",
              "      <td>-1.586844</td>\n",
              "      <td>-1.262329</td>\n",
              "      <td>5</td>\n",
              "      <td>1</td>\n",
              "      <td>0</td>\n",
              "      <td>0</td>\n",
              "      <td>2</td>\n",
              "      <td>0</td>\n",
              "      <td>0</td>\n",
              "      <td>1</td>\n",
              "      <td>0</td>\n",
              "      <td>2</td>\n",
              "    </tr>\n",
              "  </tbody>\n",
              "</table>\n",
              "</div>"
            ],
            "text/plain": [
              "        age  campaign     pdays  ...  month  day_of_week  poutcome\n",
              "0  0.445094 -0.777914  0.195446  ...      1            2         1\n",
              "1  1.248893 -0.777914  0.195446  ...      7            0         1\n",
              "2 -1.222184  0.410968 -5.116504  ...      4            2         2\n",
              "3 -0.037355 -0.105214  0.195446  ...      0            0         1\n",
              "4  1.417999 -0.777914 -5.132552  ...      1            0         2\n",
              "\n",
              "[5 rows x 19 columns]"
            ]
          },
          "metadata": {
            "tags": []
          },
          "execution_count": 60
        }
      ]
    },
    {
      "cell_type": "markdown",
      "metadata": {
        "id": "UkcbK44FO27K"
      },
      "source": [
        "# Feature Engineering"
      ]
    },
    {
      "cell_type": "markdown",
      "metadata": {
        "id": "LVjAObykxyVV"
      },
      "source": [
        "Identifing significance of the features"
      ]
    },
    {
      "cell_type": "code",
      "metadata": {
        "colab": {
          "base_uri": "https://localhost:8080/",
          "height": 937
        },
        "id": "lFy__GR0IjaG",
        "outputId": "b10d8ffe-b47b-4b17-e84d-1092f1f21317"
      },
      "source": [
        "import seaborn as sns\n",
        "# correlation matrix\n",
        "import matplotlib.pyplot as plt\n",
        "\n",
        "plt.figure(figsize=(12, 9))\n",
        "correlation_matrix = pd.concat([final_df.iloc[:,:9], y_true], axis=1).corr()\n",
        "sns.heatmap(correlation_matrix,annot=True)\n",
        "correlation_matrix"
      ],
      "execution_count": 61,
      "outputs": [
        {
          "output_type": "execute_result",
          "data": {
            "text/html": [
              "<div>\n",
              "<style scoped>\n",
              "    .dataframe tbody tr th:only-of-type {\n",
              "        vertical-align: middle;\n",
              "    }\n",
              "\n",
              "    .dataframe tbody tr th {\n",
              "        vertical-align: top;\n",
              "    }\n",
              "\n",
              "    .dataframe thead th {\n",
              "        text-align: right;\n",
              "    }\n",
              "</style>\n",
              "<table border=\"1\" class=\"dataframe\">\n",
              "  <thead>\n",
              "    <tr style=\"text-align: right;\">\n",
              "      <th></th>\n",
              "      <th>age</th>\n",
              "      <th>campaign</th>\n",
              "      <th>pdays</th>\n",
              "      <th>previous</th>\n",
              "      <th>emp_var_rate</th>\n",
              "      <th>cons_price_idx</th>\n",
              "      <th>cons_conf_idx</th>\n",
              "      <th>euribor3m</th>\n",
              "      <th>nr_employed</th>\n",
              "      <th>y</th>\n",
              "    </tr>\n",
              "  </thead>\n",
              "  <tbody>\n",
              "    <tr>\n",
              "      <th>age</th>\n",
              "      <td>1.000000</td>\n",
              "      <td>0.005127</td>\n",
              "      <td>-0.022693</td>\n",
              "      <td>0.009771</td>\n",
              "      <td>0.018136</td>\n",
              "      <td>0.009690</td>\n",
              "      <td>0.125121</td>\n",
              "      <td>0.030102</td>\n",
              "      <td>0.004690</td>\n",
              "      <td>0.016245</td>\n",
              "    </tr>\n",
              "    <tr>\n",
              "      <th>campaign</th>\n",
              "      <td>0.005127</td>\n",
              "      <td>1.000000</td>\n",
              "      <td>0.058675</td>\n",
              "      <td>-0.093991</td>\n",
              "      <td>0.160024</td>\n",
              "      <td>0.130872</td>\n",
              "      <td>-0.015750</td>\n",
              "      <td>0.141810</td>\n",
              "      <td>0.153066</td>\n",
              "      <td>-0.071138</td>\n",
              "    </tr>\n",
              "    <tr>\n",
              "      <th>pdays</th>\n",
              "      <td>-0.022693</td>\n",
              "      <td>0.058675</td>\n",
              "      <td>1.000000</td>\n",
              "      <td>-0.552779</td>\n",
              "      <td>0.271061</td>\n",
              "      <td>0.078917</td>\n",
              "      <td>-0.091379</td>\n",
              "      <td>0.296945</td>\n",
              "      <td>0.371042</td>\n",
              "      <td>-0.324947</td>\n",
              "    </tr>\n",
              "    <tr>\n",
              "      <th>previous</th>\n",
              "      <td>0.009771</td>\n",
              "      <td>-0.093991</td>\n",
              "      <td>-0.552779</td>\n",
              "      <td>1.000000</td>\n",
              "      <td>-0.464156</td>\n",
              "      <td>-0.267540</td>\n",
              "      <td>-0.078784</td>\n",
              "      <td>-0.488842</td>\n",
              "      <td>-0.512821</td>\n",
              "      <td>0.217486</td>\n",
              "    </tr>\n",
              "    <tr>\n",
              "      <th>emp_var_rate</th>\n",
              "      <td>0.018136</td>\n",
              "      <td>0.160024</td>\n",
              "      <td>0.271061</td>\n",
              "      <td>-0.464156</td>\n",
              "      <td>1.000000</td>\n",
              "      <td>0.775291</td>\n",
              "      <td>0.196246</td>\n",
              "      <td>0.972244</td>\n",
              "      <td>0.908811</td>\n",
              "      <td>-0.298285</td>\n",
              "    </tr>\n",
              "    <tr>\n",
              "      <th>cons_price_idx</th>\n",
              "      <td>0.009690</td>\n",
              "      <td>0.130872</td>\n",
              "      <td>0.078917</td>\n",
              "      <td>-0.267540</td>\n",
              "      <td>0.775291</td>\n",
              "      <td>1.000000</td>\n",
              "      <td>0.059156</td>\n",
              "      <td>0.688176</td>\n",
              "      <td>0.525197</td>\n",
              "      <td>-0.136129</td>\n",
              "    </tr>\n",
              "    <tr>\n",
              "      <th>cons_conf_idx</th>\n",
              "      <td>0.125121</td>\n",
              "      <td>-0.015750</td>\n",
              "      <td>-0.091379</td>\n",
              "      <td>-0.078784</td>\n",
              "      <td>0.196246</td>\n",
              "      <td>0.059156</td>\n",
              "      <td>1.000000</td>\n",
              "      <td>0.277853</td>\n",
              "      <td>0.102507</td>\n",
              "      <td>0.054810</td>\n",
              "    </tr>\n",
              "    <tr>\n",
              "      <th>euribor3m</th>\n",
              "      <td>0.030102</td>\n",
              "      <td>0.141810</td>\n",
              "      <td>0.296945</td>\n",
              "      <td>-0.488842</td>\n",
              "      <td>0.972244</td>\n",
              "      <td>0.688176</td>\n",
              "      <td>0.277853</td>\n",
              "      <td>1.000000</td>\n",
              "      <td>0.946382</td>\n",
              "      <td>-0.307737</td>\n",
              "    </tr>\n",
              "    <tr>\n",
              "      <th>nr_employed</th>\n",
              "      <td>0.004690</td>\n",
              "      <td>0.153066</td>\n",
              "      <td>0.371042</td>\n",
              "      <td>-0.512821</td>\n",
              "      <td>0.908811</td>\n",
              "      <td>0.525197</td>\n",
              "      <td>0.102507</td>\n",
              "      <td>0.946382</td>\n",
              "      <td>1.000000</td>\n",
              "      <td>-0.353604</td>\n",
              "    </tr>\n",
              "    <tr>\n",
              "      <th>y</th>\n",
              "      <td>0.016245</td>\n",
              "      <td>-0.071138</td>\n",
              "      <td>-0.324947</td>\n",
              "      <td>0.217486</td>\n",
              "      <td>-0.298285</td>\n",
              "      <td>-0.136129</td>\n",
              "      <td>0.054810</td>\n",
              "      <td>-0.307737</td>\n",
              "      <td>-0.353604</td>\n",
              "      <td>1.000000</td>\n",
              "    </tr>\n",
              "  </tbody>\n",
              "</table>\n",
              "</div>"
            ],
            "text/plain": [
              "                     age  campaign     pdays  ...  euribor3m  nr_employed         y\n",
              "age             1.000000  0.005127 -0.022693  ...   0.030102     0.004690  0.016245\n",
              "campaign        0.005127  1.000000  0.058675  ...   0.141810     0.153066 -0.071138\n",
              "pdays          -0.022693  0.058675  1.000000  ...   0.296945     0.371042 -0.324947\n",
              "previous        0.009771 -0.093991 -0.552779  ...  -0.488842    -0.512821  0.217486\n",
              "emp_var_rate    0.018136  0.160024  0.271061  ...   0.972244     0.908811 -0.298285\n",
              "cons_price_idx  0.009690  0.130872  0.078917  ...   0.688176     0.525197 -0.136129\n",
              "cons_conf_idx   0.125121 -0.015750 -0.091379  ...   0.277853     0.102507  0.054810\n",
              "euribor3m       0.030102  0.141810  0.296945  ...   1.000000     0.946382 -0.307737\n",
              "nr_employed     0.004690  0.153066  0.371042  ...   0.946382     1.000000 -0.353604\n",
              "y               0.016245 -0.071138 -0.324947  ...  -0.307737    -0.353604  1.000000\n",
              "\n",
              "[10 rows x 10 columns]"
            ]
          },
          "metadata": {
            "tags": []
          },
          "execution_count": 61
        },
        {
          "output_type": "display_data",
          "data": {
            "image/png": "[encoded data removed]",
            "text/plain": [
              "<Figure size 864x648 with 2 Axes>"
            ]
          },
          "metadata": {
            "tags": [],
            "needs_background": "light"
          }
        }
      ]
    },
    {
      "cell_type": "code",
      "metadata": {
        "colab": {
          "base_uri": "https://localhost:8080/"
        },
        "id": "KL96qDOvm9LE",
        "outputId": "8b298627-56c6-4965-b499-6048d704f185"
      },
      "source": [
        "final_df.isnull().any()"
      ],
      "execution_count": 62,
      "outputs": [
        {
          "output_type": "execute_result",
          "data": {
            "text/plain": [
              "age               False\n",
              "campaign          False\n",
              "pdays             False\n",
              "previous          False\n",
              "emp_var_rate      False\n",
              "cons_price_idx    False\n",
              "cons_conf_idx     False\n",
              "euribor3m         False\n",
              "nr_employed       False\n",
              "job               False\n",
              "marital           False\n",
              "education         False\n",
              "default           False\n",
              "housing           False\n",
              "loan              False\n",
              "contact           False\n",
              "month             False\n",
              "day_of_week       False\n",
              "poutcome          False\n",
              "dtype: bool"
            ]
          },
          "metadata": {
            "tags": []
          },
          "execution_count": 62
        }
      ]
    },
    {
      "cell_type": "markdown",
      "metadata": {
        "id": "UNiv2Dgex4hx"
      },
      "source": [
        "PCA"
      ]
    },
    {
      "cell_type": "code",
      "metadata": {
        "id": "t47coal5dhC-"
      },
      "source": [
        "pca = PCA()\n",
        "\n",
        "final_Scaled_pca = pca.fit_transform(final_df) \n"
      ],
      "execution_count": 63,
      "outputs": []
    },
    {
      "cell_type": "code",
      "metadata": {
        "colab": {
          "base_uri": "https://localhost:8080/"
        },
        "id": "s1bFIAw3vry6",
        "outputId": "adcc9b9b-803c-497f-b3ff-7e5fc6bf56a9"
      },
      "source": [
        "pca.explained_variance_ratio_"
      ],
      "execution_count": 64,
      "outputs": [
        {
          "output_type": "execute_result",
          "data": {
            "text/plain": [
              "array([3.60669973e-01, 1.53764511e-01, 1.21669181e-01, 1.06012469e-01,\n",
              "       5.39087404e-02, 3.59319010e-02, 2.95925809e-02, 2.68749697e-02,\n",
              "       2.68010681e-02, 2.35982824e-02, 1.43962188e-02, 1.28714353e-02,\n",
              "       1.14189365e-02, 9.56540712e-03, 5.37729685e-03, 4.06675000e-03,\n",
              "       2.54687399e-03, 6.61451887e-04, 2.71953598e-04])"
            ]
          },
          "metadata": {
            "tags": []
          },
          "execution_count": 64
        }
      ]
    },
    {
      "cell_type": "code",
      "metadata": {
        "colab": {
          "base_uri": "https://localhost:8080/"
        },
        "id": "Pq3Is7jQmwW6",
        "outputId": "af3bbb2f-6e93-472d-e04e-f04726db9fb3"
      },
      "source": [
        "pca = PCA(.95)\n",
        "pca.fit(final_df)\n",
        "pca.n_components_"
      ],
      "execution_count": 65,
      "outputs": [
        {
          "output_type": "execute_result",
          "data": {
            "text/plain": [
              "11"
            ]
          },
          "metadata": {
            "tags": []
          },
          "execution_count": 65
        }
      ]
    },
    {
      "cell_type": "code",
      "metadata": {
        "colab": {
          "base_uri": "https://localhost:8080/",
          "height": 408
        },
        "id": "aoGlMtiMv1Ee",
        "outputId": "53967396-2faa-4c7e-e459-1aaeef3ddf55"
      },
      "source": [
        "pca = PCA()\n",
        "final_Scaled_pca = PCA(n_components=11).fit_transform(final_Scaled_pca) \n",
        "principalDf=pd.DataFrame(data =final_Scaled_pca)\n",
        "principalDf"
      ],
      "execution_count": 66,
      "outputs": [
        {
          "output_type": "execute_result",
          "data": {
            "text/html": [
              "<div>\n",
              "<style scoped>\n",
              "    .dataframe tbody tr th:only-of-type {\n",
              "        vertical-align: middle;\n",
              "    }\n",
              "\n",
              "    .dataframe tbody tr th {\n",
              "        vertical-align: top;\n",
              "    }\n",
              "\n",
              "    .dataframe thead th {\n",
              "        text-align: right;\n",
              "    }\n",
              "</style>\n",
              "<table border=\"1\" class=\"dataframe\">\n",
              "  <thead>\n",
              "    <tr style=\"text-align: right;\">\n",
              "      <th></th>\n",
              "      <th>0</th>\n",
              "      <th>1</th>\n",
              "      <th>2</th>\n",
              "      <th>3</th>\n",
              "      <th>4</th>\n",
              "      <th>5</th>\n",
              "      <th>6</th>\n",
              "      <th>7</th>\n",
              "      <th>8</th>\n",
              "      <th>9</th>\n",
              "      <th>10</th>\n",
              "    </tr>\n",
              "  </thead>\n",
              "  <tbody>\n",
              "    <tr>\n",
              "      <th>0</th>\n",
              "      <td>-3.022681</td>\n",
              "      <td>-2.344430</td>\n",
              "      <td>-4.299381</td>\n",
              "      <td>0.775681</td>\n",
              "      <td>-0.067002</td>\n",
              "      <td>0.516810</td>\n",
              "      <td>-1.074918</td>\n",
              "      <td>-0.546709</td>\n",
              "      <td>-1.068702</td>\n",
              "      <td>0.342478</td>\n",
              "      <td>-0.400924</td>\n",
              "    </tr>\n",
              "    <tr>\n",
              "      <th>1</th>\n",
              "      <td>5.512558</td>\n",
              "      <td>1.934199</td>\n",
              "      <td>2.948065</td>\n",
              "      <td>-1.583600</td>\n",
              "      <td>2.032565</td>\n",
              "      <td>-0.174208</td>\n",
              "      <td>-1.248843</td>\n",
              "      <td>-0.380308</td>\n",
              "      <td>1.066050</td>\n",
              "      <td>-1.124997</td>\n",
              "      <td>-0.264299</td>\n",
              "    </tr>\n",
              "    <tr>\n",
              "      <th>2</th>\n",
              "      <td>0.625998</td>\n",
              "      <td>-0.190853</td>\n",
              "      <td>3.648622</td>\n",
              "      <td>3.258147</td>\n",
              "      <td>-0.191875</td>\n",
              "      <td>4.042346</td>\n",
              "      <td>3.453159</td>\n",
              "      <td>0.245416</td>\n",
              "      <td>-1.357098</td>\n",
              "      <td>0.249373</td>\n",
              "      <td>-0.409749</td>\n",
              "    </tr>\n",
              "    <tr>\n",
              "      <th>3</th>\n",
              "      <td>3.333365</td>\n",
              "      <td>-3.264368</td>\n",
              "      <td>-1.275992</td>\n",
              "      <td>3.204110</td>\n",
              "      <td>1.919122</td>\n",
              "      <td>-1.374249</td>\n",
              "      <td>0.124298</td>\n",
              "      <td>-0.180542</td>\n",
              "      <td>1.219428</td>\n",
              "      <td>-0.564511</td>\n",
              "      <td>-0.250936</td>\n",
              "    </tr>\n",
              "    <tr>\n",
              "      <th>4</th>\n",
              "      <td>1.024487</td>\n",
              "      <td>-1.173128</td>\n",
              "      <td>-2.340678</td>\n",
              "      <td>6.481074</td>\n",
              "      <td>1.756217</td>\n",
              "      <td>4.595884</td>\n",
              "      <td>-0.661318</td>\n",
              "      <td>-0.075005</td>\n",
              "      <td>-1.103121</td>\n",
              "      <td>0.916779</td>\n",
              "      <td>-0.422521</td>\n",
              "    </tr>\n",
              "    <tr>\n",
              "      <th>...</th>\n",
              "      <td>...</td>\n",
              "      <td>...</td>\n",
              "      <td>...</td>\n",
              "      <td>...</td>\n",
              "      <td>...</td>\n",
              "      <td>...</td>\n",
              "      <td>...</td>\n",
              "      <td>...</td>\n",
              "      <td>...</td>\n",
              "      <td>...</td>\n",
              "      <td>...</td>\n",
              "    </tr>\n",
              "    <tr>\n",
              "      <th>41170</th>\n",
              "      <td>-3.870888</td>\n",
              "      <td>1.338071</td>\n",
              "      <td>-0.575030</td>\n",
              "      <td>-1.842146</td>\n",
              "      <td>0.077366</td>\n",
              "      <td>0.601394</td>\n",
              "      <td>-0.967784</td>\n",
              "      <td>0.280289</td>\n",
              "      <td>-0.976957</td>\n",
              "      <td>-1.785352</td>\n",
              "      <td>-0.399239</td>\n",
              "    </tr>\n",
              "    <tr>\n",
              "      <th>41171</th>\n",
              "      <td>1.167535</td>\n",
              "      <td>-0.041196</td>\n",
              "      <td>-1.356550</td>\n",
              "      <td>-0.982353</td>\n",
              "      <td>0.029565</td>\n",
              "      <td>0.332613</td>\n",
              "      <td>0.390193</td>\n",
              "      <td>-0.960583</td>\n",
              "      <td>0.694309</td>\n",
              "      <td>0.780719</td>\n",
              "      <td>1.745849</td>\n",
              "    </tr>\n",
              "    <tr>\n",
              "      <th>41172</th>\n",
              "      <td>-1.265838</td>\n",
              "      <td>2.569651</td>\n",
              "      <td>-3.415688</td>\n",
              "      <td>-0.616796</td>\n",
              "      <td>0.142931</td>\n",
              "      <td>0.661707</td>\n",
              "      <td>-0.162393</td>\n",
              "      <td>-0.115295</td>\n",
              "      <td>1.058185</td>\n",
              "      <td>0.520681</td>\n",
              "      <td>-0.240382</td>\n",
              "    </tr>\n",
              "    <tr>\n",
              "      <th>41173</th>\n",
              "      <td>-3.456744</td>\n",
              "      <td>1.238292</td>\n",
              "      <td>3.962325</td>\n",
              "      <td>1.513719</td>\n",
              "      <td>-2.047889</td>\n",
              "      <td>0.345900</td>\n",
              "      <td>-2.974768</td>\n",
              "      <td>0.441656</td>\n",
              "      <td>-0.428456</td>\n",
              "      <td>2.495094</td>\n",
              "      <td>1.654249</td>\n",
              "    </tr>\n",
              "    <tr>\n",
              "      <th>41174</th>\n",
              "      <td>5.212600</td>\n",
              "      <td>3.409827</td>\n",
              "      <td>0.963566</td>\n",
              "      <td>-2.613814</td>\n",
              "      <td>-0.865604</td>\n",
              "      <td>-0.036974</td>\n",
              "      <td>1.083997</td>\n",
              "      <td>-0.327730</td>\n",
              "      <td>0.832922</td>\n",
              "      <td>1.396734</td>\n",
              "      <td>1.762218</td>\n",
              "    </tr>\n",
              "  </tbody>\n",
              "</table>\n",
              "<p>41175 rows × 11 columns</p>\n",
              "</div>"
            ],
            "text/plain": [
              "             0         1         2   ...        8         9         10\n",
              "0     -3.022681 -2.344430 -4.299381  ... -1.068702  0.342478 -0.400924\n",
              "1      5.512558  1.934199  2.948065  ...  1.066050 -1.124997 -0.264299\n",
              "2      0.625998 -0.190853  3.648622  ... -1.357098  0.249373 -0.409749\n",
              "3      3.333365 -3.264368 -1.275992  ...  1.219428 -0.564511 -0.250936\n",
              "4      1.024487 -1.173128 -2.340678  ... -1.103121  0.916779 -0.422521\n",
              "...         ...       ...       ...  ...       ...       ...       ...\n",
              "41170 -3.870888  1.338071 -0.575030  ... -0.976957 -1.785352 -0.399239\n",
              "41171  1.167535 -0.041196 -1.356550  ...  0.694309  0.780719  1.745849\n",
              "41172 -1.265838  2.569651 -3.415688  ...  1.058185  0.520681 -0.240382\n",
              "41173 -3.456744  1.238292  3.962325  ... -0.428456  2.495094  1.654249\n",
              "41174  5.212600  3.409827  0.963566  ...  0.832922  1.396734  1.762218\n",
              "\n",
              "[41175 rows x 11 columns]"
            ]
          },
          "metadata": {
            "tags": []
          },
          "execution_count": 66
        }
      ]
    },
    {
      "cell_type": "code",
      "metadata": {
        "colab": {
          "base_uri": "https://localhost:8080/",
          "height": 351
        },
        "id": "IbH815bYwcwq",
        "outputId": "0af65356-d3c6-4956-b33d-a26a33439003"
      },
      "source": [
        "y=y_true\n",
        "final = pd.concat([principalDf, pd.DataFrame(y)], axis = 1)\n",
        "final.head(10)"
      ],
      "execution_count": 67,
      "outputs": [
        {
          "output_type": "execute_result",
          "data": {
            "text/html": [
              "<div>\n",
              "<style scoped>\n",
              "    .dataframe tbody tr th:only-of-type {\n",
              "        vertical-align: middle;\n",
              "    }\n",
              "\n",
              "    .dataframe tbody tr th {\n",
              "        vertical-align: top;\n",
              "    }\n",
              "\n",
              "    .dataframe thead th {\n",
              "        text-align: right;\n",
              "    }\n",
              "</style>\n",
              "<table border=\"1\" class=\"dataframe\">\n",
              "  <thead>\n",
              "    <tr style=\"text-align: right;\">\n",
              "      <th></th>\n",
              "      <th>0</th>\n",
              "      <th>1</th>\n",
              "      <th>2</th>\n",
              "      <th>3</th>\n",
              "      <th>4</th>\n",
              "      <th>5</th>\n",
              "      <th>6</th>\n",
              "      <th>7</th>\n",
              "      <th>8</th>\n",
              "      <th>9</th>\n",
              "      <th>10</th>\n",
              "      <th>y</th>\n",
              "    </tr>\n",
              "  </thead>\n",
              "  <tbody>\n",
              "    <tr>\n",
              "      <th>0</th>\n",
              "      <td>-3.022681</td>\n",
              "      <td>-2.344430</td>\n",
              "      <td>-4.299381</td>\n",
              "      <td>0.775681</td>\n",
              "      <td>-0.067002</td>\n",
              "      <td>0.516810</td>\n",
              "      <td>-1.074918</td>\n",
              "      <td>-0.546709</td>\n",
              "      <td>-1.068702</td>\n",
              "      <td>0.342478</td>\n",
              "      <td>-0.400924</td>\n",
              "      <td>0</td>\n",
              "    </tr>\n",
              "    <tr>\n",
              "      <th>1</th>\n",
              "      <td>5.512558</td>\n",
              "      <td>1.934199</td>\n",
              "      <td>2.948065</td>\n",
              "      <td>-1.583600</td>\n",
              "      <td>2.032565</td>\n",
              "      <td>-0.174208</td>\n",
              "      <td>-1.248843</td>\n",
              "      <td>-0.380308</td>\n",
              "      <td>1.066050</td>\n",
              "      <td>-1.124997</td>\n",
              "      <td>-0.264299</td>\n",
              "      <td>0</td>\n",
              "    </tr>\n",
              "    <tr>\n",
              "      <th>2</th>\n",
              "      <td>0.625998</td>\n",
              "      <td>-0.190853</td>\n",
              "      <td>3.648622</td>\n",
              "      <td>3.258147</td>\n",
              "      <td>-0.191875</td>\n",
              "      <td>4.042346</td>\n",
              "      <td>3.453159</td>\n",
              "      <td>0.245416</td>\n",
              "      <td>-1.357098</td>\n",
              "      <td>0.249373</td>\n",
              "      <td>-0.409749</td>\n",
              "      <td>1</td>\n",
              "    </tr>\n",
              "    <tr>\n",
              "      <th>3</th>\n",
              "      <td>3.333365</td>\n",
              "      <td>-3.264368</td>\n",
              "      <td>-1.275992</td>\n",
              "      <td>3.204110</td>\n",
              "      <td>1.919122</td>\n",
              "      <td>-1.374249</td>\n",
              "      <td>0.124298</td>\n",
              "      <td>-0.180542</td>\n",
              "      <td>1.219428</td>\n",
              "      <td>-0.564511</td>\n",
              "      <td>-0.250936</td>\n",
              "      <td>0</td>\n",
              "    </tr>\n",
              "    <tr>\n",
              "      <th>4</th>\n",
              "      <td>1.024487</td>\n",
              "      <td>-1.173128</td>\n",
              "      <td>-2.340678</td>\n",
              "      <td>6.481074</td>\n",
              "      <td>1.756217</td>\n",
              "      <td>4.595884</td>\n",
              "      <td>-0.661318</td>\n",
              "      <td>-0.075005</td>\n",
              "      <td>-1.103121</td>\n",
              "      <td>0.916779</td>\n",
              "      <td>-0.422521</td>\n",
              "      <td>1</td>\n",
              "    </tr>\n",
              "    <tr>\n",
              "      <th>5</th>\n",
              "      <td>-0.154021</td>\n",
              "      <td>-0.292120</td>\n",
              "      <td>-4.297893</td>\n",
              "      <td>-0.072997</td>\n",
              "      <td>-0.882674</td>\n",
              "      <td>-0.548036</td>\n",
              "      <td>1.483647</td>\n",
              "      <td>1.693295</td>\n",
              "      <td>-0.579302</td>\n",
              "      <td>0.844812</td>\n",
              "      <td>-0.397219</td>\n",
              "      <td>0</td>\n",
              "    </tr>\n",
              "    <tr>\n",
              "      <th>6</th>\n",
              "      <td>-3.229141</td>\n",
              "      <td>2.852767</td>\n",
              "      <td>-1.843081</td>\n",
              "      <td>2.705089</td>\n",
              "      <td>0.054484</td>\n",
              "      <td>-1.595467</td>\n",
              "      <td>-0.334464</td>\n",
              "      <td>-0.167326</td>\n",
              "      <td>-0.908672</td>\n",
              "      <td>-0.296921</td>\n",
              "      <td>-0.381492</td>\n",
              "      <td>0</td>\n",
              "    </tr>\n",
              "    <tr>\n",
              "      <th>7</th>\n",
              "      <td>-2.987420</td>\n",
              "      <td>2.211269</td>\n",
              "      <td>-0.075023</td>\n",
              "      <td>2.115229</td>\n",
              "      <td>2.029895</td>\n",
              "      <td>-1.463818</td>\n",
              "      <td>-0.607571</td>\n",
              "      <td>-0.056910</td>\n",
              "      <td>-0.854592</td>\n",
              "      <td>-0.583702</td>\n",
              "      <td>-0.412378</td>\n",
              "      <td>0</td>\n",
              "    </tr>\n",
              "    <tr>\n",
              "      <th>8</th>\n",
              "      <td>-3.348543</td>\n",
              "      <td>-0.526167</td>\n",
              "      <td>4.049624</td>\n",
              "      <td>3.343669</td>\n",
              "      <td>0.777048</td>\n",
              "      <td>3.489895</td>\n",
              "      <td>1.797535</td>\n",
              "      <td>-0.924272</td>\n",
              "      <td>0.518852</td>\n",
              "      <td>-0.307594</td>\n",
              "      <td>-0.311039</td>\n",
              "      <td>1</td>\n",
              "    </tr>\n",
              "    <tr>\n",
              "      <th>9</th>\n",
              "      <td>-2.963784</td>\n",
              "      <td>-2.647289</td>\n",
              "      <td>-2.924897</td>\n",
              "      <td>4.772149</td>\n",
              "      <td>-0.103656</td>\n",
              "      <td>-0.912148</td>\n",
              "      <td>1.663278</td>\n",
              "      <td>-0.132268</td>\n",
              "      <td>-1.041491</td>\n",
              "      <td>-0.020164</td>\n",
              "      <td>-0.387561</td>\n",
              "      <td>0</td>\n",
              "    </tr>\n",
              "  </tbody>\n",
              "</table>\n",
              "</div>"
            ],
            "text/plain": [
              "          0         1         2         3  ...         8         9        10  y\n",
              "0 -3.022681 -2.344430 -4.299381  0.775681  ... -1.068702  0.342478 -0.400924  0\n",
              "1  5.512558  1.934199  2.948065 -1.583600  ...  1.066050 -1.124997 -0.264299  0\n",
              "2  0.625998 -0.190853  3.648622  3.258147  ... -1.357098  0.249373 -0.409749  1\n",
              "3  3.333365 -3.264368 -1.275992  3.204110  ...  1.219428 -0.564511 -0.250936  0\n",
              "4  1.024487 -1.173128 -2.340678  6.481074  ... -1.103121  0.916779 -0.422521  1\n",
              "5 -0.154021 -0.292120 -4.297893 -0.072997  ... -0.579302  0.844812 -0.397219  0\n",
              "6 -3.229141  2.852767 -1.843081  2.705089  ... -0.908672 -0.296921 -0.381492  0\n",
              "7 -2.987420  2.211269 -0.075023  2.115229  ... -0.854592 -0.583702 -0.412378  0\n",
              "8 -3.348543 -0.526167  4.049624  3.343669  ...  0.518852 -0.307594 -0.311039  1\n",
              "9 -2.963784 -2.647289 -2.924897  4.772149  ... -1.041491 -0.020164 -0.387561  0\n",
              "\n",
              "[10 rows x 12 columns]"
            ]
          },
          "metadata": {
            "tags": []
          },
          "execution_count": 67
        }
      ]
    },
    {
      "cell_type": "code",
      "metadata": {
        "colab": {
          "base_uri": "https://localhost:8080/"
        },
        "id": "uK_0JQOL4kLO",
        "outputId": "e548fcd3-cbf8-43e3-8762-7865b3b5d234"
      },
      "source": [
        "y.columns"
      ],
      "execution_count": 68,
      "outputs": [
        {
          "output_type": "execute_result",
          "data": {
            "text/plain": [
              "Index(['y'], dtype='object')"
            ]
          },
          "metadata": {
            "tags": []
          },
          "execution_count": 68
        }
      ]
    },
    {
      "cell_type": "code",
      "metadata": {
        "colab": {
          "base_uri": "https://localhost:8080/"
        },
        "id": "a3kIqnB24pUp",
        "outputId": "42feee3c-7b6d-4c95-b2e5-9eecef02a3cf"
      },
      "source": [
        "y.value_counts()"
      ],
      "execution_count": 69,
      "outputs": [
        {
          "output_type": "execute_result",
          "data": {
            "text/plain": [
              "y\n",
              "0    36536\n",
              "1     4639\n",
              "dtype: int64"
            ]
          },
          "metadata": {
            "tags": []
          },
          "execution_count": 69
        }
      ]
    },
    {
      "cell_type": "code",
      "metadata": {
        "colab": {
          "base_uri": "https://localhost:8080/",
          "height": 347
        },
        "id": "M2Bj6lQr4JJW",
        "outputId": "9080410e-08f7-481a-c1e7-fc74523ea5b0"
      },
      "source": [
        "sns.countplot(y['y'])"
      ],
      "execution_count": 70,
      "outputs": [
        {
          "output_type": "stream",
          "text": [
            "/usr/local/lib/python3.7/dist-packages/seaborn/_decorators.py:43: FutureWarning: Pass the following variable as a keyword arg: x. From version 0.12, the only valid positional argument will be `data`, and passing other arguments without an explicit keyword will result in an error or misinterpretation.\n",
            "  FutureWarning\n"
          ],
          "name": "stderr"
        },
        {
          "output_type": "execute_result",
          "data": {
            "text/plain": [
              "<matplotlib.axes._subplots.AxesSubplot at 0x7f3eedd9e390>"
            ]
          },
          "metadata": {
            "tags": []
          },
          "execution_count": 70
        },
        {
          "output_type": "display_data",
          "data": {
            "image/png": "[encoded data removed]",
            "text/plain": [
              "<Figure size 432x288 with 1 Axes>"
            ]
          },
          "metadata": {
            "tags": [],
            "needs_background": "light"
          }
        }
      ]
    },
    {
      "cell_type": "markdown",
      "metadata": {
        "id": "-imV9HygdFV9"
      },
      "source": [
        "# Splitting the dataset"
      ]
    },
    {
      "cell_type": "code",
      "metadata": {
        "id": "0L16rwycblJh"
      },
      "source": [
        "# split into train and test datasets\n",
        "X_train, X_test, Y_train, Y_test = train_test_split(principalDf, y, test_size = 0.2, random_state = 100)\n"
      ],
      "execution_count": 71,
      "outputs": []
    },
    {
      "cell_type": "code",
      "metadata": {
        "colab": {
          "base_uri": "https://localhost:8080/"
        },
        "id": "z5C58ZSqu97W",
        "outputId": "c919ea1c-1793-4b15-eb0b-e4ebe0bab6a9"
      },
      "source": [
        "X_train.shape"
      ],
      "execution_count": 72,
      "outputs": [
        {
          "output_type": "execute_result",
          "data": {
            "text/plain": [
              "(32940, 11)"
            ]
          },
          "metadata": {
            "tags": []
          },
          "execution_count": 72
        }
      ]
    },
    {
      "cell_type": "markdown",
      "metadata": {
        "id": "5WOZ3T38baS-"
      },
      "source": [
        "# SMOTE"
      ]
    },
    {
      "cell_type": "code",
      "metadata": {
        "colab": {
          "base_uri": "https://localhost:8080/"
        },
        "id": "dhPluKxLbyKZ",
        "outputId": "9e91e112-502b-4ced-be4e-86c46d871546"
      },
      "source": [
        "from imblearn.over_sampling import SMOTE\n",
        "smote = SMOTE(random_state = 100)\n",
        "X, Y = smote.fit_resample(X_train, Y_train)\n"
      ],
      "execution_count": 73,
      "outputs": [
        {
          "output_type": "stream",
          "text": [
            "/usr/local/lib/python3.7/dist-packages/sklearn/externals/six.py:31: FutureWarning: The module is deprecated in version 0.21 and will be removed in version 0.23 since we've dropped support for Python 2.7. Please rely on the official version of six (https://pypi.org/project/six/).\n",
            "  \"(https://pypi.org/project/six/).\", FutureWarning)\n",
            "/usr/local/lib/python3.7/dist-packages/sklearn/utils/deprecation.py:144: FutureWarning: The sklearn.neighbors.base module is  deprecated in version 0.22 and will be removed in version 0.24. The corresponding classes / functions should instead be imported from sklearn.neighbors. Anything that cannot be imported from sklearn.neighbors is now part of the private API.\n",
            "  warnings.warn(message, FutureWarning)\n",
            "/usr/local/lib/python3.7/dist-packages/sklearn/utils/validation.py:760: DataConversionWarning: A column-vector y was passed when a 1d array was expected. Please change the shape of y to (n_samples, ), for example using ravel().\n",
            "  y = column_or_1d(y, warn=True)\n",
            "/usr/local/lib/python3.7/dist-packages/sklearn/utils/deprecation.py:87: FutureWarning: Function safe_indexing is deprecated; safe_indexing is deprecated in version 0.22 and will be removed in version 0.24.\n",
            "  warnings.warn(msg, category=FutureWarning)\n"
          ],
          "name": "stderr"
        }
      ]
    },
    {
      "cell_type": "markdown",
      "metadata": {
        "id": "AOPYRFteah_1"
      },
      "source": [
        "# After Applying **SMOTE**"
      ]
    },
    {
      "cell_type": "code",
      "metadata": {
        "id": "5ajq-Q8E3z26"
      },
      "source": [
        "x_train = pd.DataFrame(X)\n",
        "y_train = pd.DataFrame(Y)"
      ],
      "execution_count": 74,
      "outputs": []
    },
    {
      "cell_type": "code",
      "metadata": {
        "colab": {
          "base_uri": "https://localhost:8080/"
        },
        "id": "1ZZOiINdvMGZ",
        "outputId": "6fe6fd0e-9959-42a0-a3d3-f47daade5e84"
      },
      "source": [
        "x_train.columns"
      ],
      "execution_count": 75,
      "outputs": [
        {
          "output_type": "execute_result",
          "data": {
            "text/plain": [
              "RangeIndex(start=0, stop=11, step=1)"
            ]
          },
          "metadata": {
            "tags": []
          },
          "execution_count": 75
        }
      ]
    },
    {
      "cell_type": "code",
      "metadata": {
        "id": "vtJf6eSn64rt"
      },
      "source": [
        "finalD=pd.DataFrame(X)\n",
        "finalD['y']=Y"
      ],
      "execution_count": 76,
      "outputs": []
    },
    {
      "cell_type": "code",
      "metadata": {
        "colab": {
          "base_uri": "https://localhost:8080/"
        },
        "id": "mgEGLmIj6HO1",
        "outputId": "902a1696-0de1-4de0-9b31-c7e6ee05061d"
      },
      "source": [
        "finalD['y'].value_counts()"
      ],
      "execution_count": 77,
      "outputs": [
        {
          "output_type": "execute_result",
          "data": {
            "text/plain": [
              "1    29236\n",
              "0    29236\n",
              "Name: y, dtype: int64"
            ]
          },
          "metadata": {
            "tags": []
          },
          "execution_count": 77
        }
      ]
    },
    {
      "cell_type": "code",
      "metadata": {
        "colab": {
          "base_uri": "https://localhost:8080/",
          "height": 347
        },
        "id": "EkP4gk6l6ZJc",
        "outputId": "c15be6bf-da9e-461d-a518-e8838b54a508"
      },
      "source": [
        "sns.countplot(finalD['y'])"
      ],
      "execution_count": 78,
      "outputs": [
        {
          "output_type": "stream",
          "text": [
            "/usr/local/lib/python3.7/dist-packages/seaborn/_decorators.py:43: FutureWarning: Pass the following variable as a keyword arg: x. From version 0.12, the only valid positional argument will be `data`, and passing other arguments without an explicit keyword will result in an error or misinterpretation.\n",
            "  FutureWarning\n"
          ],
          "name": "stderr"
        },
        {
          "output_type": "execute_result",
          "data": {
            "text/plain": [
              "<matplotlib.axes._subplots.AxesSubplot at 0x7f3ee9368590>"
            ]
          },
          "metadata": {
            "tags": []
          },
          "execution_count": 78
        },
        {
          "output_type": "display_data",
          "data": {
            "image/png": "[encoded data removed]",
            "text/plain": [
              "<Figure size 432x288 with 1 Axes>"
            ]
          },
          "metadata": {
            "tags": [],
            "needs_background": "light"
          }
        }
      ]
    },
    {
      "cell_type": "code",
      "metadata": {
        "colab": {
          "base_uri": "https://localhost:8080/",
          "height": 200
        },
        "id": "Wy_HZqXf4Kip",
        "outputId": "85c491ca-b2c7-43f2-abc4-607912de462f"
      },
      "source": [
        "x_train.head()"
      ],
      "execution_count": 79,
      "outputs": [
        {
          "output_type": "execute_result",
          "data": {
            "text/html": [
              "<div>\n",
              "<style scoped>\n",
              "    .dataframe tbody tr th:only-of-type {\n",
              "        vertical-align: middle;\n",
              "    }\n",
              "\n",
              "    .dataframe tbody tr th {\n",
              "        vertical-align: top;\n",
              "    }\n",
              "\n",
              "    .dataframe thead th {\n",
              "        text-align: right;\n",
              "    }\n",
              "</style>\n",
              "<table border=\"1\" class=\"dataframe\">\n",
              "  <thead>\n",
              "    <tr style=\"text-align: right;\">\n",
              "      <th></th>\n",
              "      <th>0</th>\n",
              "      <th>1</th>\n",
              "      <th>2</th>\n",
              "      <th>3</th>\n",
              "      <th>4</th>\n",
              "      <th>5</th>\n",
              "      <th>6</th>\n",
              "      <th>7</th>\n",
              "      <th>8</th>\n",
              "      <th>9</th>\n",
              "      <th>10</th>\n",
              "    </tr>\n",
              "  </thead>\n",
              "  <tbody>\n",
              "    <tr>\n",
              "      <th>0</th>\n",
              "      <td>-3.594552</td>\n",
              "      <td>-3.957399</td>\n",
              "      <td>-1.063896</td>\n",
              "      <td>1.844544</td>\n",
              "      <td>-0.111712</td>\n",
              "      <td>1.010805</td>\n",
              "      <td>-0.584007</td>\n",
              "      <td>0.846381</td>\n",
              "      <td>-0.726622</td>\n",
              "      <td>-1.185873</td>\n",
              "      <td>-0.419627</td>\n",
              "    </tr>\n",
              "    <tr>\n",
              "      <th>1</th>\n",
              "      <td>-3.269533</td>\n",
              "      <td>-4.232320</td>\n",
              "      <td>1.263808</td>\n",
              "      <td>-1.135029</td>\n",
              "      <td>-0.167161</td>\n",
              "      <td>0.113674</td>\n",
              "      <td>-0.351337</td>\n",
              "      <td>-0.952288</td>\n",
              "      <td>-1.321677</td>\n",
              "      <td>0.777587</td>\n",
              "      <td>1.586500</td>\n",
              "    </tr>\n",
              "    <tr>\n",
              "      <th>2</th>\n",
              "      <td>-0.889397</td>\n",
              "      <td>1.787723</td>\n",
              "      <td>-0.208235</td>\n",
              "      <td>-0.295259</td>\n",
              "      <td>2.044301</td>\n",
              "      <td>-0.429191</td>\n",
              "      <td>-0.410430</td>\n",
              "      <td>-0.980170</td>\n",
              "      <td>0.865101</td>\n",
              "      <td>-0.327962</td>\n",
              "      <td>-0.271576</td>\n",
              "    </tr>\n",
              "    <tr>\n",
              "      <th>3</th>\n",
              "      <td>-1.056797</td>\n",
              "      <td>-2.201944</td>\n",
              "      <td>-4.620564</td>\n",
              "      <td>0.561128</td>\n",
              "      <td>-0.996786</td>\n",
              "      <td>-0.353263</td>\n",
              "      <td>0.779720</td>\n",
              "      <td>0.287059</td>\n",
              "      <td>-0.953788</td>\n",
              "      <td>0.068480</td>\n",
              "      <td>-0.393110</td>\n",
              "    </tr>\n",
              "    <tr>\n",
              "      <th>4</th>\n",
              "      <td>5.374148</td>\n",
              "      <td>-0.384545</td>\n",
              "      <td>-0.242700</td>\n",
              "      <td>-2.038987</td>\n",
              "      <td>-1.954510</td>\n",
              "      <td>0.034587</td>\n",
              "      <td>0.579717</td>\n",
              "      <td>0.604676</td>\n",
              "      <td>-0.825240</td>\n",
              "      <td>-0.516815</td>\n",
              "      <td>-0.373755</td>\n",
              "    </tr>\n",
              "  </tbody>\n",
              "</table>\n",
              "</div>"
            ],
            "text/plain": [
              "         0         1         2   ...        8         9         10\n",
              "0 -3.594552 -3.957399 -1.063896  ... -0.726622 -1.185873 -0.419627\n",
              "1 -3.269533 -4.232320  1.263808  ... -1.321677  0.777587  1.586500\n",
              "2 -0.889397  1.787723 -0.208235  ...  0.865101 -0.327962 -0.271576\n",
              "3 -1.056797 -2.201944 -4.620564  ... -0.953788  0.068480 -0.393110\n",
              "4  5.374148 -0.384545 -0.242700  ... -0.825240 -0.516815 -0.373755\n",
              "\n",
              "[5 rows x 11 columns]"
            ]
          },
          "metadata": {
            "tags": []
          },
          "execution_count": 79
        }
      ]
    },
    {
      "cell_type": "code",
      "metadata": {
        "colab": {
          "base_uri": "https://localhost:8080/",
          "height": 204
        },
        "id": "isVF4RjO3UOb",
        "outputId": "c5d437a5-c2c8-4d29-d50e-4f991fe827a0"
      },
      "source": [
        "y_train.head()"
      ],
      "execution_count": null,
      "outputs": [
        {
          "output_type": "execute_result",
          "data": {
            "text/html": [
              "<div>\n",
              "<style scoped>\n",
              "    .dataframe tbody tr th:only-of-type {\n",
              "        vertical-align: middle;\n",
              "    }\n",
              "\n",
              "    .dataframe tbody tr th {\n",
              "        vertical-align: top;\n",
              "    }\n",
              "\n",
              "    .dataframe thead th {\n",
              "        text-align: right;\n",
              "    }\n",
              "</style>\n",
              "<table border=\"1\" class=\"dataframe\">\n",
              "  <thead>\n",
              "    <tr style=\"text-align: right;\">\n",
              "      <th></th>\n",
              "      <th>0</th>\n",
              "    </tr>\n",
              "  </thead>\n",
              "  <tbody>\n",
              "    <tr>\n",
              "      <th>0</th>\n",
              "      <td>0</td>\n",
              "    </tr>\n",
              "    <tr>\n",
              "      <th>1</th>\n",
              "      <td>0</td>\n",
              "    </tr>\n",
              "    <tr>\n",
              "      <th>2</th>\n",
              "      <td>0</td>\n",
              "    </tr>\n",
              "    <tr>\n",
              "      <th>3</th>\n",
              "      <td>0</td>\n",
              "    </tr>\n",
              "    <tr>\n",
              "      <th>4</th>\n",
              "      <td>0</td>\n",
              "    </tr>\n",
              "  </tbody>\n",
              "</table>\n",
              "</div>"
            ],
            "text/plain": [
              "   0\n",
              "0  0\n",
              "1  0\n",
              "2  0\n",
              "3  0\n",
              "4  0"
            ]
          },
          "metadata": {
            "tags": []
          },
          "execution_count": 80
        }
      ]
    },
    {
      "cell_type": "markdown",
      "metadata": {
        "id": "wcwppyUnKaFr"
      },
      "source": [
        "# Fitiing SVM "
      ]
    },
    {
      "cell_type": "markdown",
      "metadata": {
        "id": "ZvNxHBccJHNo"
      },
      "source": [
        "c=1, gamma= 0.5"
      ]
    },
    {
      "cell_type": "code",
      "metadata": {
        "id": "hvvQ4JSkxn02",
        "colab": {
          "base_uri": "https://localhost:8080/"
        },
        "outputId": "9d57d4cd-b257-40a0-eb16-c5e676d639e1"
      },
      "source": [
        "# Fitting SVM to the Training set\n",
        "from sklearn.svm import SVC\n",
        "classifier = SVC(kernel = 'rbf', C = 1, gamma = 0.5)\n",
        "classifier.fit(x_train, y_train)"
      ],
      "execution_count": null,
      "outputs": [
        {
          "output_type": "stream",
          "text": [
            "/usr/local/lib/python3.7/dist-packages/sklearn/utils/validation.py:760: DataConversionWarning: A column-vector y was passed when a 1d array was expected. Please change the shape of y to (n_samples, ), for example using ravel().\n",
            "  y = column_or_1d(y, warn=True)\n"
          ],
          "name": "stderr"
        },
        {
          "output_type": "execute_result",
          "data": {
            "text/plain": [
              "SVC(C=1, break_ties=False, cache_size=200, class_weight=None, coef0=0.0,\n",
              "    decision_function_shape='ovr', degree=3, gamma=0.5, kernel='rbf',\n",
              "    max_iter=-1, probability=False, random_state=None, shrinking=True,\n",
              "    tol=0.001, verbose=False)"
            ]
          },
          "metadata": {
            "tags": []
          },
          "execution_count": 81
        }
      ]
    },
    {
      "cell_type": "code",
      "metadata": {
        "colab": {
          "base_uri": "https://localhost:8080/"
        },
        "id": "2Z2pKJDYu3ie",
        "outputId": "3d2f57ed-a72d-4f41-9225-cb4da9b5083a"
      },
      "source": [
        "x_train.columns"
      ],
      "execution_count": null,
      "outputs": [
        {
          "output_type": "execute_result",
          "data": {
            "text/plain": [
              "RangeIndex(start=0, stop=11, step=1)"
            ]
          },
          "metadata": {
            "tags": []
          },
          "execution_count": 82
        }
      ]
    },
    {
      "cell_type": "code",
      "metadata": {
        "id": "ZRe_n6tWzOdp"
      },
      "source": [
        "Y_pred = classifier.predict(X_test)"
      ],
      "execution_count": null,
      "outputs": []
    },
    {
      "cell_type": "code",
      "metadata": {
        "colab": {
          "base_uri": "https://localhost:8080/"
        },
        "id": "JQPU2jnT3yqK",
        "outputId": "7a5d46f9-bcaa-4454-c43a-15431c98df4a"
      },
      "source": [
        "print(Y_pred)"
      ],
      "execution_count": null,
      "outputs": [
        {
          "output_type": "stream",
          "text": [
            "[0 0 0 ... 0 0 0]\n"
          ],
          "name": "stdout"
        }
      ]
    },
    {
      "cell_type": "code",
      "metadata": {
        "colab": {
          "base_uri": "https://localhost:8080/"
        },
        "id": "Y1qV7q9kP87Y",
        "outputId": "cca3e058-455b-4629-c9c8-8e50a1c9e344"
      },
      "source": [
        "y=pd.DataFrame(Y_pred)\n",
        "y.value_counts()"
      ],
      "execution_count": null,
      "outputs": [
        {
          "output_type": "execute_result",
          "data": {
            "text/plain": [
              "0    7325\n",
              "1     910\n",
              "dtype: int64"
            ]
          },
          "metadata": {
            "tags": []
          },
          "execution_count": 85
        }
      ]
    },
    {
      "cell_type": "code",
      "metadata": {
        "colab": {
          "base_uri": "https://localhost:8080/"
        },
        "id": "-Y1vx79rzUgT",
        "outputId": "b54a5976-06bd-4290-f719-381f340448f4"
      },
      "source": [
        "from sklearn.metrics import mean_squared_error\n",
        "mean_squared_error(Y_test, Y_pred)"
      ],
      "execution_count": null,
      "outputs": [
        {
          "output_type": "execute_result",
          "data": {
            "text/plain": [
              "0.17717061323618702"
            ]
          },
          "metadata": {
            "tags": []
          },
          "execution_count": 86
        }
      ]
    },
    {
      "cell_type": "code",
      "metadata": {
        "colab": {
          "base_uri": "https://localhost:8080/"
        },
        "id": "fJVAVoJ_zWKJ",
        "outputId": "47ef0ccb-9260-42d1-f2ee-ab24c6105017"
      },
      "source": [
        "#Root Mean Sqaured Error\n",
        "from math import sqrt\n",
        "rmsq = sqrt(mean_squared_error(Y_test, Y_pred))\n",
        "rmsq"
      ],
      "execution_count": null,
      "outputs": [
        {
          "output_type": "execute_result",
          "data": {
            "text/plain": [
              "0.4209163969676009"
            ]
          },
          "metadata": {
            "tags": []
          },
          "execution_count": 87
        }
      ]
    },
    {
      "cell_type": "code",
      "metadata": {
        "colab": {
          "base_uri": "https://localhost:8080/"
        },
        "id": "QwBW2uYa-bo4",
        "outputId": "50489804-cf41-425e-e270-96fab93dbc9f"
      },
      "source": [
        "print(classifier.score(X_test ,Y_test))"
      ],
      "execution_count": null,
      "outputs": [
        {
          "output_type": "stream",
          "text": [
            "0.822829386763813\n"
          ],
          "name": "stdout"
        }
      ]
    },
    {
      "cell_type": "code",
      "metadata": {
        "colab": {
          "base_uri": "https://localhost:8080/"
        },
        "id": "4q46UL76-xYv",
        "outputId": "e3805cf4-08e6-48b1-bde6-90d670ebbae3"
      },
      "source": [
        "from sklearn.metrics import classification_report, confusion_matrix\n",
        "print(classification_report(Y_test,Y_pred))"
      ],
      "execution_count": null,
      "outputs": [
        {
          "output_type": "stream",
          "text": [
            "              precision    recall  f1-score   support\n",
            "\n",
            "           0       0.90      0.90      0.90      7300\n",
            "           1       0.21      0.21      0.21       935\n",
            "\n",
            "    accuracy                           0.82      8235\n",
            "   macro avg       0.56      0.55      0.55      8235\n",
            "weighted avg       0.82      0.82      0.82      8235\n",
            "\n"
          ],
          "name": "stdout"
        }
      ]
    },
    {
      "cell_type": "code",
      "metadata": {
        "colab": {
          "base_uri": "https://localhost:8080/",
          "height": 265
        },
        "id": "bETEXy8ly6Ut",
        "outputId": "34be2acb-084a-47c5-eec3-6af70464c443"
      },
      "source": [
        "cnf_matrix = confusion_matrix(Y_test,Y_pred)\n",
        "fig, ax = plt.subplots(1)\n",
        "ax = sns.heatmap(cnf_matrix, ax=ax, cmap=plt.cm.Reds, annot=True)\n",
        "plt.show()\n"
      ],
      "execution_count": null,
      "outputs": [
        {
          "output_type": "display_data",
          "data": {
            "image/png": "[encoded data removed]",
            "text/plain": [
              "<Figure size 432x288 with 2 Axes>"
            ]
          },
          "metadata": {
            "tags": [],
            "needs_background": "light"
          }
        }
      ]
    },
    {
      "cell_type": "markdown",
      "metadata": {
        "id": "eJ_VVxeUFffv"
      },
      "source": [
        "c=1, gamma= 1"
      ]
    },
    {
      "cell_type": "code",
      "metadata": {
        "colab": {
          "base_uri": "https://localhost:8080/"
        },
        "id": "e6kD6Xr4FqX5",
        "outputId": "c54c1f25-8240-4a0f-d673-bde9c63b637c"
      },
      "source": [
        "# Fitting SVM to the Training set\n",
        "from sklearn.svm import SVC\n",
        "classifier = SVC(kernel = 'rbf', C = 1, gamma = 1)\n",
        "classifier.fit(x_train, y_train)"
      ],
      "execution_count": null,
      "outputs": [
        {
          "output_type": "stream",
          "text": [
            "/usr/local/lib/python3.7/dist-packages/sklearn/utils/validation.py:760: DataConversionWarning: A column-vector y was passed when a 1d array was expected. Please change the shape of y to (n_samples, ), for example using ravel().\n",
            "  y = column_or_1d(y, warn=True)\n"
          ],
          "name": "stderr"
        },
        {
          "output_type": "execute_result",
          "data": {
            "text/plain": [
              "SVC(C=1, break_ties=False, cache_size=200, class_weight=None, coef0=0.0,\n",
              "    decision_function_shape='ovr', degree=3, gamma=1, kernel='rbf', max_iter=-1,\n",
              "    probability=False, random_state=None, shrinking=True, tol=0.001,\n",
              "    verbose=False)"
            ]
          },
          "metadata": {
            "tags": []
          },
          "execution_count": 91
        }
      ]
    },
    {
      "cell_type": "code",
      "metadata": {
        "colab": {
          "base_uri": "https://localhost:8080/"
        },
        "id": "W6vbkJgNFqX7",
        "outputId": "e1a8451c-ad0d-47c4-9a30-c2eeaf64a8d2"
      },
      "source": [
        "x_train.columns"
      ],
      "execution_count": null,
      "outputs": [
        {
          "output_type": "execute_result",
          "data": {
            "text/plain": [
              "RangeIndex(start=0, stop=11, step=1)"
            ]
          },
          "metadata": {
            "tags": []
          },
          "execution_count": 92
        }
      ]
    },
    {
      "cell_type": "code",
      "metadata": {
        "id": "Ht7cBZdFFqX9"
      },
      "source": [
        "Y_pred = classifier.predict(X_test)"
      ],
      "execution_count": null,
      "outputs": []
    },
    {
      "cell_type": "code",
      "metadata": {
        "colab": {
          "base_uri": "https://localhost:8080/"
        },
        "id": "AGOK2G4PFqX9",
        "outputId": "d9f4a58f-416a-4f31-a727-19bce541e22b"
      },
      "source": [
        "print(Y_pred)"
      ],
      "execution_count": null,
      "outputs": [
        {
          "output_type": "stream",
          "text": [
            "[0 0 0 ... 0 0 0]\n"
          ],
          "name": "stdout"
        }
      ]
    },
    {
      "cell_type": "code",
      "metadata": {
        "colab": {
          "base_uri": "https://localhost:8080/"
        },
        "id": "tOkKpNPJFqX-",
        "outputId": "09ffadf8-cd12-493a-c147-e7a48521dd65"
      },
      "source": [
        "y=pd.DataFrame(Y_pred)\n",
        "y.value_counts()"
      ],
      "execution_count": null,
      "outputs": [
        {
          "output_type": "execute_result",
          "data": {
            "text/plain": [
              "0    7642\n",
              "1     593\n",
              "dtype: int64"
            ]
          },
          "metadata": {
            "tags": []
          },
          "execution_count": 95
        }
      ]
    },
    {
      "cell_type": "code",
      "metadata": {
        "colab": {
          "base_uri": "https://localhost:8080/"
        },
        "id": "80rWNiBpFqX-",
        "outputId": "cd47a521-2dfe-4c9f-ea29-f97fb6bd187f"
      },
      "source": [
        "from sklearn.metrics import mean_squared_error\n",
        "mean_squared_error(Y_test, Y_pred)"
      ],
      "execution_count": null,
      "outputs": [
        {
          "output_type": "execute_result",
          "data": {
            "text/plain": [
              "0.16393442622950818"
            ]
          },
          "metadata": {
            "tags": []
          },
          "execution_count": 96
        }
      ]
    },
    {
      "cell_type": "code",
      "metadata": {
        "colab": {
          "base_uri": "https://localhost:8080/"
        },
        "id": "FcY9MbzZFqYA",
        "outputId": "6f283794-7ab5-406a-a08c-baf8c28ba5e1"
      },
      "source": [
        "#Root Mean Sqaured Error\n",
        "from math import sqrt\n",
        "rmsq = sqrt(mean_squared_error(Y_test, Y_pred))\n",
        "rmsq"
      ],
      "execution_count": null,
      "outputs": [
        {
          "output_type": "execute_result",
          "data": {
            "text/plain": [
              "0.40488816508945796"
            ]
          },
          "metadata": {
            "tags": []
          },
          "execution_count": 97
        }
      ]
    },
    {
      "cell_type": "code",
      "metadata": {
        "colab": {
          "base_uri": "https://localhost:8080/"
        },
        "id": "mxkRlRIwFqYB",
        "outputId": "3e813159-b3f8-40a4-a52d-8793c9736c8f"
      },
      "source": [
        "print(classifier.score(X_test ,Y_test))"
      ],
      "execution_count": null,
      "outputs": [
        {
          "output_type": "stream",
          "text": [
            "0.8360655737704918\n"
          ],
          "name": "stdout"
        }
      ]
    },
    {
      "cell_type": "code",
      "metadata": {
        "colab": {
          "base_uri": "https://localhost:8080/"
        },
        "id": "7flTuNrJFqYB",
        "outputId": "1009a291-9300-44b3-cb69-04621dc2c734"
      },
      "source": [
        "from sklearn.metrics import classification_report, confusion_matrix\n",
        "print(classification_report(Y_test,Y_pred))"
      ],
      "execution_count": null,
      "outputs": [
        {
          "output_type": "stream",
          "text": [
            "              precision    recall  f1-score   support\n",
            "\n",
            "           0       0.89      0.93      0.91      7300\n",
            "           1       0.15      0.10      0.12       935\n",
            "\n",
            "    accuracy                           0.84      8235\n",
            "   macro avg       0.52      0.51      0.51      8235\n",
            "weighted avg       0.81      0.84      0.82      8235\n",
            "\n"
          ],
          "name": "stdout"
        }
      ]
    },
    {
      "cell_type": "code",
      "metadata": {
        "colab": {
          "base_uri": "https://localhost:8080/",
          "height": 265
        },
        "id": "R2-zyaflFqYC",
        "outputId": "f5770ef0-b083-444f-bdd3-37a42dbe82fa"
      },
      "source": [
        "cnf_matrix = confusion_matrix(Y_test,Y_pred)\n",
        "fig, ax = plt.subplots(1)\n",
        "ax = sns.heatmap(cnf_matrix, ax=ax, cmap=plt.cm.Reds, annot=True)\n",
        "plt.show()\n"
      ],
      "execution_count": null,
      "outputs": [
        {
          "output_type": "display_data",
          "data": {
            "image/png": "[encoded data removed]",
            "text/plain": [
              "<Figure size 432x288 with 2 Axes>"
            ]
          },
          "metadata": {
            "tags": [],
            "needs_background": "light"
          }
        }
      ]
    },
    {
      "cell_type": "markdown",
      "metadata": {
        "id": "VUCQACkXFv7K"
      },
      "source": [
        "c=1, gamma= 1.5"
      ]
    },
    {
      "cell_type": "code",
      "metadata": {
        "colab": {
          "base_uri": "https://localhost:8080/"
        },
        "id": "T0zCLnEKFw0v",
        "outputId": "dfd780fe-b222-4513-ed73-e6955003a533"
      },
      "source": [
        "# Fitting SVM to the Training set\n",
        "from sklearn.svm import SVC\n",
        "classifier = SVC(kernel = 'rbf', C = 1, gamma = 1.5)\n",
        "classifier.fit(x_train, y_train)"
      ],
      "execution_count": null,
      "outputs": [
        {
          "output_type": "stream",
          "text": [
            "/usr/local/lib/python3.7/dist-packages/sklearn/utils/validation.py:760: DataConversionWarning: A column-vector y was passed when a 1d array was expected. Please change the shape of y to (n_samples, ), for example using ravel().\n",
            "  y = column_or_1d(y, warn=True)\n"
          ],
          "name": "stderr"
        },
        {
          "output_type": "execute_result",
          "data": {
            "text/plain": [
              "SVC(C=1, break_ties=False, cache_size=200, class_weight=None, coef0=0.0,\n",
              "    decision_function_shape='ovr', degree=3, gamma=1.5, kernel='rbf',\n",
              "    max_iter=-1, probability=False, random_state=None, shrinking=True,\n",
              "    tol=0.001, verbose=False)"
            ]
          },
          "metadata": {
            "tags": []
          },
          "execution_count": 101
        }
      ]
    },
    {
      "cell_type": "code",
      "metadata": {
        "colab": {
          "base_uri": "https://localhost:8080/"
        },
        "id": "_tqTzBavFw0y",
        "outputId": "7f5a33ab-8855-427a-88bd-b5748b9b768d"
      },
      "source": [
        "x_train.columns"
      ],
      "execution_count": null,
      "outputs": [
        {
          "output_type": "execute_result",
          "data": {
            "text/plain": [
              "RangeIndex(start=0, stop=11, step=1)"
            ]
          },
          "metadata": {
            "tags": []
          },
          "execution_count": 102
        }
      ]
    },
    {
      "cell_type": "code",
      "metadata": {
        "id": "9fk3d41MFw0z"
      },
      "source": [
        "Y_pred = classifier.predict(X_test)"
      ],
      "execution_count": null,
      "outputs": []
    },
    {
      "cell_type": "code",
      "metadata": {
        "colab": {
          "base_uri": "https://localhost:8080/"
        },
        "id": "JnkmiUaYFw00",
        "outputId": "4d66031b-c246-4e92-f26a-a20044a36bca"
      },
      "source": [
        "print(Y_pred)"
      ],
      "execution_count": null,
      "outputs": [
        {
          "output_type": "stream",
          "text": [
            "[0 0 0 ... 0 0 0]\n"
          ],
          "name": "stdout"
        }
      ]
    },
    {
      "cell_type": "code",
      "metadata": {
        "colab": {
          "base_uri": "https://localhost:8080/"
        },
        "id": "KnU9rPPoFw01",
        "outputId": "64fba616-05ea-4ce3-e180-86d6004f378c"
      },
      "source": [
        "y=pd.DataFrame(Y_pred)\n",
        "y.value_counts()"
      ],
      "execution_count": null,
      "outputs": [
        {
          "output_type": "execute_result",
          "data": {
            "text/plain": [
              "0    7742\n",
              "1     493\n",
              "dtype: int64"
            ]
          },
          "metadata": {
            "tags": []
          },
          "execution_count": 105
        }
      ]
    },
    {
      "cell_type": "code",
      "metadata": {
        "colab": {
          "base_uri": "https://localhost:8080/"
        },
        "id": "fdLdVFoIFw02",
        "outputId": "31b046ce-d57e-455b-bfdb-10ed2ab19053"
      },
      "source": [
        "from sklearn.metrics import mean_squared_error\n",
        "mean_squared_error(Y_test, Y_pred)"
      ],
      "execution_count": null,
      "outputs": [
        {
          "output_type": "execute_result",
          "data": {
            "text/plain": [
              "0.15737704918032788"
            ]
          },
          "metadata": {
            "tags": []
          },
          "execution_count": 106
        }
      ]
    },
    {
      "cell_type": "code",
      "metadata": {
        "colab": {
          "base_uri": "https://localhost:8080/"
        },
        "id": "WtLm2HWmFw03",
        "outputId": "7af1925d-2e17-4be8-ad97-9d174b0020ff"
      },
      "source": [
        "#Root Mean Sqaured Error\n",
        "from math import sqrt\n",
        "rmsq = sqrt(mean_squared_error(Y_test, Y_pred))\n",
        "rmsq"
      ],
      "execution_count": null,
      "outputs": [
        {
          "output_type": "execute_result",
          "data": {
            "text/plain": [
              "0.39670776294437177"
            ]
          },
          "metadata": {
            "tags": []
          },
          "execution_count": 107
        }
      ]
    },
    {
      "cell_type": "code",
      "metadata": {
        "colab": {
          "base_uri": "https://localhost:8080/"
        },
        "id": "dNHgAdK3Fw04",
        "outputId": "7c765884-dbd2-4dcd-8cf1-cd992edb6753"
      },
      "source": [
        "print(classifier.score(X_test ,Y_test))"
      ],
      "execution_count": null,
      "outputs": [
        {
          "output_type": "stream",
          "text": [
            "0.8426229508196721\n"
          ],
          "name": "stdout"
        }
      ]
    },
    {
      "cell_type": "code",
      "metadata": {
        "colab": {
          "base_uri": "https://localhost:8080/"
        },
        "id": "AJoLCkzuFw05",
        "outputId": "123a9f48-1c94-43ec-b1cf-4ff526b2262f"
      },
      "source": [
        "from sklearn.metrics import classification_report, confusion_matrix\n",
        "print(classification_report(Y_test,Y_pred))"
      ],
      "execution_count": null,
      "outputs": [
        {
          "output_type": "stream",
          "text": [
            "              precision    recall  f1-score   support\n",
            "\n",
            "           0       0.89      0.94      0.91      7300\n",
            "           1       0.13      0.07      0.09       935\n",
            "\n",
            "    accuracy                           0.84      8235\n",
            "   macro avg       0.51      0.51      0.50      8235\n",
            "weighted avg       0.80      0.84      0.82      8235\n",
            "\n"
          ],
          "name": "stdout"
        }
      ]
    },
    {
      "cell_type": "code",
      "metadata": {
        "colab": {
          "base_uri": "https://localhost:8080/",
          "height": 265
        },
        "id": "Fd334LeWFw06",
        "outputId": "f01b3858-bf37-414a-ef79-876c3cdc4ae0"
      },
      "source": [
        "cnf_matrix = confusion_matrix(Y_test,Y_pred)\n",
        "fig, ax = plt.subplots(1)\n",
        "ax = sns.heatmap(cnf_matrix, ax=ax, cmap=plt.cm.Reds, annot=True)\n",
        "plt.show()\n"
      ],
      "execution_count": null,
      "outputs": [
        {
          "output_type": "display_data",
          "data": {
            "image/png": "[encoded data removed]",
            "text/plain": [
              "<Figure size 432x288 with 2 Axes>"
            ]
          },
          "metadata": {
            "tags": [],
            "needs_background": "light"
          }
        }
      ]
    },
    {
      "cell_type": "markdown",
      "metadata": {
        "id": "hrkO6Wt3F1em"
      },
      "source": [
        "c=10 ,gammma=0.5"
      ]
    },
    {
      "cell_type": "code",
      "metadata": {
        "colab": {
          "base_uri": "https://localhost:8080/"
        },
        "id": "ltJb2DlSF2L9",
        "outputId": "6e1a407a-8485-4d76-b14e-c75e41dbaa8a"
      },
      "source": [
        "# Fitting SVM to the Training set\n",
        "from sklearn.svm import SVC\n",
        "classifier = SVC(kernel = 'rbf', C = 10, gamma = 0.5)\n",
        "classifier.fit(x_train, y_train)"
      ],
      "execution_count": null,
      "outputs": [
        {
          "output_type": "stream",
          "text": [
            "/usr/local/lib/python3.7/dist-packages/sklearn/utils/validation.py:760: DataConversionWarning: A column-vector y was passed when a 1d array was expected. Please change the shape of y to (n_samples, ), for example using ravel().\n",
            "  y = column_or_1d(y, warn=True)\n"
          ],
          "name": "stderr"
        },
        {
          "output_type": "execute_result",
          "data": {
            "text/plain": [
              "SVC(C=10, break_ties=False, cache_size=200, class_weight=None, coef0=0.0,\n",
              "    decision_function_shape='ovr', degree=3, gamma=0.5, kernel='rbf',\n",
              "    max_iter=-1, probability=False, random_state=None, shrinking=True,\n",
              "    tol=0.001, verbose=False)"
            ]
          },
          "metadata": {
            "tags": []
          },
          "execution_count": 111
        }
      ]
    },
    {
      "cell_type": "code",
      "metadata": {
        "colab": {
          "base_uri": "https://localhost:8080/"
        },
        "id": "atxo7VT4F2MA",
        "outputId": "554e8175-6057-4f18-deb9-6a81fdd27ca8"
      },
      "source": [
        "x_train.columns"
      ],
      "execution_count": null,
      "outputs": [
        {
          "output_type": "execute_result",
          "data": {
            "text/plain": [
              "RangeIndex(start=0, stop=11, step=1)"
            ]
          },
          "metadata": {
            "tags": []
          },
          "execution_count": 112
        }
      ]
    },
    {
      "cell_type": "code",
      "metadata": {
        "id": "gAmEhQFlF2MC"
      },
      "source": [
        "Y_pred = classifier.predict(X_test)"
      ],
      "execution_count": null,
      "outputs": []
    },
    {
      "cell_type": "code",
      "metadata": {
        "colab": {
          "base_uri": "https://localhost:8080/"
        },
        "id": "WA9eOW7IF2MD",
        "outputId": "b48189f3-d34b-4910-b179-4200a360813f"
      },
      "source": [
        "print(Y_pred)"
      ],
      "execution_count": null,
      "outputs": [
        {
          "output_type": "stream",
          "text": [
            "[0 0 0 ... 0 0 0]\n"
          ],
          "name": "stdout"
        }
      ]
    },
    {
      "cell_type": "code",
      "metadata": {
        "colab": {
          "base_uri": "https://localhost:8080/"
        },
        "id": "aylGjuFMF2MF",
        "outputId": "b43735fa-e39e-4c30-e1cf-9f5e6ce57c86"
      },
      "source": [
        "y=pd.DataFrame(Y_pred)\n",
        "y.value_counts()"
      ],
      "execution_count": null,
      "outputs": [
        {
          "output_type": "execute_result",
          "data": {
            "text/plain": [
              "0    7452\n",
              "1     783\n",
              "dtype: int64"
            ]
          },
          "metadata": {
            "tags": []
          },
          "execution_count": 115
        }
      ]
    },
    {
      "cell_type": "code",
      "metadata": {
        "colab": {
          "base_uri": "https://localhost:8080/"
        },
        "id": "7ThYd0RYF2MG",
        "outputId": "4404d8cd-ec5c-4bbe-ba16-c796c5a856ea"
      },
      "source": [
        "from sklearn.metrics import mean_squared_error\n",
        "mean_squared_error(Y_test, Y_pred)"
      ],
      "execution_count": null,
      "outputs": [
        {
          "output_type": "execute_result",
          "data": {
            "text/plain": [
              "0.17049180327868851"
            ]
          },
          "metadata": {
            "tags": []
          },
          "execution_count": 116
        }
      ]
    },
    {
      "cell_type": "code",
      "metadata": {
        "colab": {
          "base_uri": "https://localhost:8080/"
        },
        "id": "h1s-ubazF2MH",
        "outputId": "6bd4de87-8dc3-481f-f713-5115c647374d"
      },
      "source": [
        "#Root Mean Sqaured Error\n",
        "from math import sqrt\n",
        "rmsq = sqrt(mean_squared_error(Y_test, Y_pred))\n",
        "rmsq"
      ],
      "execution_count": null,
      "outputs": [
        {
          "output_type": "execute_result",
          "data": {
            "text/plain": [
              "0.4129065309227846"
            ]
          },
          "metadata": {
            "tags": []
          },
          "execution_count": 117
        }
      ]
    },
    {
      "cell_type": "code",
      "metadata": {
        "colab": {
          "base_uri": "https://localhost:8080/"
        },
        "id": "8CjuPXQeF2MJ",
        "outputId": "1498ab27-bdae-4ec8-eeca-e696cda48bf2"
      },
      "source": [
        "print(classifier.score(X_test ,Y_test))"
      ],
      "execution_count": null,
      "outputs": [
        {
          "output_type": "stream",
          "text": [
            "0.8295081967213115\n"
          ],
          "name": "stdout"
        }
      ]
    },
    {
      "cell_type": "code",
      "metadata": {
        "colab": {
          "base_uri": "https://localhost:8080/"
        },
        "id": "sYD3kFFDF2MK",
        "outputId": "9cae1238-d9e3-4725-d7b8-c47a97cb71b2"
      },
      "source": [
        "from sklearn.metrics import classification_report, confusion_matrix\n",
        "print(classification_report(Y_test,Y_pred))"
      ],
      "execution_count": null,
      "outputs": [
        {
          "output_type": "stream",
          "text": [
            "              precision    recall  f1-score   support\n",
            "\n",
            "           0       0.90      0.91      0.90      7300\n",
            "           1       0.20      0.17      0.18       935\n",
            "\n",
            "    accuracy                           0.83      8235\n",
            "   macro avg       0.55      0.54      0.54      8235\n",
            "weighted avg       0.82      0.83      0.82      8235\n",
            "\n"
          ],
          "name": "stdout"
        }
      ]
    },
    {
      "cell_type": "code",
      "metadata": {
        "colab": {
          "base_uri": "https://localhost:8080/",
          "height": 265
        },
        "id": "uSu_Q42-F2ML",
        "outputId": "e2fd3ee7-c05c-4dfc-f16d-4f329a09dbf2"
      },
      "source": [
        "cnf_matrix = confusion_matrix(Y_test,Y_pred)\n",
        "fig, ax = plt.subplots(1)\n",
        "ax = sns.heatmap(cnf_matrix, ax=ax, cmap=plt.cm.Reds, annot=True)\n",
        "plt.show()\n"
      ],
      "execution_count": null,
      "outputs": [
        {
          "output_type": "display_data",
          "data": {
            "image/png": "[encoded data removed]",
            "text/plain": [
              "<Figure size 432x288 with 2 Axes>"
            ]
          },
          "metadata": {
            "tags": [],
            "needs_background": "light"
          }
        }
      ]
    },
    {
      "cell_type": "markdown",
      "metadata": {
        "id": "O6CAHXvfF7_Z"
      },
      "source": [
        "C=10, gamma=1"
      ]
    },
    {
      "cell_type": "code",
      "metadata": {
        "id": "2GEJqnclF8X_"
      },
      "source": [
        ""
      ],
      "execution_count": null,
      "outputs": []
    },
    {
      "cell_type": "code",
      "metadata": {
        "colab": {
          "base_uri": "https://localhost:8080/"
        },
        "id": "SocxHSLnF8ta",
        "outputId": "b6fd7aa1-cd10-418a-9da3-1e1790d27816"
      },
      "source": [
        "# Fitting SVM to the Training set\n",
        "from sklearn.svm import SVC\n",
        "classifier = SVC(kernel = 'rbf', C = 10, gamma = 1)\n",
        "classifier.fit(x_train, y_train)"
      ],
      "execution_count": null,
      "outputs": [
        {
          "output_type": "stream",
          "text": [
            "/usr/local/lib/python3.7/dist-packages/sklearn/utils/validation.py:760: DataConversionWarning: A column-vector y was passed when a 1d array was expected. Please change the shape of y to (n_samples, ), for example using ravel().\n",
            "  y = column_or_1d(y, warn=True)\n"
          ],
          "name": "stderr"
        },
        {
          "output_type": "execute_result",
          "data": {
            "text/plain": [
              "SVC(C=10, break_ties=False, cache_size=200, class_weight=None, coef0=0.0,\n",
              "    decision_function_shape='ovr', degree=3, gamma=1, kernel='rbf', max_iter=-1,\n",
              "    probability=False, random_state=None, shrinking=True, tol=0.001,\n",
              "    verbose=False)"
            ]
          },
          "metadata": {
            "tags": []
          },
          "execution_count": 121
        }
      ]
    },
    {
      "cell_type": "code",
      "metadata": {
        "colab": {
          "base_uri": "https://localhost:8080/"
        },
        "id": "n2jByeFzF8tc",
        "outputId": "dec604c3-5548-411f-c8be-0e473d394c5b"
      },
      "source": [
        "x_train.columns"
      ],
      "execution_count": null,
      "outputs": [
        {
          "output_type": "execute_result",
          "data": {
            "text/plain": [
              "RangeIndex(start=0, stop=11, step=1)"
            ]
          },
          "metadata": {
            "tags": []
          },
          "execution_count": 122
        }
      ]
    },
    {
      "cell_type": "code",
      "metadata": {
        "id": "wV87ON7iF8tc"
      },
      "source": [
        "Y_pred = classifier.predict(X_test)"
      ],
      "execution_count": null,
      "outputs": []
    },
    {
      "cell_type": "code",
      "metadata": {
        "colab": {
          "base_uri": "https://localhost:8080/"
        },
        "id": "mO5on_y5F8td",
        "outputId": "7ccfb510-2143-41d8-a854-efbbc89a6360"
      },
      "source": [
        "print(Y_pred)"
      ],
      "execution_count": null,
      "outputs": [
        {
          "output_type": "stream",
          "text": [
            "[0 0 0 ... 0 0 0]\n"
          ],
          "name": "stdout"
        }
      ]
    },
    {
      "cell_type": "code",
      "metadata": {
        "colab": {
          "base_uri": "https://localhost:8080/"
        },
        "id": "HKKr-6W2F8td",
        "outputId": "d56527a7-5b98-4a14-be79-8c415baf33b1"
      },
      "source": [
        "y=pd.DataFrame(Y_pred)\n",
        "y.value_counts()"
      ],
      "execution_count": null,
      "outputs": [
        {
          "output_type": "execute_result",
          "data": {
            "text/plain": [
              "0    7693\n",
              "1     542\n",
              "dtype: int64"
            ]
          },
          "metadata": {
            "tags": []
          },
          "execution_count": 125
        }
      ]
    },
    {
      "cell_type": "code",
      "metadata": {
        "colab": {
          "base_uri": "https://localhost:8080/"
        },
        "id": "jIRnQWEAF8td",
        "outputId": "9ebdd5b8-b046-4ff3-91bb-acd6d5109050"
      },
      "source": [
        "from sklearn.metrics import mean_squared_error\n",
        "mean_squared_error(Y_test, Y_pred)"
      ],
      "execution_count": null,
      "outputs": [
        {
          "output_type": "execute_result",
          "data": {
            "text/plain": [
              "0.1604128718882817"
            ]
          },
          "metadata": {
            "tags": []
          },
          "execution_count": 126
        }
      ]
    },
    {
      "cell_type": "code",
      "metadata": {
        "colab": {
          "base_uri": "https://localhost:8080/"
        },
        "id": "oItks4yqF8te",
        "outputId": "7cc1b5f4-a079-4a83-985d-94b6bc372c42"
      },
      "source": [
        "#Root Mean Sqaured Error\n",
        "from math import sqrt\n",
        "rmsq = sqrt(mean_squared_error(Y_test, Y_pred))\n",
        "rmsq"
      ],
      "execution_count": null,
      "outputs": [
        {
          "output_type": "execute_result",
          "data": {
            "text/plain": [
              "0.4005157573532928"
            ]
          },
          "metadata": {
            "tags": []
          },
          "execution_count": 127
        }
      ]
    },
    {
      "cell_type": "code",
      "metadata": {
        "colab": {
          "base_uri": "https://localhost:8080/"
        },
        "id": "HgFVAFPTF8te",
        "outputId": "69a4879b-b10b-41cb-c359-02d7cc9193a8"
      },
      "source": [
        "print(classifier.score(X_test ,Y_test))"
      ],
      "execution_count": null,
      "outputs": [
        {
          "output_type": "stream",
          "text": [
            "0.8395871281117183\n"
          ],
          "name": "stdout"
        }
      ]
    },
    {
      "cell_type": "code",
      "metadata": {
        "colab": {
          "base_uri": "https://localhost:8080/"
        },
        "id": "253cd9CiF8tf",
        "outputId": "6b653496-c74d-4bb5-ef70-5d55ee5c0599"
      },
      "source": [
        "from sklearn.metrics import classification_report, confusion_matrix\n",
        "print(classification_report(Y_test,Y_pred))"
      ],
      "execution_count": null,
      "outputs": [
        {
          "output_type": "stream",
          "text": [
            "              precision    recall  f1-score   support\n",
            "\n",
            "           0       0.89      0.94      0.91      7300\n",
            "           1       0.14      0.08      0.11       935\n",
            "\n",
            "    accuracy                           0.84      8235\n",
            "   macro avg       0.52      0.51      0.51      8235\n",
            "weighted avg       0.80      0.84      0.82      8235\n",
            "\n"
          ],
          "name": "stdout"
        }
      ]
    },
    {
      "cell_type": "code",
      "metadata": {
        "colab": {
          "base_uri": "https://localhost:8080/",
          "height": 265
        },
        "id": "bbSondkYF8tf",
        "outputId": "82a8241e-dcbb-4b1e-ab41-02c94895bef0"
      },
      "source": [
        "cnf_matrix = confusion_matrix(Y_test,Y_pred)\n",
        "fig, ax = plt.subplots(1)\n",
        "ax = sns.heatmap(cnf_matrix, ax=ax, cmap=plt.cm.Reds, annot=True)\n",
        "plt.show()\n"
      ],
      "execution_count": null,
      "outputs": [
        {
          "output_type": "display_data",
          "data": {
            "image/png": "[encoded data removed]",
            "text/plain": [
              "<Figure size 432x288 with 2 Axes>"
            ]
          },
          "metadata": {
            "tags": [],
            "needs_background": "light"
          }
        }
      ]
    },
    {
      "cell_type": "markdown",
      "metadata": {
        "id": "TatTsrQIGCvu"
      },
      "source": [
        ""
      ]
    },
    {
      "cell_type": "code",
      "metadata": {
        "id": "xBbtHgSLGDG0"
      },
      "source": [
        "c-10, gamma=1.5"
      ],
      "execution_count": null,
      "outputs": []
    },
    {
      "cell_type": "code",
      "metadata": {
        "colab": {
          "base_uri": "https://localhost:8080/"
        },
        "id": "UxUK7QFtGDdD",
        "outputId": "cbae4708-4fbf-4469-e48f-70df8515f50c"
      },
      "source": [
        "# Fitting SVM to the Training set\n",
        "from sklearn.svm import SVC\n",
        "classifier = SVC(kernel = 'rbf', C = 10, gamma = 1.5)\n",
        "classifier.fit(x_train, y_train)"
      ],
      "execution_count": null,
      "outputs": [
        {
          "output_type": "stream",
          "text": [
            "/usr/local/lib/python3.7/dist-packages/sklearn/utils/validation.py:760: DataConversionWarning: A column-vector y was passed when a 1d array was expected. Please change the shape of y to (n_samples, ), for example using ravel().\n",
            "  y = column_or_1d(y, warn=True)\n"
          ],
          "name": "stderr"
        },
        {
          "output_type": "execute_result",
          "data": {
            "text/plain": [
              "SVC(C=10, break_ties=False, cache_size=200, class_weight=None, coef0=0.0,\n",
              "    decision_function_shape='ovr', degree=3, gamma=1.5, kernel='rbf',\n",
              "    max_iter=-1, probability=False, random_state=None, shrinking=True,\n",
              "    tol=0.001, verbose=False)"
            ]
          },
          "metadata": {
            "tags": []
          },
          "execution_count": 133
        }
      ]
    },
    {
      "cell_type": "code",
      "metadata": {
        "id": "a1_sWgZ4GDdD",
        "colab": {
          "base_uri": "https://localhost:8080/"
        },
        "outputId": "5612f71f-29fd-42ad-bcb8-f54717398cc2"
      },
      "source": [
        "x_train.columns"
      ],
      "execution_count": null,
      "outputs": [
        {
          "output_type": "execute_result",
          "data": {
            "text/plain": [
              "RangeIndex(start=0, stop=11, step=1)"
            ]
          },
          "metadata": {
            "tags": []
          },
          "execution_count": 134
        }
      ]
    },
    {
      "cell_type": "code",
      "metadata": {
        "id": "zsN-KxARGDdD"
      },
      "source": [
        "Y_pred = classifier.predict(X_test)"
      ],
      "execution_count": null,
      "outputs": []
    },
    {
      "cell_type": "code",
      "metadata": {
        "id": "ndpZqzrzGDdD",
        "colab": {
          "base_uri": "https://localhost:8080/"
        },
        "outputId": "d3d7067f-fa35-4d55-de57-82f19a11d983"
      },
      "source": [
        "print(Y_pred)"
      ],
      "execution_count": null,
      "outputs": [
        {
          "output_type": "stream",
          "text": [
            "[0 0 0 ... 0 0 0]\n"
          ],
          "name": "stdout"
        }
      ]
    },
    {
      "cell_type": "code",
      "metadata": {
        "id": "_aDr-9GSGDdE",
        "colab": {
          "base_uri": "https://localhost:8080/"
        },
        "outputId": "5a7222e7-f0c3-4aa3-f72d-1c69989b49bd"
      },
      "source": [
        "y=pd.DataFrame(Y_pred)\n",
        "y.value_counts()"
      ],
      "execution_count": null,
      "outputs": [
        {
          "output_type": "execute_result",
          "data": {
            "text/plain": [
              "0    7787\n",
              "1     448\n",
              "dtype: int64"
            ]
          },
          "metadata": {
            "tags": []
          },
          "execution_count": 137
        }
      ]
    },
    {
      "cell_type": "code",
      "metadata": {
        "id": "R-QJ5e83GDdE",
        "colab": {
          "base_uri": "https://localhost:8080/"
        },
        "outputId": "1f028c95-dd8a-4411-97ca-43ba8f441830"
      },
      "source": [
        "from sklearn.metrics import mean_squared_error\n",
        "mean_squared_error(Y_test, Y_pred)"
      ],
      "execution_count": null,
      "outputs": [
        {
          "output_type": "execute_result",
          "data": {
            "text/plain": [
              "0.15288403157255617"
            ]
          },
          "metadata": {
            "tags": []
          },
          "execution_count": 138
        }
      ]
    },
    {
      "cell_type": "code",
      "metadata": {
        "id": "Qk01GB7XGDdE",
        "colab": {
          "base_uri": "https://localhost:8080/"
        },
        "outputId": "ee203975-4423-49be-9fa4-641a2b72f0a6"
      },
      "source": [
        "#Root Mean Sqaured Error\n",
        "from math import sqrt\n",
        "rmsq = sqrt(mean_squared_error(Y_test, Y_pred))\n",
        "rmsq"
      ],
      "execution_count": null,
      "outputs": [
        {
          "output_type": "execute_result",
          "data": {
            "text/plain": [
              "0.3910038766720302"
            ]
          },
          "metadata": {
            "tags": []
          },
          "execution_count": 139
        }
      ]
    },
    {
      "cell_type": "code",
      "metadata": {
        "id": "fBEN5WF2GDdE",
        "colab": {
          "base_uri": "https://localhost:8080/"
        },
        "outputId": "dea2832c-6a1d-4902-e469-b88d4d97487d"
      },
      "source": [
        "print(classifier.score(X_test ,Y_test))"
      ],
      "execution_count": null,
      "outputs": [
        {
          "output_type": "stream",
          "text": [
            "0.8471159684274439\n"
          ],
          "name": "stdout"
        }
      ]
    },
    {
      "cell_type": "code",
      "metadata": {
        "colab": {
          "base_uri": "https://localhost:8080/"
        },
        "id": "eNaWxUV1Ouef",
        "outputId": "2910ddd9-c2dd-458c-9889-5fa2e57c1e35"
      },
      "source": [
        "print(confusion_matrix(Y_test, y_predicted))\n",
        "print(classification_report(Y_test, y_predicted))"
      ],
      "execution_count": null,
      "outputs": [
        {
          "output_type": "stream",
          "text": [
            "[[7149  216]\n",
            " [ 812   61]]\n",
            "              precision    recall  f1-score   support\n",
            "\n",
            "           0       0.90      0.97      0.93      7365\n",
            "           1       0.22      0.07      0.11       873\n",
            "\n",
            "    accuracy                           0.88      8238\n",
            "   macro avg       0.56      0.52      0.52      8238\n",
            "weighted avg       0.83      0.88      0.85      8238\n",
            "\n"
          ],
          "name": "stdout"
        }
      ]
    },
    {
      "cell_type": "code",
      "metadata": {
        "id": "BaGaiBprGDdF",
        "colab": {
          "base_uri": "https://localhost:8080/",
          "height": 265
        },
        "outputId": "1c015b6b-f65f-44c9-b83c-5dba63a93ed9"
      },
      "source": [
        "cnf_matrix = confusion_matrix(Y_test,Y_pred)\n",
        "fig, ax = plt.subplots(1)\n",
        "ax = sns.heatmap(cnf_matrix, ax=ax, cmap=plt.cm.Blues, annot=True)\n",
        "plt.show()\n"
      ],
      "execution_count": null,
      "outputs": [
        {
          "output_type": "display_data",
          "data": {
            "image/png": "[encoded data removed]",
            "text/plain": [
              "<Figure size 432x288 with 2 Axes>"
            ]
          },
          "metadata": {
            "tags": [],
            "needs_background": "light"
          }
        }
      ]
    },
    {
      "cell_type": "code",
      "metadata": {
        "id": "j_-wYUU5VSTM"
      },
      "source": [
        ""
      ],
      "execution_count": null,
      "outputs": []
    },
    {
      "cell_type": "code",
      "metadata": {
        "id": "cff8WNgWEig-"
      },
      "source": [
        ""
      ],
      "execution_count": null,
      "outputs": []
    },
    {
      "cell_type": "markdown",
      "metadata": {
        "id": "hoRmAtvyDoPK"
      },
      "source": [
        "C = 10, gamma = 2"
      ]
    },
    {
      "cell_type": "code",
      "metadata": {
        "id": "m2R-lwWaVaUU",
        "colab": {
          "base_uri": "https://localhost:8080/"
        },
        "outputId": "3f813e52-230d-496c-b63f-01519de7d616"
      },
      "source": [
        "# Fitting SVM to the Training set\n",
        "from sklearn.svm import SVC\n",
        "classifier = SVC(kernel = 'rbf', C = 10, gamma = 2)\n",
        "classifier.fit(x_train, y_train)"
      ],
      "execution_count": 80,
      "outputs": [
        {
          "output_type": "stream",
          "text": [
            "/usr/local/lib/python3.7/dist-packages/sklearn/utils/validation.py:760: DataConversionWarning: A column-vector y was passed when a 1d array was expected. Please change the shape of y to (n_samples, ), for example using ravel().\n",
            "  y = column_or_1d(y, warn=True)\n"
          ],
          "name": "stderr"
        },
        {
          "output_type": "execute_result",
          "data": {
            "text/plain": [
              "SVC(C=10, break_ties=False, cache_size=200, class_weight=None, coef0=0.0,\n",
              "    decision_function_shape='ovr', degree=3, gamma=2, kernel='rbf', max_iter=-1,\n",
              "    probability=False, random_state=None, shrinking=True, tol=0.001,\n",
              "    verbose=False)"
            ]
          },
          "metadata": {
            "tags": []
          },
          "execution_count": 80
        }
      ]
    },
    {
      "cell_type": "code",
      "metadata": {
        "id": "AGfywzDvVaUW",
        "colab": {
          "base_uri": "https://localhost:8080/"
        },
        "outputId": "11d6504e-7b61-49ea-d545-67237430ca25"
      },
      "source": [
        "x_train.columns"
      ],
      "execution_count": 81,
      "outputs": [
        {
          "output_type": "execute_result",
          "data": {
            "text/plain": [
              "RangeIndex(start=0, stop=11, step=1)"
            ]
          },
          "metadata": {
            "tags": []
          },
          "execution_count": 81
        }
      ]
    },
    {
      "cell_type": "code",
      "metadata": {
        "id": "vuBve7FcVaUX"
      },
      "source": [
        "Y_pred = classifier.predict(X_test)"
      ],
      "execution_count": 82,
      "outputs": []
    },
    {
      "cell_type": "code",
      "metadata": {
        "id": "eFTOrccNVaUY",
        "colab": {
          "base_uri": "https://localhost:8080/"
        },
        "outputId": "5473e4c4-4696-4e4f-e593-4187804f11b5"
      },
      "source": [
        "print(Y_pred)"
      ],
      "execution_count": 83,
      "outputs": [
        {
          "output_type": "stream",
          "text": [
            "[0 0 0 ... 0 0 0]\n"
          ],
          "name": "stdout"
        }
      ]
    },
    {
      "cell_type": "code",
      "metadata": {
        "id": "rNw-abjQVaUY",
        "colab": {
          "base_uri": "https://localhost:8080/"
        },
        "outputId": "ac8aa70d-69d8-4e02-f583-227cd2a93198"
      },
      "source": [
        "y=pd.DataFrame(Y_pred)\n",
        "y.value_counts()"
      ],
      "execution_count": 84,
      "outputs": [
        {
          "output_type": "execute_result",
          "data": {
            "text/plain": [
              "0    7836\n",
              "1     399\n",
              "dtype: int64"
            ]
          },
          "metadata": {
            "tags": []
          },
          "execution_count": 84
        }
      ]
    },
    {
      "cell_type": "code",
      "metadata": {
        "id": "hJlBCT1FVaUZ",
        "colab": {
          "base_uri": "https://localhost:8080/"
        },
        "outputId": "0d2e1a12-3f1f-46e0-b697-60fdf67d7a8c"
      },
      "source": [
        "from sklearn.metrics import mean_squared_error\n",
        "mean_squared_error(Y_test, Y_pred)"
      ],
      "execution_count": 85,
      "outputs": [
        {
          "output_type": "execute_result",
          "data": {
            "text/plain": [
              "0.14863387978142076"
            ]
          },
          "metadata": {
            "tags": []
          },
          "execution_count": 85
        }
      ]
    },
    {
      "cell_type": "code",
      "metadata": {
        "id": "NjiJEZjoVaUZ",
        "colab": {
          "base_uri": "https://localhost:8080/"
        },
        "outputId": "8d5874e3-4bbf-4f1e-cbfc-c3534770e549"
      },
      "source": [
        "#Root Mean Sqaured Error\n",
        "from math import sqrt\n",
        "rmsq = sqrt(mean_squared_error(Y_test, Y_pred))\n",
        "rmsq"
      ],
      "execution_count": 86,
      "outputs": [
        {
          "output_type": "execute_result",
          "data": {
            "text/plain": [
              "0.3855306470067208"
            ]
          },
          "metadata": {
            "tags": []
          },
          "execution_count": 86
        }
      ]
    },
    {
      "cell_type": "code",
      "metadata": {
        "id": "QXpik3gUVaUZ",
        "colab": {
          "base_uri": "https://localhost:8080/"
        },
        "outputId": "5ac30ae8-08a6-4657-fc14-069d5a12ac51"
      },
      "source": [
        "print(classifier.score(X_test ,Y_test))"
      ],
      "execution_count": 87,
      "outputs": [
        {
          "output_type": "stream",
          "text": [
            "0.8513661202185793\n"
          ],
          "name": "stdout"
        }
      ]
    },
    {
      "cell_type": "code",
      "metadata": {
        "id": "CtHGWVQoVaUa",
        "colab": {
          "base_uri": "https://localhost:8080/"
        },
        "outputId": "b59e8317-7a48-4314-cd5e-ccb3f55dfc52"
      },
      "source": [
        "from sklearn.metrics import classification_report, confusion_matrix\n",
        "print(classification_report(Y_test,Y_pred))"
      ],
      "execution_count": 88,
      "outputs": [
        {
          "output_type": "stream",
          "text": [
            "              precision    recall  f1-score   support\n",
            "\n",
            "           0       0.89      0.95      0.92      7300\n",
            "           1       0.14      0.06      0.08       935\n",
            "\n",
            "    accuracy                           0.85      8235\n",
            "   macro avg       0.51      0.51      0.50      8235\n",
            "weighted avg       0.80      0.85      0.82      8235\n",
            "\n"
          ],
          "name": "stdout"
        }
      ]
    },
    {
      "cell_type": "code",
      "metadata": {
        "id": "CjqQxphWVaUa",
        "colab": {
          "base_uri": "https://localhost:8080/",
          "height": 265
        },
        "outputId": "834f3413-5d8a-4eea-df20-27e7b5d6b54c"
      },
      "source": [
        "cnf_matrix = confusion_matrix(Y_test,Y_pred)\n",
        "fig, ax = plt.subplots(1)\n",
        "ax = sns.heatmap(cnf_matrix, ax=ax, cmap=plt.cm.Reds, annot=True)\n",
        "plt.show()\n"
      ],
      "execution_count": 89,
      "outputs": [
        {
          "output_type": "display_data",
          "data": {
            "image/png": "[encoded data removed]",
            "text/plain": [
              "<Figure size 432x288 with 2 Axes>"
            ]
          },
          "metadata": {
            "tags": [],
            "needs_background": "light"
          }
        }
      ]
    },
    {
      "cell_type": "code",
      "metadata": {
        "id": "_MNN6IHrcTqH"
      },
      "source": [
        ""
      ],
      "execution_count": null,
      "outputs": []
    },
    {
      "cell_type": "code",
      "metadata": {
        "id": "RMwxEo1bcYRZ",
        "colab": {
          "base_uri": "https://localhost:8080/"
        },
        "outputId": "ba5767c0-6af4-4e7b-ef8b-a50147b0f061"
      },
      "source": [
        "# Fitting SVM to the Training set\n",
        "from sklearn.svm import SVC\n",
        "classifier = SVC(kernel = 'rbf', C = 10, gamma = 2.5)\n",
        "classifier.fit(x_train, y_train)"
      ],
      "execution_count": 90,
      "outputs": [
        {
          "output_type": "stream",
          "text": [
            "/usr/local/lib/python3.7/dist-packages/sklearn/utils/validation.py:760: DataConversionWarning: A column-vector y was passed when a 1d array was expected. Please change the shape of y to (n_samples, ), for example using ravel().\n",
            "  y = column_or_1d(y, warn=True)\n"
          ],
          "name": "stderr"
        },
        {
          "output_type": "execute_result",
          "data": {
            "text/plain": [
              "SVC(C=10, break_ties=False, cache_size=200, class_weight=None, coef0=0.0,\n",
              "    decision_function_shape='ovr', degree=3, gamma=2.5, kernel='rbf',\n",
              "    max_iter=-1, probability=False, random_state=None, shrinking=True,\n",
              "    tol=0.001, verbose=False)"
            ]
          },
          "metadata": {
            "tags": []
          },
          "execution_count": 90
        }
      ]
    },
    {
      "cell_type": "code",
      "metadata": {
        "id": "VN2v20-ucYRb",
        "colab": {
          "base_uri": "https://localhost:8080/"
        },
        "outputId": "85e0019a-9574-4f93-8b31-018e97667a77"
      },
      "source": [
        "x_train.columns"
      ],
      "execution_count": 91,
      "outputs": [
        {
          "output_type": "execute_result",
          "data": {
            "text/plain": [
              "RangeIndex(start=0, stop=11, step=1)"
            ]
          },
          "metadata": {
            "tags": []
          },
          "execution_count": 91
        }
      ]
    },
    {
      "cell_type": "code",
      "metadata": {
        "id": "h1gyyCkAcYRc"
      },
      "source": [
        "Y_pred = classifier.predict(X_test)"
      ],
      "execution_count": 92,
      "outputs": []
    },
    {
      "cell_type": "code",
      "metadata": {
        "id": "bVJLralycYRc",
        "colab": {
          "base_uri": "https://localhost:8080/"
        },
        "outputId": "0764b5b6-b854-43f5-ff13-117c0c912cd6"
      },
      "source": [
        "print(Y_pred)"
      ],
      "execution_count": 93,
      "outputs": [
        {
          "output_type": "stream",
          "text": [
            "[0 0 0 ... 0 0 0]\n"
          ],
          "name": "stdout"
        }
      ]
    },
    {
      "cell_type": "code",
      "metadata": {
        "id": "pzbyL9JZcYRd",
        "colab": {
          "base_uri": "https://localhost:8080/"
        },
        "outputId": "68a747b8-7645-4442-a3c5-370d24f0c380"
      },
      "source": [
        "y=pd.DataFrame(Y_pred)\n",
        "y.value_counts()"
      ],
      "execution_count": 94,
      "outputs": [
        {
          "output_type": "execute_result",
          "data": {
            "text/plain": [
              "0    7870\n",
              "1     365\n",
              "dtype: int64"
            ]
          },
          "metadata": {
            "tags": []
          },
          "execution_count": 94
        }
      ]
    },
    {
      "cell_type": "code",
      "metadata": {
        "id": "zT8qWqibcYRe",
        "colab": {
          "base_uri": "https://localhost:8080/"
        },
        "outputId": "ff38eccc-95b0-465b-c5f8-5538b378a5fb"
      },
      "source": [
        "from sklearn.metrics import mean_squared_error\n",
        "mean_squared_error(Y_test, Y_pred)"
      ],
      "execution_count": 95,
      "outputs": [
        {
          "output_type": "execute_result",
          "data": {
            "text/plain": [
              "0.14571948998178508"
            ]
          },
          "metadata": {
            "tags": []
          },
          "execution_count": 95
        }
      ]
    },
    {
      "cell_type": "code",
      "metadata": {
        "id": "3But7UQ5cYRe",
        "colab": {
          "base_uri": "https://localhost:8080/"
        },
        "outputId": "161d03c0-5147-485b-8cf2-60c51326230e"
      },
      "source": [
        "#Root Mean Sqaured Error\n",
        "from math import sqrt\n",
        "rmsq = sqrt(mean_squared_error(Y_test, Y_pred))\n",
        "rmsq"
      ],
      "execution_count": 96,
      "outputs": [
        {
          "output_type": "execute_result",
          "data": {
            "text/plain": [
              "0.3817322228759122"
            ]
          },
          "metadata": {
            "tags": []
          },
          "execution_count": 96
        }
      ]
    },
    {
      "cell_type": "code",
      "metadata": {
        "id": "coQdIygecYRf",
        "colab": {
          "base_uri": "https://localhost:8080/"
        },
        "outputId": "860b7175-39ea-458b-a1e2-3ddd0147f33d"
      },
      "source": [
        "print(classifier.score(X_test ,Y_test))"
      ],
      "execution_count": 97,
      "outputs": [
        {
          "output_type": "stream",
          "text": [
            "0.8542805100182149\n"
          ],
          "name": "stdout"
        }
      ]
    },
    {
      "cell_type": "code",
      "metadata": {
        "id": "ztoPeP-JcYRf",
        "colab": {
          "base_uri": "https://localhost:8080/"
        },
        "outputId": "7258855c-fbc8-4a0c-99e4-7a4922a96164"
      },
      "source": [
        "from sklearn.metrics import classification_report, confusion_matrix\n",
        "print(classification_report(Y_test,Y_pred))"
      ],
      "execution_count": 98,
      "outputs": [
        {
          "output_type": "stream",
          "text": [
            "              precision    recall  f1-score   support\n",
            "\n",
            "           0       0.89      0.96      0.92      7300\n",
            "           1       0.14      0.05      0.08       935\n",
            "\n",
            "    accuracy                           0.85      8235\n",
            "   macro avg       0.51      0.51      0.50      8235\n",
            "weighted avg       0.80      0.85      0.83      8235\n",
            "\n"
          ],
          "name": "stdout"
        }
      ]
    },
    {
      "cell_type": "code",
      "metadata": {
        "id": "nFPBE948cYRg",
        "colab": {
          "base_uri": "https://localhost:8080/",
          "height": 265
        },
        "outputId": "1522d64f-3fcb-4425-c2b8-a2d4d20486c1"
      },
      "source": [
        "cnf_matrix = confusion_matrix(Y_test,Y_pred)\n",
        "fig, ax = plt.subplots(1)\n",
        "ax = sns.heatmap(cnf_matrix, ax=ax, cmap=plt.cm.Reds, annot=True)\n",
        "plt.show()\n"
      ],
      "execution_count": 99,
      "outputs": [
        {
          "output_type": "display_data",
          "data": {
            "image/png": "[encoded data removed]",
            "text/plain": [
              "<Figure size 432x288 with 2 Axes>"
            ]
          },
          "metadata": {
            "tags": [],
            "needs_background": "light"
          }
        }
      ]
    },
    {
      "cell_type": "markdown",
      "metadata": {
        "id": "-7mO1BzL66Kg"
      },
      "source": [
        " C = 100, gamma = 0.5"
      ]
    },
    {
      "cell_type": "code",
      "metadata": {
        "colab": {
          "base_uri": "https://localhost:8080/"
        },
        "id": "yY_5u9Kqla4Q",
        "outputId": "1f1054a6-6914-4cf9-c221-466b44720984"
      },
      "source": [
        "# Fitting SVM to the Training set\n",
        "from sklearn.svm import SVC\n",
        "classifier = SVC(kernel = 'rbf', C = 100, gamma = 0.5)\n",
        "classifier.fit(x_train, y_train)"
      ],
      "execution_count": null,
      "outputs": [
        {
          "output_type": "stream",
          "text": [
            "/usr/local/lib/python3.7/dist-packages/sklearn/utils/validation.py:760: DataConversionWarning: A column-vector y was passed when a 1d array was expected. Please change the shape of y to (n_samples, ), for example using ravel().\n",
            "  y = column_or_1d(y, warn=True)\n"
          ],
          "name": "stderr"
        },
        {
          "output_type": "execute_result",
          "data": {
            "text/plain": [
              "SVC(C=100, break_ties=False, cache_size=200, class_weight=None, coef0=0.0,\n",
              "    decision_function_shape='ovr', degree=3, gamma=0.5, kernel='rbf',\n",
              "    max_iter=-1, probability=False, random_state=None, shrinking=True,\n",
              "    tol=0.001, verbose=False)"
            ]
          },
          "metadata": {
            "tags": []
          },
          "execution_count": 343
        }
      ]
    },
    {
      "cell_type": "code",
      "metadata": {
        "id": "r2uT67W6la4Q"
      },
      "source": [
        "Y_pred = classifier.predict(X_test)"
      ],
      "execution_count": null,
      "outputs": []
    },
    {
      "cell_type": "code",
      "metadata": {
        "colab": {
          "base_uri": "https://localhost:8080/"
        },
        "id": "A5PNWzMyla4R",
        "outputId": "eb85a8f1-17ce-498f-ae85-bad602b2503d"
      },
      "source": [
        "from sklearn.metrics import mean_squared_error\n",
        "mean_squared_error(Y_test, Y_pred)"
      ],
      "execution_count": null,
      "outputs": [
        {
          "output_type": "execute_result",
          "data": {
            "text/plain": [
              "0.17328476017000607"
            ]
          },
          "metadata": {
            "tags": []
          },
          "execution_count": 345
        }
      ]
    },
    {
      "cell_type": "code",
      "metadata": {
        "colab": {
          "base_uri": "https://localhost:8080/"
        },
        "id": "XKVaHz9Bla4R",
        "outputId": "26974707-7e07-4dd4-877c-d147c5302417"
      },
      "source": [
        "#Root Mean Sqaured Error\n",
        "from math import sqrt\n",
        "rmsq = sqrt(mean_squared_error(Y_test, Y_pred))\n",
        "rmsq"
      ],
      "execution_count": null,
      "outputs": [
        {
          "output_type": "execute_result",
          "data": {
            "text/plain": [
              "0.4162748613236284"
            ]
          },
          "metadata": {
            "tags": []
          },
          "execution_count": 346
        }
      ]
    },
    {
      "cell_type": "code",
      "metadata": {
        "colab": {
          "base_uri": "https://localhost:8080/"
        },
        "id": "CZDdvAogla4R",
        "outputId": "16af4422-0a35-432c-f515-c15c7b658498"
      },
      "source": [
        "from sklearn.metrics import classification_report, confusion_matrix\n",
        "print(classification_report(Y_test,Y_pred))"
      ],
      "execution_count": null,
      "outputs": [
        {
          "output_type": "stream",
          "text": [
            "              precision    recall  f1-score   support\n",
            "\n",
            "           0       0.89      0.92      0.90      7300\n",
            "           1       0.17      0.14      0.15       935\n",
            "\n",
            "    accuracy                           0.83      8235\n",
            "   macro avg       0.53      0.53      0.53      8235\n",
            "weighted avg       0.81      0.83      0.82      8235\n",
            "\n"
          ],
          "name": "stdout"
        }
      ]
    },
    {
      "cell_type": "code",
      "metadata": {
        "colab": {
          "base_uri": "https://localhost:8080/",
          "height": 265
        },
        "id": "IczlrvrZla4S",
        "outputId": "59c60668-461e-4114-fb7e-4d3d4f2c0c36"
      },
      "source": [
        "cnf_matrix = confusion_matrix(Y_test,Y_pred)\n",
        "fig, ax = plt.subplots(1)\n",
        "ax = sns.heatmap(cnf_matrix, ax=ax, cmap=plt.cm.Reds, annot=True)\n",
        "plt.show()\n"
      ],
      "execution_count": null,
      "outputs": [
        {
          "output_type": "display_data",
          "data": {
            "image/png": "[encoded data removed]",
            "text/plain": [
              "<Figure size 432x288 with 2 Axes>"
            ]
          },
          "metadata": {
            "tags": [],
            "needs_background": "light"
          }
        }
      ]
    },
    {
      "cell_type": "markdown",
      "metadata": {
        "id": "GpjppJ3B68VO"
      },
      "source": [
        "C = 100, gamma = 1.5"
      ]
    },
    {
      "cell_type": "code",
      "metadata": {
        "colab": {
          "base_uri": "https://localhost:8080/"
        },
        "id": "O83RMJYKldN5",
        "outputId": "8a5f78c9-b3c7-4fd2-a0bb-870588fe6365"
      },
      "source": [
        "# Fitting SVM to the Training set\n",
        "from sklearn.svm import SVC\n",
        "classifier = SVC(kernel = 'rbf', C = 100, gamma = 1.5)\n",
        "classifier.fit(x_train, y_train)"
      ],
      "execution_count": null,
      "outputs": [
        {
          "output_type": "stream",
          "text": [
            "/usr/local/lib/python3.7/dist-packages/sklearn/utils/validation.py:760: DataConversionWarning: A column-vector y was passed when a 1d array was expected. Please change the shape of y to (n_samples, ), for example using ravel().\n",
            "  y = column_or_1d(y, warn=True)\n"
          ],
          "name": "stderr"
        },
        {
          "output_type": "execute_result",
          "data": {
            "text/plain": [
              "SVC(C=100, break_ties=False, cache_size=200, class_weight=None, coef0=0.0,\n",
              "    decision_function_shape='ovr', degree=3, gamma=1.5, kernel='rbf',\n",
              "    max_iter=-1, probability=False, random_state=None, shrinking=True,\n",
              "    tol=0.001, verbose=False)"
            ]
          },
          "metadata": {
            "tags": []
          },
          "execution_count": 349
        }
      ]
    },
    {
      "cell_type": "code",
      "metadata": {
        "id": "PcBcn8reldN6"
      },
      "source": [
        "Y_pred = classifier.predict(X_test)"
      ],
      "execution_count": null,
      "outputs": []
    },
    {
      "cell_type": "code",
      "metadata": {
        "colab": {
          "base_uri": "https://localhost:8080/"
        },
        "id": "ueAmkGSrldN6",
        "outputId": "6911c0cb-5541-42a9-87c4-abf2a6a0248b"
      },
      "source": [
        "from sklearn.metrics import mean_squared_error\n",
        "mean_squared_error(Y_test, Y_pred)"
      ],
      "execution_count": null,
      "outputs": [
        {
          "output_type": "execute_result",
          "data": {
            "text/plain": [
              "0.1540983606557377"
            ]
          },
          "metadata": {
            "tags": []
          },
          "execution_count": 351
        }
      ]
    },
    {
      "cell_type": "code",
      "metadata": {
        "colab": {
          "base_uri": "https://localhost:8080/"
        },
        "id": "LTJd8DQXldN6",
        "outputId": "af065cbe-7954-4df6-b4d0-bbdf2d2250ea"
      },
      "source": [
        "#Root Mean Sqaured Error\n",
        "from math import sqrt\n",
        "rmsq = sqrt(mean_squared_error(Y_test, Y_pred))\n",
        "rmsq"
      ],
      "execution_count": null,
      "outputs": [
        {
          "output_type": "execute_result",
          "data": {
            "text/plain": [
              "0.3925536404820846"
            ]
          },
          "metadata": {
            "tags": []
          },
          "execution_count": 352
        }
      ]
    },
    {
      "cell_type": "code",
      "metadata": {
        "colab": {
          "base_uri": "https://localhost:8080/"
        },
        "id": "VjGVbl-6ldN7",
        "outputId": "39befb24-b635-4d7b-d4f0-b8b4265193d7"
      },
      "source": [
        "from sklearn.metrics import classification_report, confusion_matrix\n",
        "print(classification_report(Y_test,Y_pred))"
      ],
      "execution_count": null,
      "outputs": [
        {
          "output_type": "stream",
          "text": [
            "              precision    recall  f1-score   support\n",
            "\n",
            "           0       0.89      0.95      0.92      7300\n",
            "           1       0.14      0.07      0.09       935\n",
            "\n",
            "    accuracy                           0.85      8235\n",
            "   macro avg       0.51      0.51      0.50      8235\n",
            "weighted avg       0.80      0.85      0.82      8235\n",
            "\n"
          ],
          "name": "stdout"
        }
      ]
    },
    {
      "cell_type": "code",
      "metadata": {
        "colab": {
          "base_uri": "https://localhost:8080/",
          "height": 265
        },
        "id": "fkk8rDasldN7",
        "outputId": "a2dfc093-798b-451c-cb05-73d197a98474"
      },
      "source": [
        "cnf_matrix = confusion_matrix(Y_test,Y_pred)\n",
        "fig, ax = plt.subplots(1)\n",
        "ax = sns.heatmap(cnf_matrix, ax=ax, cmap=plt.cm.Reds, annot=True)\n",
        "plt.show()\n"
      ],
      "execution_count": null,
      "outputs": [
        {
          "output_type": "display_data",
          "data": {
            "image/png": "[encoded data removed]",
            "text/plain": [
              "<Figure size 432x288 with 2 Axes>"
            ]
          },
          "metadata": {
            "tags": [],
            "needs_background": "light"
          }
        }
      ]
    },
    {
      "cell_type": "markdown",
      "metadata": {
        "id": "KPAlisX26_Y8"
      },
      "source": [
        " C = 100, gamma = 1"
      ]
    },
    {
      "cell_type": "code",
      "metadata": {
        "colab": {
          "base_uri": "https://localhost:8080/"
        },
        "id": "P2KrTC0vlfSr",
        "outputId": "918b499e-7154-469e-9a56-c90583622cda"
      },
      "source": [
        "# Fitting SVM to the Training set\n",
        "from sklearn.svm import SVC\n",
        "classifier = SVC(kernel = 'rbf', C = 100, gamma = 1)\n",
        "classifier.fit(x_train, y_train)"
      ],
      "execution_count": null,
      "outputs": [
        {
          "output_type": "stream",
          "text": [
            "/usr/local/lib/python3.7/dist-packages/sklearn/utils/validation.py:760: DataConversionWarning: A column-vector y was passed when a 1d array was expected. Please change the shape of y to (n_samples, ), for example using ravel().\n",
            "  y = column_or_1d(y, warn=True)\n"
          ],
          "name": "stderr"
        },
        {
          "output_type": "execute_result",
          "data": {
            "text/plain": [
              "SVC(C=100, break_ties=False, cache_size=200, class_weight=None, coef0=0.0,\n",
              "    decision_function_shape='ovr', degree=3, gamma=1, kernel='rbf', max_iter=-1,\n",
              "    probability=False, random_state=None, shrinking=True, tol=0.001,\n",
              "    verbose=False)"
            ]
          },
          "metadata": {
            "tags": []
          },
          "execution_count": 355
        }
      ]
    },
    {
      "cell_type": "code",
      "metadata": {
        "id": "nklL-oKTlfSs"
      },
      "source": [
        "Y_pred = classifier.predict(X_test)"
      ],
      "execution_count": null,
      "outputs": []
    },
    {
      "cell_type": "code",
      "metadata": {
        "colab": {
          "base_uri": "https://localhost:8080/"
        },
        "id": "rXQ_EQbHlfSs",
        "outputId": "5caa36b9-ae8a-40ce-94de-096ef5e16f86"
      },
      "source": [
        "from sklearn.metrics import mean_squared_error\n",
        "mean_squared_error(Y_test, Y_pred)"
      ],
      "execution_count": null,
      "outputs": [
        {
          "output_type": "execute_result",
          "data": {
            "text/plain": [
              "0.16357012750455374"
            ]
          },
          "metadata": {
            "tags": []
          },
          "execution_count": 357
        }
      ]
    },
    {
      "cell_type": "code",
      "metadata": {
        "colab": {
          "base_uri": "https://localhost:8080/"
        },
        "id": "ggjPoFxolfSt",
        "outputId": "214edef7-92fc-47cf-91f8-27f6c4ebcb5a"
      },
      "source": [
        "#Root Mean Sqaured Error\n",
        "from math import sqrt\n",
        "rmsq = sqrt(mean_squared_error(Y_test, Y_pred))\n",
        "rmsq"
      ],
      "execution_count": null,
      "outputs": [
        {
          "output_type": "execute_result",
          "data": {
            "text/plain": [
              "0.40443803914141624"
            ]
          },
          "metadata": {
            "tags": []
          },
          "execution_count": 358
        }
      ]
    },
    {
      "cell_type": "code",
      "metadata": {
        "colab": {
          "base_uri": "https://localhost:8080/"
        },
        "id": "RVN44i4dlfSt",
        "outputId": "dfc69d7f-58b0-4a9e-b303-75ad219f22dc"
      },
      "source": [
        "from sklearn.metrics import classification_report, confusion_matrix\n",
        "print(classification_report(Y_test,Y_pred))"
      ],
      "execution_count": null,
      "outputs": [
        {
          "output_type": "stream",
          "text": [
            "              precision    recall  f1-score   support\n",
            "\n",
            "           0       0.89      0.93      0.91      7300\n",
            "           1       0.14      0.09      0.11       935\n",
            "\n",
            "    accuracy                           0.84      8235\n",
            "   macro avg       0.51      0.51      0.51      8235\n",
            "weighted avg       0.80      0.84      0.82      8235\n",
            "\n"
          ],
          "name": "stdout"
        }
      ]
    },
    {
      "cell_type": "code",
      "metadata": {
        "colab": {
          "base_uri": "https://localhost:8080/",
          "height": 265
        },
        "id": "H5mp7vtYlfSt",
        "outputId": "af509235-af94-4092-aacf-919241626d6c"
      },
      "source": [
        "cnf_matrix = confusion_matrix(Y_test,Y_pred)\n",
        "fig, ax = plt.subplots(1)\n",
        "ax = sns.heatmap(cnf_matrix, ax=ax, cmap=plt.cm.Reds, annot=True)\n",
        "plt.show()\n"
      ],
      "execution_count": null,
      "outputs": [
        {
          "output_type": "display_data",
          "data": {
            "image/png": "[encoded data removed]",
            "text/plain": [
              "<Figure size 432x288 with 2 Axes>"
            ]
          },
          "metadata": {
            "tags": [],
            "needs_background": "light"
          }
        }
      ]
    }
  ]
}